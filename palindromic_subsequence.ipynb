{
 "cells": [
  {
   "cell_type": "code",
   "execution_count": null,
   "metadata": {
    "collapsed": true
   },
   "outputs": [],
   "source": [
    "def count_palindromic_substring(str1):\n",
    "    n = len(str1)\n",
    "    # Declare a lookup table 2-D table which that\n",
    "    # the answers of the tabulation\n",
    "    lookup_table = [[False for _ in range(n)] for _ in range(n)]\n",
    "    ps_count = 0\n",
    "\n",
    "    # start filling the lookup table with the results of the\n",
    "    # palindromic substrings\n",
    "    for i in range(n - 1, -1, -1):\n",
    "        for j in range(i, n):\n",
    "            # start checking substrings from i to j\n",
    "            # if they are palindrome or not\n",
    "            if str1[i] == str1[j]:\n",
    "                # if the substring is palindrome set the\n",
    "                # value in table as True if we have not checked it before\n",
    "                if i + 1 >= j:\n",
    "                    lookup_table[i][j] = True\n",
    "                # otherwise fill it with the previously stored value\n",
    "                else:\n",
    "                    lookup_table[i][j] = lookup_table[i + 1][j - 1]\n",
    "            # if the substring is a palindrome increment the count of\n",
    "            # the palindromic substrings by 1\n",
    "            if lookup_table[i][j]:\n",
    "                ps_count += 1\n",
    "\n",
    "    return ps_count"
   ]
  },
  {
   "cell_type": "code",
   "execution_count": null,
   "outputs": [],
   "source": [
    "def longest_palindromic_subsequence(s):\n",
    "    # Initializing a lookup table of dimensions len(s) x len(s)\n",
    "    lookup_table = [[0 for x in range(len(s))] for x in range(len(s))]\n",
    "\n",
    "    # Every sequence with one element is a palindrome of length 1\n",
    "    for i in range(len(s)):\n",
    "        lookup_table[i][i] = 1\n",
    "\n",
    "    for start_index in reversed(range(len(s))):\n",
    "        for end_index in range(start_index + 1, len(s)):\n",
    "\n",
    "            # case 1: elements at the beginning and the end are the same\n",
    "            if s[start_index] == s[end_index]:\n",
    "                lookup_table[start_index][end_index] = 2 + lookup_table[start_index + 1][end_index - 1]\n",
    "\n",
    "            # case 2: skip one element either from the beginning or the end\n",
    "            else:\n",
    "                lookup_table[start_index][end_index] = max(lookup_table[start_index + 1][end_index],\n",
    "                                                           lookup_table[start_index][end_index - 1])\n",
    "\n",
    "    return lookup_table[0][len(s) - 1]"
   ],
   "metadata": {
    "collapsed": false
   }
  },
  {
   "cell_type": "code",
   "execution_count": null,
   "outputs": [],
   "source": [
    "def find_longest_palindromic_subsequence_length(s):\n",
    "    # initializing a lookup table of dimensions len(s) * len(s)\n",
    "    dp = [[0 for x in range(len(s))] for x in range(len(s))]\n",
    "\n",
    "    # every string with one character is always a palindrome\n",
    "    for i in range(len(s)):\n",
    "        dp[i][i] = 1\n",
    "\n",
    "    for start in reversed(range(len(s) - 1)):\n",
    "        for end in range(start + 1, len(s)):\n",
    "            # the characters at the start and end indexes match\n",
    "            if s[start] == s[end]:\n",
    "                substring_length = end - start + 1\n",
    "\n",
    "                # if the substring length is 2 or the remaining substring is a palindrome\n",
    "                if substring_length == 2 or substring_length - 2 == dp[start + 1][end - 1]:\n",
    "                    dp[start][end] = substring_length\n",
    "                else:\n",
    "                    # skip one element either from the beginning or end and select the maximum resultant value\n",
    "                    dp[start][end] = max(dp[start + 1][end], dp[start][end - 1])\n",
    "            else:\n",
    "                # skip one element either from the beginning or end and select the maximum resultant value\n",
    "                dp[start][end] = max(dp[start + 1][end], dp[start][end - 1])\n",
    "\n",
    "    return dp[0][len(s) - 1]"
   ],
   "metadata": {
    "collapsed": false
   }
  },
  {
   "cell_type": "code",
   "execution_count": null,
   "outputs": [],
   "source": [
    "def minimum_deletions(s):\n",
    "    length = len(s)\n",
    "    return length - longest_palindromic_subsequence(s)\n",
    "\n",
    "\n",
    "# Returns the LPS\n",
    "def longest_palindromic_subsequence(s):\n",
    "    # Initializing a lookup table of dimensions len(s) x len(s)\n",
    "    lookup_table = [[0 for x in range(len(s))] for x in range(len(s))]\n",
    "\n",
    "    # Every sequence with one element is a palindrome of length 1\n",
    "    for i in range(len(s)):\n",
    "        lookup_table[i][i] = 1\n",
    "\n",
    "    for start in reversed(range(len(s))):\n",
    "        for end in range(start + 1, len(s)):\n",
    "            if s[start] == s[end]:\n",
    "                lookup_table[start][end] = 2 + lookup_table[start + 1][end - 1]\n",
    "            else:\n",
    "                c1 = lookup_table[start][end - 1]\n",
    "                c2 = lookup_table[start + 1][end]\n",
    "                lookup_table[start][end] = max(c1, c2)\n",
    "\n",
    "    return lookup_table[0][len(s) - 1]"
   ],
   "metadata": {
    "collapsed": false
   }
  },
  {
   "cell_type": "code",
   "execution_count": null,
   "outputs": [],
   "source": [
    "import math\n",
    "\n",
    "\n",
    "def min_cuts_helper(s, palindrome_table, dp):\n",
    "    n = len(s)\n",
    "\n",
    "    # Filling the palindrome table\n",
    "    for i in range(n - 1, -1, -1):\n",
    "        for j in range(i + 1, n):\n",
    "            if s[i] == s[j]:\n",
    "                # If the string consists of two characters or if the remaining string, str[i + 1 : j - 1]\n",
    "                # is a palindrome, str[i : j] must also be a palindrome\n",
    "                if j - i == 1 or palindrome_table[i + 1][j - 1]:\n",
    "                    palindrome_table[i][j] = 1\n",
    "\n",
    "    # Traversing the dp table in reverse order\n",
    "    for i in range(n - 1, -1, -1):\n",
    "\n",
    "        # If str[i : n - 1] is a palindrome, no cuts need to be performed,\n",
    "        # so dp[i] = 0\n",
    "        if palindrome_table[i][n - 1] == 1:\n",
    "            dp[i] = 0\n",
    "\n",
    "        # Otherwise, we traverse the remaining string to check if it contains\n",
    "        # a palindrome and perform the minimum number of cuts on it to update\n",
    "        # dp[i]\n",
    "        else:\n",
    "            for j in range(n - 2, i - 1, -1):\n",
    "                if palindrome_table[i][j] == 1:\n",
    "                    dp[i] = min(dp[i], 1 + dp[j + 1])\n",
    "\n",
    "    # We return dp[0], as it contains the minimum number of cuts over the\n",
    "    # entire string\n",
    "    return dp[0]\n",
    "\n",
    "\n",
    "def min_cuts(s):\n",
    "    n = len(s)\n",
    "\n",
    "    palindrome_table = [[1 if i == j else 0 for i in range(n)] for j in range(n)]\n",
    "    dp = [math.inf] * n\n",
    "\n",
    "    return min_cuts_helper(s, palindrome_table, dp)"
   ],
   "metadata": {
    "collapsed": false
   }
  }
 ],
 "metadata": {
  "kernelspec": {
   "display_name": "Python 3",
   "language": "python",
   "name": "python3"
  },
  "language_info": {
   "codemirror_mode": {
    "name": "ipython",
    "version": 2
   },
   "file_extension": ".py",
   "mimetype": "text/x-python",
   "name": "python",
   "nbconvert_exporter": "python",
   "pygments_lexer": "ipython2",
   "version": "2.7.6"
  }
 },
 "nbformat": 4,
 "nbformat_minor": 0
}
