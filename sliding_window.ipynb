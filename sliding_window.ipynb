{
 "cells": [
  {
   "cell_type": "markdown",
   "source": [
    "Finding average of subarray of size k using sliding window\n",
    "Time Complexity: O(n)\n",
    "Space Complexity: O(1)"
   ],
   "metadata": {
    "collapsed": false
   }
  },
  {
   "cell_type": "code",
   "execution_count": null,
   "outputs": [],
   "source": [
    "def find_average_subarray(arr, k):\n",
    "    result = []\n",
    "    window_sum = 0\n",
    "    window_start = 0\n",
    "\n",
    "    for window_end in range(len(arr)):\n",
    "        window_sum += arr[window_end]\n",
    "        if window_end >= k - 1:\n",
    "            result.append(window_sum / k)\n",
    "            window_sum -= arr[window_start]\n",
    "            window_start += 1\n",
    "\n",
    "    return result"
   ],
   "metadata": {
    "collapsed": false
   }
  },
  {
   "cell_type": "markdown",
   "source": [
    "Problem Statement #\n",
    "Given an array of positive numbers and a positive number ‘k’,\n",
    "  find the maximum sum of any contiguous subarray of size ‘k’.\n",
    "\n",
    "Example 1:\n",
    "\n",
    "Input: [2, 1, 5, 1, 3, 2], k=3\n",
    "Output: 9\n",
    "Explanation: Subarray with maximum sum is [5, 1, 3].\n",
    "\n",
    "Example 2:\n",
    "\n",
    "Input: [2, 3, 4, 1, 5], k=2\n",
    "Output: 7\n",
    "Explanation: Subarray with maximum sum is [3, 4]."
   ],
   "metadata": {
    "collapsed": false
   }
  },
  {
   "cell_type": "code",
   "execution_count": null,
   "outputs": [],
   "source": [
    "def max_sub_array_of_size_k(k, arr):\n",
    "    max_sum, window_sum = 0, 0\n",
    "    window_start = 0\n",
    "\n",
    "    for window_end in range(len(arr)):\n",
    "        window_sum += arr[window_end]  # add the next element\n",
    "        # slide the window, we don't need to slide if we've not hit the required window size of 'k'\n",
    "        if window_end >= k - 1:\n",
    "            max_sum = max(max_sum, window_sum)\n",
    "            window_sum -= arr[window_start]  # subtract the element going out\n",
    "            window_start += 1  # slide the window ahead\n",
    "    return max_sum"
   ],
   "metadata": {
    "collapsed": false
   }
  },
  {
   "cell_type": "markdown",
   "source": [
    "Problem Statement\n",
    "Given an array of characters where each character represents a fruit tree, you are given two baskets and your goal is\n",
    "to put maximum number of fruits in each basket.\n",
    "\n",
    "The only restriction is that each basket can have only one type of fruit.\n",
    "\n",
    "You can start with any tree, but once you have started you can’t skip a tree.\n",
    "\n",
    "You will pick one fruit from each tree until you cannot, i.e.,\n",
    "you will stop when you have to pick from a third fruit type.\n",
    "\n",
    "Write a function to return the maximum number of fruits in both the baskets.\n",
    "\n",
    "Example 1:\n",
    "\n",
    "Input: Fruit=['A', 'B', 'C', 'A', 'C']\n",
    "Output: 3\n",
    "Explanation: We can put 2 'C' in one basket and one 'A' in the other from the subarray ['C', 'A', 'C']\n",
    "\n",
    "Example 2:\n",
    "\n",
    "Input: Fruit=['A', 'B', 'C', 'B', 'B', 'C']\n",
    "Output: 5\n",
    "Explanation: We can put 3 'B' in one basket and two 'C' in the other basket.\n",
    "This can be done if we start with the second letter: ['B', 'C', 'B', 'B', 'C']"
   ],
   "metadata": {
    "collapsed": false
   }
  },
  {
   "cell_type": "code",
   "execution_count": null,
   "outputs": [],
   "source": [
    "def fruits_into_baskets(fruits):\n",
    "    max_len, win_start = 0, 0\n",
    "    dict_fruits = {}\n",
    "\n",
    "    for win_end in range(len(fruits)):\n",
    "        if fruits[win_end] not in dict_fruits:\n",
    "            dict_fruits[fruits[win_end]] = 1\n",
    "        else:\n",
    "            dict_fruits[fruits[win_end]] += 1\n",
    "\n",
    "        while len(dict_fruits) > 2:\n",
    "            if dict_fruits[fruits[win_start]] == 1:\n",
    "                del dict_fruits[fruits[win_start]]\n",
    "            else:\n",
    "                dict_fruits[fruits[win_start]] -= 1\n",
    "            win_start += 1\n",
    "\n",
    "        if len(dict_fruits) == 2:\n",
    "            max_len = max(max_len, sum(dict_fruits.values()))\n",
    "\n",
    "    return max_len"
   ],
   "metadata": {
    "collapsed": false
   }
  },
  {
   "cell_type": "markdown",
   "source": [
    "Problem Statement\n",
    "Given an array containing 0s and 1s, if you are allowed to replace no more than ‘k’ 0s with 1s, find the length of the longest contiguous subarray having all 1s.\n",
    "\n",
    "Example 1:\n",
    "\n",
    "Input: Array=[0, 1, 1, 0, 0, 0, 1, 1, 0, 1, 1], k=2\n",
    "Output: 6\n",
    "Explanation: Replace the '0' at index 5 and 8 to have the longest contiguous subarray of 1s having length 6.\n",
    "\n",
    "Example 2:\n",
    "\n",
    "Input: Array=[0, 1, 0, 0, 1, 1, 0, 1, 1, 0, 0, 1, 1], k=3\n",
    "Output: 9\n",
    "Explanation: Replace the '0' at index 6, 9, and 10 to have the longest contiguous subarray of 1s having length 9."
   ],
   "metadata": {
    "collapsed": false
   }
  },
  {
   "cell_type": "code",
   "execution_count": null,
   "outputs": [],
   "source": [
    "def length_of_longest_substring(arr, k):\n",
    "    win_start, max_len, cnt = 0, 0, 0\n",
    "    zero_position = [0] * (k + 1)\n",
    "\n",
    "    for win_end in range(len(arr)):\n",
    "        if arr[win_end] == 0:\n",
    "            cnt += 1\n",
    "            zero_position[cnt - 1] = win_end\n",
    "\n",
    "            if cnt > k:\n",
    "                win_start = zero_position[0] + 1\n",
    "                zero_position = zero_position[1:] + [0]\n",
    "                cnt -= 1\n",
    "\n",
    "        max_len = max(max_len, win_end - win_start + 1)\n",
    "\n",
    "    return max_len"
   ],
   "metadata": {
    "collapsed": false
   }
  },
  {
   "cell_type": "markdown",
   "source": [
    "Problem Statement\n",
    "Given an array of positive numbers and a positive number ‘S’, find the length of the smallest contiguous subarray whose sum is greater than or equal to ‘S’. Return 0, if no such subarray exists.\n",
    "\n",
    "Example 1:\n",
    "\n",
    "Input: [2, 1, 5, 2, 3, 2], S=7\n",
    "Output: 2\n",
    "Explanation: The smallest subarray with a sum greater than or equal to '7' is [5, 2].\n",
    "\n",
    "Example 2:\n",
    "\n",
    "Input: [2, 1, 5, 2, 8], S=7\n",
    "Output: 1\n",
    "Explanation: The smallest sub-array with a sum greater than or equal to '7' is [8].\n",
    "\n",
    "Example 3:\n",
    "\n",
    "Input: [3, 4, 1, 1, 6], S=8\n",
    "Output: 3\n",
    "Explanation: Smallest sub-arrays with a sum greater than or equal to '8' are [3, 4, 1] or [1, 1, 6]."
   ],
   "metadata": {
    "collapsed": false
   }
  },
  {
   "cell_type": "code",
   "execution_count": null,
   "outputs": [],
   "source": [
    "def smallest_subarray_with_given_sum(given_sum, arr):\n",
    "    window_sum = 0\n",
    "    min_length = math.inf\n",
    "    window_start = 0\n",
    "\n",
    "    for window_end in range(0, len(arr)):\n",
    "        window_sum += arr[window_end]  # add the next element\n",
    "        # shrink the window as small as possible until the 'window_sum' is smaller than 's'\n",
    "        while window_sum >= given_sum:\n",
    "            min_length = min(min_length, window_end - window_start + 1)\n",
    "            window_sum -= arr[window_start]\n",
    "            window_start += 1\n",
    "    if min_length == math.inf:\n",
    "        return 0\n",
    "    return min_length"
   ],
   "metadata": {
    "collapsed": false
   }
  },
  {
   "cell_type": "markdown",
   "source": [
    "Problem Statement #\n",
    "Given a string, find the length of the longest substring in it with no more than K distinct characters.\n",
    "\n",
    "Example 1:\n",
    "\n",
    "Input: String=\"araaci\", K=2\n",
    "Output: 4\n",
    "Explanation: The longest substring with no more than '2' distinct characters is \"araa\".\n",
    "\n",
    "Example 2:\n",
    "\n",
    "Input: String=\"araaci\", K=1\n",
    "Output: 2\n",
    "Explanation: The longest substring with no more than '1' distinct characters is \"aa\".\n",
    "\n",
    "Example 3:\n",
    "\n",
    "Input: String=\"cbbebi\", K=3\n",
    "Output: 5\n",
    "Explanation: The longest substrings with no more than '3' distinct characters are \"cbbeb\" & \"bbebi\"."
   ],
   "metadata": {
    "collapsed": false
   }
  },
  {
   "cell_type": "code",
   "execution_count": null,
   "outputs": [],
   "source": [
    "def longest_substring_with_k_distinct(str, k):\n",
    "  dict_arr={}\n",
    "  max_len, win_start = 0, 0\n",
    "\n",
    "  for win_end in range(len(str)):\n",
    "    if str[win_end] not in dict_arr:\n",
    "      dict_arr[str[win_end]]=1\n",
    "    else:\n",
    "      dict_arr[str[win_end]] +=1\n",
    "\n",
    "    while len(dict_arr) > k:\n",
    "      if dict_arr[str[win_start]] == 1:\n",
    "        del dict_arr[str[win_start]]\n",
    "      else:\n",
    "        dict_arr[str[win_start]] -= 1\n",
    "      win_start += 1\n",
    "\n",
    "    if len(dict_arr) == k:\n",
    "      max_len=max(max_len,sum(dict_arr.values()))\n",
    "\n",
    "  return max_len"
   ],
   "metadata": {
    "collapsed": false
   }
  },
  {
   "cell_type": "markdown",
   "source": [
    "Problem Statement\n",
    "Given a string with lowercase letters only, if you are allowed to replace no more than ‘k’ letters with any letter, find the length of the longest substring having the same letters after replacement.\n",
    "\n",
    "Example 1:\n",
    "\n",
    "Input: String=\"aabccbb\", k=2\n",
    "Output: 5\n",
    "Explanation: Replace the two 'c' with 'b' to have a longest repeating substring \"bbbbb\".\n",
    "\n",
    "Example 2:\n",
    "\n",
    "Input: String=\"abbcb\", k=1\n",
    "Output: 4\n",
    "Explanation: Replace the 'c' with 'b' to have a longest repeating substring \"bbbb\".\n",
    "\n",
    "Example 3:\n",
    "\n",
    "Input: String=\"abccde\", k=1\n",
    "Output: 3\n",
    "Explanation: Replace the 'b' or 'd' with 'c' to have the longest repeating substring \"ccc\"."
   ],
   "metadata": {
    "collapsed": false
   }
  },
  {
   "cell_type": "code",
   "execution_count": null,
   "outputs": [],
   "source": [
    "def length_of_longest_substring(str, k):\n",
    "  # TODO: Write your code here\n",
    "  win_start, max_len, cnt = 0, 0, 0\n",
    "  dict_str={}\n",
    "\n",
    "  for win_end in range(len(str)):\n",
    "    if str[win_end] not in dict_str:\n",
    "      dict_str[str[win_end]] = 1\n",
    "    else:\n",
    "      dict_str[str[win_end]] += 1\n",
    "\n",
    "    cnt=max(dict_str.values())\n",
    "    while win_end - win_start + 1 -cnt > k:\n",
    "      dict_str[str[win_start]] -= 1\n",
    "      win_start +=1\n",
    "\n",
    "    max_len=max(max_len, win_end - win_start + 1)\n",
    "\n",
    "  return max_len"
   ],
   "metadata": {
    "collapsed": false
   }
  },
  {
   "cell_type": "markdown",
   "source": [
    "Permutation in a String (hard)\n",
    "Given a string and a pattern, find out if the string contains any permutation of the pattern.\n",
    "\n",
    "Permutation is defined as the re-arranging of the characters of the string. For example, “abc” has the following six permutations:\n",
    "\n",
    "abc\n",
    "acb\n",
    "bac\n",
    "bca\n",
    "cab\n",
    "cba\n",
    "If a string has ‘n’ distinct characters it will have n!n! permutations.\n",
    "\n",
    "Example 1:\n",
    "\n",
    "Input: String=\"oidbcaf\", Pattern=\"abc\"\n",
    "Output: true\n",
    "Explanation: The string contains \"bca\" which is a permutation of the given pattern.\n",
    "\n",
    "Example 2:\n",
    "\n",
    "Input: String=\"odicf\", Pattern=\"dc\"\n",
    "Output: false\n",
    "Explanation: No permutation of the pattern is present in the given string as a substring.\n",
    "\n",
    "Example 3:\n",
    "\n",
    "Input: String=\"bcdxabcdy\", Pattern=\"bcdyabcdx\"\n",
    "Output: true\n",
    "Explanation: Both the string and the pattern are a permutation of each other.\n",
    "\n",
    "Example 4:\n",
    "\n",
    "Input: String=\"aaacb\", Pattern=\"abc\"\n",
    "Output: true\n",
    "Explanation: The string contains \"acb\" which is a permutation of the given pattern."
   ],
   "metadata": {
    "collapsed": false
   }
  },
  {
   "cell_type": "code",
   "execution_count": null,
   "outputs": [],
   "source": [
    "def find_permutation(str, pattern):\n",
    "    p_dict = {}\n",
    "    s_dict = {}\n",
    "    for p in pattern:\n",
    "        if p not in p_dict:\n",
    "            p_dict[p] = 1\n",
    "        else:\n",
    "            p_dict[p] += 1\n",
    "\n",
    "    for s in range(len(str)):\n",
    "        if s < len(pattern):\n",
    "            if str[s] not in s_dict:\n",
    "                s_dict[str[s]] = 1\n",
    "            else:\n",
    "                s_dict[str[s]] += 1\n",
    "\n",
    "        else:\n",
    "            if s_dict[str[s - len(pattern)]] == 1:\n",
    "                del s_dict[str[s - len(pattern)]]\n",
    "            else:\n",
    "                s_dict[str[s - len(pattern)]] -= 1\n",
    "\n",
    "            if str[s] not in s_dict:\n",
    "                s_dict[str[s]] = 1\n",
    "            else:\n",
    "                s_dict[str[s]] += 1\n",
    "\n",
    "        if s_dict == p_dict:\n",
    "            return True\n",
    "    return False"
   ],
   "metadata": {
    "collapsed": false
   }
  },
  {
   "cell_type": "markdown",
   "source": [
    "String Anagrams (hard)\n",
    "Given a string and a pattern, find all anagrams of the pattern in the given string.\n",
    "\n",
    "Anagram is actually a Permutation of a string. For example, “abc” has the following six anagrams:\n",
    "\n",
    "abc\n",
    "acb\n",
    "bac\n",
    "bca\n",
    "cab\n",
    "cba\n",
    "Write a function to return a list of starting indices of the anagrams of the pattern in the given string.\n",
    "\n",
    "Example 1:\n",
    "\n",
    "Input: String=\"ppqp\", Pattern=\"pq\"\n",
    "Output: [1, 2]\n",
    "Explanation: The two anagrams of the pattern in the given string are \"pq\" and \"qp\".\n",
    "\n",
    "Example 2:\n",
    "\n",
    "Input: String=\"abbcabc\", Pattern=\"abc\"\n",
    "Output: [2, 3, 4]\n",
    "Explanation: The three anagrams of the pattern in the given string are \"bca\", \"cab\", and \"abc\"."
   ],
   "metadata": {
    "collapsed": false
   }
  },
  {
   "cell_type": "code",
   "execution_count": null,
   "outputs": [],
   "source": [
    "def find_string_anagrams(str, pattern):\n",
    "  result_indexes = []\n",
    "  # TODO: Write your code here\n",
    "  p_dict={}\n",
    "  s_dict={}\n",
    "  for p in pattern:\n",
    "    if p not in p_dict:\n",
    "      p_dict[p] = 1\n",
    "    else:\n",
    "      p_dict[p] += 1\n",
    "\n",
    "  for s in range(len(str)):\n",
    "    if s<len(pattern):\n",
    "      if str[s] not in s_dict:\n",
    "        s_dict[str[s]] = 1\n",
    "      else:\n",
    "        s_dict[str[s]] += 1\n",
    "\n",
    "    else:\n",
    "      if s_dict[str[s-len(pattern)]] == 1 :\n",
    "        del s_dict[str[s-len(pattern)]]\n",
    "      else:\n",
    "        s_dict[str[s-len(pattern)]] -= 1\n",
    "\n",
    "      if str[s] not in s_dict:\n",
    "        s_dict[str[s]] = 1\n",
    "      else:\n",
    "        s_dict[str[s]] += 1\n",
    "\n",
    "    if s_dict == p_dict:\n",
    "      result_indexes.append(s-len(pattern)+1)\n",
    "  return result_indexes"
   ],
   "metadata": {
    "collapsed": false
   }
  },
  {
   "cell_type": "markdown",
   "source": [
    "Smallest Window containing Substring (hard)\n",
    "Given a string and a pattern, find the smallest substring in the given string which has all the characters of the given pattern.\n",
    "\n",
    "Example 1:\n",
    "\n",
    "Input: String=\"aabdec\", Pattern=\"abc\"\n",
    "Output: \"abdec\"\n",
    "Explanation: The smallest substring having all characters of the pattern is \"abdec\"\n",
    "\n",
    "Example 2:\n",
    "\n",
    "Input: String=\"abdabca\", Pattern=\"abc\"\n",
    "Output: \"abc\"\n",
    "Explanation: The smallest substring having all characters of the pattern is \"abc\".\n",
    "\n",
    "Example 3:\n",
    "\n",
    "Input: String=\"adcad\", Pattern=\"abc\"\n",
    "Output: \"\"\n",
    "Explanation: No substring in the given string has all characters of the pattern."
   ],
   "metadata": {
    "collapsed": false
   }
  },
  {
   "cell_type": "code",
   "execution_count": null,
   "outputs": [],
   "source": [
    "def find_substring(str, pattern):\n",
    "  # TODO: Write your code here\n",
    "  p_dict = {}\n",
    "  s_dict = {}\n",
    "  result = \"\"\n",
    "\n",
    "  win_start, min_len = 0, math.inf\n",
    "\n",
    "  for p in pattern:\n",
    "    if p not in p_dict:\n",
    "      p_dict[p] = 1\n",
    "    else:\n",
    "      p_dict[p] += 1\n",
    "\n",
    "  for win_end in range(len(str)):\n",
    "    if str[win_end] not in s_dict:\n",
    "      s_dict[str[win_end]] = 1\n",
    "    else:\n",
    "      s_dict[str[win_end]] += 1\n",
    "\n",
    "    print(s_dict)\n",
    "\n",
    "    while set(p_dict.keys()).issubset(set(s_dict.keys())):\n",
    "      if win_end - win_start + 1 < min_len:\n",
    "        min_len = win_end - win_start + 1\n",
    "        if win_end == len(str) - 1:\n",
    "          result = str[win_start:]\n",
    "        else:\n",
    "          result = str[win_start:win_end + 1]\n",
    "\n",
    "      if s_dict[str[win_start]] == 1:\n",
    "        del s_dict[str[win_start]]\n",
    "      else:\n",
    "        s_dict[str[win_start]] -= 1\n",
    "      win_start += 1\n",
    "\n",
    "  return result"
   ],
   "metadata": {
    "collapsed": false
   }
  },
  {
   "cell_type": "markdown",
   "source": [
    "Words Concatenation (hard)\n",
    "Given a string and a list of words, find all the starting indices of substrings in the given string that are a concatenation of all the given words exactly once without any overlapping of words. It is given that all words are of the same length.\n",
    "\n",
    "Example 1:\n",
    "\n",
    "Input: String=\"catfoxcat\", Words=[\"cat\", \"fox\"]\n",
    "Output: [0, 3]\n",
    "Explanation: The two substring containing both the words are \"catfox\" & \"foxcat\".\n",
    "\n",
    "Example 2:\n",
    "\n",
    "Input: String=\"catcatfoxfox\", Words=[\"cat\", \"fox\"]\n",
    "Output: [3]\n",
    "Explanation: The only substring containing both the words is \"catfox\"."
   ],
   "metadata": {
    "collapsed": false
   }
  },
  {
   "cell_type": "code",
   "execution_count": null,
   "outputs": [],
   "source": [
    "def find_word_concatenation(str, words):\n",
    "  result_indices = []\n",
    "  word_count = len(words)\n",
    "  word_len=len(words[0])\n",
    "\n",
    "  for i in range(len(str)-word_count*word_len+1):\n",
    "    cnt = 0\n",
    "    curr=str[i:i+word_count*word_len]\n",
    "\n",
    "    for j in range(word_count):\n",
    "\n",
    "      if words[j] not in curr:\n",
    "        break\n",
    "      else:\n",
    "        cnt += 1\n",
    "\n",
    "    if cnt== word_count:\n",
    "      result_indices.append(i)\n",
    "\n",
    "  return result_indices"
   ],
   "metadata": {
    "collapsed": false
   }
  }
 ],
 "metadata": {
  "kernelspec": {
   "display_name": "Python 3",
   "language": "python",
   "name": "python3"
  },
  "language_info": {
   "codemirror_mode": {
    "name": "ipython",
    "version": 2
   },
   "file_extension": ".py",
   "mimetype": "text/x-python",
   "name": "python",
   "nbconvert_exporter": "python",
   "pygments_lexer": "ipython2",
   "version": "2.7.6"
  }
 },
 "nbformat": 4,
 "nbformat_minor": 0
}
