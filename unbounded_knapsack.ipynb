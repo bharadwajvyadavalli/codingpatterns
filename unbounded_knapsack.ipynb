{
 "cells": [
  {
   "cell_type": "code",
   "execution_count": null,
   "outputs": [],
   "source": [
    "def unbounded_knapsack(weights, values, n, capacity):\n",
    "    dp = [[0 for i in range(capacity + 1)] for j in range(n + 1)]\n",
    "\n",
    "    # Base case\n",
    "    for i in range(weights[0], capacity + 1):\n",
    "        dp[0][i] = (i // weights[0]) * values[0]\n",
    "\n",
    "    for i in range(1, n):\n",
    "        for j in range(0, capacity + 1):\n",
    "\n",
    "            # Check if the weight of the nth item is less than capacity\n",
    "            # If it is, we have two choices\n",
    "            # 1) Include the item\n",
    "            # 2) Don't include the item\n",
    "            if (weights[i] <= j):\n",
    "                taken = values[i] + dp[i][j - weights[i]]\n",
    "                not_taken = 0 + dp[i - 1][j]\n",
    "                dp[i][j] = max(taken, not_taken)\n",
    "\n",
    "            # If weight of the nth item is greater than the capacity\n",
    "            # Don't include the item\n",
    "            else:\n",
    "                dp[i][j] = dp[i - 1][j]\n",
    "\n",
    "    return dp[n - 1][capacity]"
   ],
   "metadata": {
    "collapsed": false
   }
  },
  {
   "cell_type": "code",
   "execution_count": null,
   "outputs": [],
   "source": [
    "def count_ways(coins, amount):\n",
    "    if amount == 0:  # base case 1\n",
    "        return 1\n",
    "    if amount <= 0:  # base case 2\n",
    "        return 0\n",
    "\n",
    "    # create and initialize the 2-D array\n",
    "    dp = [[1 for _ in range(len(coins))] for _ in range(amount + 1)]\n",
    "\n",
    "    # iterate over the 2-D array and update the values accordingly\n",
    "    for amt in range(1, amount + 1):\n",
    "        for j in range(len(coins)):\n",
    "\n",
    "            # keep the count of solutions including coins[j]\n",
    "            coin = coins[j]\n",
    "            if amt - coin >= 0:\n",
    "                x = dp[amt - coin][j]\n",
    "            else:\n",
    "                x = 0\n",
    "\n",
    "            # keep the count of solutions excluding coins[j]\n",
    "            if j >= 1:\n",
    "                y = dp[amt][j - 1]\n",
    "            else:\n",
    "                y = 0\n",
    "            dp[amt][j] = x + y\n",
    "    return dp[amount][len(coins) - 1]"
   ],
   "metadata": {
    "collapsed": false
   }
  },
  {
   "cell_type": "code",
   "execution_count": null,
   "outputs": [],
   "source": [
    "import math\n",
    "\n",
    "def count_ribbon_pieces(n, sizes):\n",
    "    # create the array to store the results\n",
    "    dp = [-1] * (n + 1)\n",
    "    dp[0] = 0\n",
    "    # calculate the results for all combinations\n",
    "    # and select the maximum\n",
    "    for i in range(1, n + 1):\n",
    "        for c in sizes:\n",
    "            if i - c >= 0 and dp[i - c] != -1:\n",
    "                dp[i] = max(dp[i], 1 + dp[i - c])\n",
    "\n",
    "    if dp[n] != -1:\n",
    "        return dp[n]\n",
    "    else:\n",
    "        return -1"
   ],
   "metadata": {
    "collapsed": false
   }
  },
  {
   "cell_type": "code",
   "execution_count": null,
   "outputs": [],
   "source": [
    "def coin_change(coins, total):\n",
    "    if total < 1:\n",
    "        return 0\n",
    "    return calculate_minimum_coins(coins, total)\n",
    "\n",
    "\n",
    "def calculate_minimum_coins(coins, rem):\n",
    "    # Helper function that calculates amount left to be calculated\n",
    "    # and tells what its value can be.\n",
    "    dp = [rem + 1] * (rem + 1)\n",
    "    dp[0] = 0\n",
    "\n",
    "    for i in range(1, rem + 1):\n",
    "        for c in coins:\n",
    "            if i - c >= 0:\n",
    "                dp[i] = min(dp[i], 1 + dp[i - c])\n",
    "\n",
    "    if dp[rem] != (rem + 1):\n",
    "        return dp[rem]\n",
    "    else:\n",
    "        return -1"
   ],
   "metadata": {
    "collapsed": false
   }
  },
  {
   "cell_type": "code",
   "execution_count": null,
   "outputs": [],
   "source": [
    "def rod_cutting(lengths, prices, n):\n",
    "    lengthsCount = len(lengths)\n",
    "    pricesCount = len(prices)\n",
    "\n",
    "    # base cases\n",
    "    if n == 0 or pricesCount == 0 or pricesCount != lengthsCount:\n",
    "        return 0\n",
    "\n",
    "    # Creating a lookup table of size len(lengths) x (n + 1)\n",
    "    dp = [[0 for _ in range(n + 1)] for _ in range(lengthsCount)]\n",
    "\n",
    "    # process all rod lengths for all given lengths\n",
    "    for curr in range(lengthsCount):\n",
    "        for rod_length in range(1, n + 1):\n",
    "            # Fetch the maximum revenue obtained by selling the rod\n",
    "            # of size rod_length - lengths[curr]\n",
    "            revenue1 = revenue2 = 0\n",
    "            if lengths[curr] <= rod_length:\n",
    "                revenue1 = prices[curr] + dp[curr][rod_length - lengths[curr]]\n",
    "\n",
    "            # Fetch the maximum revenue obtained without cutting the rod\n",
    "            if curr > 0:\n",
    "                revenue2 = dp[curr - 1][rod_length]\n",
    "\n",
    "            # store the result in the table\n",
    "            dp[curr][rod_length] = max(revenue1, revenue2)\n",
    "\n",
    "    # maximum revenue will be at the bottom-right corner.\n",
    "    return dp[lengthsCount - 1][n]"
   ],
   "metadata": {
    "collapsed": false
   }
  }
 ],
 "metadata": {
  "kernelspec": {
   "display_name": "Python 3",
   "language": "python",
   "name": "python3"
  },
  "language_info": {
   "codemirror_mode": {
    "name": "ipython",
    "version": 2
   },
   "file_extension": ".py",
   "mimetype": "text/x-python",
   "name": "python",
   "nbconvert_exporter": "python",
   "pygments_lexer": "ipython2",
   "version": "2.7.6"
  }
 },
 "nbformat": 4,
 "nbformat_minor": 0
}
