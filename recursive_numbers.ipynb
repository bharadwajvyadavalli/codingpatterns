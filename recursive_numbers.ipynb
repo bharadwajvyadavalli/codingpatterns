{
 "cells": [
  {
   "cell_type": "code",
   "execution_count": null,
   "metadata": {
    "collapsed": true
   },
   "outputs": [],
   "source": [
    "def catalan(n):\n",
    "    # tabulating\n",
    "    dp = [None] * (n + 1)\n",
    "    # handling the base case\n",
    "    dp[0] = 1\n",
    "    # iterating to fill up the tabulation table\n",
    "    for i in range(1, n + 1):\n",
    "        # initializing the i-th value to 0\n",
    "        dp[i] = 0\n",
    "        # iterate from 0 to i; according to formula of catalan i.e.\n",
    "        # C0*Ci + C1*Ci-1 + ... Ci*C0\n",
    "        for j in range(i):\n",
    "            # C(j) * C(i-j-1)\n",
    "            dp[i] += (dp[j] * dp[i - j - 1])\n",
    "    return dp[n]"
   ]
  },
  {
   "cell_type": "code",
   "execution_count": null,
   "outputs": [],
   "source": [
    "def scoring_options(n):\n",
    "    # Initializing our solution array\n",
    "    dp = [0] * (n + 1)\n",
    "\n",
    "    # Each array index holds the number of ways to\n",
    "    # reach a score equal to the index\n",
    "    dp[0] = 1\n",
    "\n",
    "    # Variables to store scores\n",
    "    s1 = s2 = s4 = 0\n",
    "\n",
    "    # Iteratively calculate the number of ways to reach a\n",
    "    # score and store it into the solutions' array\n",
    "    for r in range(1, n + 1):\n",
    "        # Return 0 if index is less than 0, otherwise\n",
    "        # set to array value\n",
    "        s1 = 0 if r - 1 < 0 else dp[r - 1]\n",
    "        s2 = 0 if r - 2 < 0 else dp[r - 2]\n",
    "        s4 = 0 if r - 4 < 0 else dp[r - 4]\n",
    "\n",
    "        # Using our recurrence relation to calculate new answers\n",
    "        dp[r] = s1 + s2 + s4\n",
    "    return dp[n]"
   ],
   "metadata": {
    "collapsed": false
   }
  },
  {
   "cell_type": "code",
   "execution_count": null,
   "outputs": [],
   "source": [
    "def get_fibonacci(n):\n",
    "    # Base case\n",
    "    if n < 2:\n",
    "        return n\n",
    "    # Initializing the lookup table\n",
    "    lookup_table = [0] * (n + 1)\n",
    "    lookup_table[0] = 0\n",
    "    lookup_table[1] = 1\n",
    "\n",
    "    for i in range(2, n + 1):\n",
    "        # Storing sum of the two preceding values\n",
    "        lookup_table[i] = lookup_table[i - 1] + lookup_table[i - 2]\n",
    "\n",
    "    return lookup_table[n]"
   ],
   "metadata": {
    "collapsed": false
   }
  },
  {
   "cell_type": "code",
   "execution_count": null,
   "outputs": [],
   "source": [
    "def house_thief(money):\n",
    "    # Stopping criteria\n",
    "    stop = len(money)\n",
    "    # Base case\n",
    "    if stop == 0:\n",
    "        return 0\n",
    "\n",
    "    memo = [0] * (stop + 1)\n",
    "    memo[1] = money[0]\n",
    "    for i in range(1, stop):\n",
    "        # stores the maximum of the following two values at memo[i+1]:\n",
    "        # 1. The combined sum of money in the current house alongwith\n",
    "        # the maximum theft possible from the previous of the previous house.\n",
    "        # 2. The maximum theft possible till the previous house, we should refer to memo to get this value.\n",
    "        memo[i + 1] = max(money[i] + memo[i - 1], memo[i])\n",
    "    return memo[stop]"
   ],
   "metadata": {
    "collapsed": false
   }
  },
  {
   "cell_type": "code",
   "execution_count": null,
   "outputs": [],
   "source": [
    "import math\n",
    "\n",
    "def min_multiplications(dims):\n",
    "    # Table for tabulation\n",
    "    dp = [[0 for _ in range(len(dims))] for _ in range(len(dims))]\n",
    "\n",
    "    # Iterating to fill table\n",
    "    for l in range(2, len(dims)):\n",
    "        for i in range(1, len(dims) - l + 1):\n",
    "            j = i + l - 1\n",
    "            dp[i][j] = math.inf\n",
    "            for k in range(i, j):\n",
    "                temp = dp[i][k] + dp[k + 1][j] + dims[i - 1] * dims[k] * dims[j]\n",
    "                if temp < dp[i][j]:\n",
    "                    dp[i][j] = temp  # Storing the minimum value\n",
    "    return dp[1][-1]\n"
   ],
   "metadata": {
    "collapsed": false
   }
  },
  {
   "cell_type": "code",
   "execution_count": null,
   "outputs": [],
   "source": [
    "import math\n",
    "\n",
    "def find_min_jumps(nums):\n",
    "    n = len(nums)\n",
    "    # Initializing the lookup table of nums length\n",
    "    lookup = [math.inf] * (n)\n",
    "    # Setting the 0th index to 0\n",
    "    lookup[0] = 0\n",
    "\n",
    "    # Outer loop traversing the whole array\n",
    "    for i in range(1, n):\n",
    "        # Inner loop traversing from 0 to the ith index\n",
    "        for j in range(i):\n",
    "            # If the value is not stored in the table and index i is\n",
    "            # less than equal to the value at jth index + j index\n",
    "            if ((i <= (nums[j] + j)) and (lookup[j] != math.inf)):\n",
    "                lookup[i] = min(lookup[i], lookup[j] + 1)\n",
    "                break\n",
    "\n",
    "    return lookup[n - 1]"
   ],
   "metadata": {
    "collapsed": false
   }
  },
  {
   "cell_type": "code",
   "execution_count": null,
   "outputs": [],
   "source": [
    "def min_fee(fee, n):\n",
    "    # Create a lookup array\n",
    "    lookup_array = [0 for x in range(n + 1)]\n",
    "\n",
    "    # Add the initial values to the array\n",
    "    lookup_array[0] = 0\n",
    "    lookup_array[1] = fee[0]\n",
    "    lookup_array[2] = fee[0]\n",
    "\n",
    "    for i in range(3, n + 1):\n",
    "        # Fill up the table by finding the minimum of the previous three values\n",
    "        one_step = fee[i - 1] + lookup_array[i - 1]\n",
    "        two_step = fee[i - 2] + lookup_array[i - 2]\n",
    "        three_step = fee[i - 3] + lookup_array[i - 3]\n",
    "        lookup_array[i] = min(one_step, two_step, three_step)\n",
    "\n",
    "    return lookup_array[n]"
   ],
   "metadata": {
    "collapsed": false
   }
  },
  {
   "cell_type": "code",
   "execution_count": null,
   "outputs": [],
   "source": [
    "def count_ways(n):\n",
    "    # Initializing our solution array\n",
    "    dp = [0] * (n + 1)\n",
    "\n",
    "    # Each array index holds the number of ways to\n",
    "    # reach a number equal to the index\n",
    "    dp[0] = 1\n",
    "\n",
    "    # Variables to store sub-target numbers\n",
    "    n1 = n3 = n4 = 0\n",
    "\n",
    "    # Iteratively calculate the number of ways to reach a\n",
    "    # target number and store it in the solutions' array\n",
    "    for sn in range(1, n+1):\n",
    "        # Return 0 if index is less than 0, otherwise\n",
    "        # set to array value\n",
    "        n1 = 0 if sn - 1 < 0 else dp[sn - 1]\n",
    "        n3 = 0 if sn - 3 < 0 else dp[sn - 3]\n",
    "        n4 = 0 if sn - 4 < 0 else dp[sn - 4]\n",
    "\n",
    "        # Using our recurrence relation to calculate new answers\n",
    "        dp[sn] = n1 + n3 + n4\n",
    "    return dp[n]"
   ],
   "metadata": {
    "collapsed": false
   }
  },
  {
   "cell_type": "code",
   "execution_count": null,
   "outputs": [],
   "source": [
    "def count_ways(n):\n",
    "    if n < 0:\n",
    "        return 0\n",
    "    if n == 0:\n",
    "        return 1\n",
    "\n",
    "    # Initialize lookup table\n",
    "    lookup_table = [0 for x in range(n + 1)]\n",
    "\n",
    "    # Setting the first three values\n",
    "    lookup_table[0] = 1\n",
    "    lookup_table[1] = 1\n",
    "    lookup_table[2] = 2\n",
    "\n",
    "    for i in range(3, n + 1):\n",
    "        # Fill up the table by summing up previous three values\n",
    "        lookup_table[i] = lookup_table[i - 1] + lookup_table[i - 2] + lookup_table[i - 3]\n",
    "\n",
    "        # Return the nth Fibonacci number\n",
    "    return lookup_table[n]"
   ],
   "metadata": {
    "collapsed": false
   }
  },
  {
   "cell_type": "code",
   "execution_count": null,
   "outputs": [],
   "source": [
    "def tribonacci(n):\n",
    "    # Base cases\n",
    "    if n == 0:\n",
    "        return 0\n",
    "    if n == 1 or n == 2:\n",
    "        return 1\n",
    "\n",
    "    # Creating an array\n",
    "    dp = [0] * (n + 1)\n",
    "    # First three tribonacci numbers\n",
    "    dp[1], dp[2] = 1, 1\n",
    "\n",
    "    for i in range(3, n + 1):\n",
    "        dp[i] = dp[i - 1] + dp[i - 2] + dp[i - 3]\n",
    "\n",
    "    return dp[n]"
   ],
   "metadata": {
    "collapsed": false
   }
  },
  {
   "cell_type": "code",
   "execution_count": null,
   "outputs": [],
   "source": [
    "def find_unique_path(matrix):\n",
    "    rows = len(matrix)\n",
    "    cols = len(matrix[0])\n",
    "\n",
    "    # If the starting cell has an obstacle, then return 0\n",
    "    # as there would be no paths to the destination.\n",
    "    if matrix[0][0] == 1:\n",
    "        return 0\n",
    "\n",
    "    # Number of ways of reaching the starting cell = 1.\n",
    "    matrix[0][0] = 1\n",
    "\n",
    "    # Fill the values for the first column\n",
    "    for i in range(1, rows):\n",
    "        matrix[i][0] = int(matrix[i][0] == 0 and matrix[i - 1][0] == 1)\n",
    "\n",
    "    # Fill the values for the first row\n",
    "    for j in range(1, cols):\n",
    "        matrix[0][j] = int(matrix[0][j] == 0 and matrix[0][j - 1] == 1)\n",
    "\n",
    "    # Start from matrix[1][1], we fill up the values.\n",
    "    # The number of ways of reaching matrix[i][j] = matrix[i - 1][j] + matrix[i][j - 1]\n",
    "    for i in range(1, rows):\n",
    "        for j in range(1, cols):\n",
    "            if matrix[i][j] == 0:\n",
    "                matrix[i][j] = matrix[i - 1][j] + matrix[i][j - 1]\n",
    "            else:\n",
    "                matrix[i][j] = 0\n",
    "\n",
    "    # Return value stored in rightmost bottommost cell.\n",
    "    # That is the destination.\n",
    "    return matrix[rows - 1][cols - 1]"
   ],
   "metadata": {
    "collapsed": false
   }
  }
 ],
 "metadata": {
  "kernelspec": {
   "display_name": "Python 3",
   "language": "python",
   "name": "python3"
  },
  "language_info": {
   "codemirror_mode": {
    "name": "ipython",
    "version": 2
   },
   "file_extension": ".py",
   "mimetype": "text/x-python",
   "name": "python",
   "nbconvert_exporter": "python",
   "pygments_lexer": "ipython2",
   "version": "2.7.6"
  }
 },
 "nbformat": 4,
 "nbformat_minor": 0
}
