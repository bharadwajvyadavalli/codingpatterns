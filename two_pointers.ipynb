{
 "cells": [
  {
   "cell_type": "markdown",
   "source": [],
   "metadata": {
    "collapsed": false
   }
  },
  {
   "cell_type": "code",
   "execution_count": null,
   "outputs": [],
   "source": [
    "Problem Statement\n",
    "Given an array of sorted numbers and a target sum, find a pair in the array whose sum is equal to the given target.\n",
    "\n",
    "Write a function to return the indices of the two numbers (i.e. the pair) such that they add up to the given target.\n",
    "\n",
    "Example 1:\n",
    "\n",
    "Input: [1, 2, 3, 4, 6], target=6\n",
    "Output: [1, 3]\n",
    "Explanation: The numbers at index 1 and 3 add up to 6: 2+4=6\n",
    "\n",
    "Example 2:\n",
    "\n",
    "Input: [2, 5, 9, 11], target=11\n",
    "Output: [0, 2]\n",
    "Explanation: The numbers at index 0 and 2 add up to 11: 2+9=11"
   ],
   "metadata": {
    "collapsed": false
   }
  },
  {
   "cell_type": "code",
   "execution_count": null,
   "outputs": [],
   "source": [
    "def pair_with_target_sum(arr, target_sum):\n",
    "    i, j = 0, len(arr) - 1\n",
    "    while i < j:\n",
    "        if arr[i] + arr[j] < target_sum:\n",
    "            i += 1\n",
    "        elif arr[i] + arr[j] > target_sum:\n",
    "            j -= 1\n",
    "        else:\n",
    "            return [i, j]\n",
    "\n",
    "    return [-1, -1]"
   ],
   "metadata": {
    "collapsed": false
   }
  },
  {
   "cell_type": "markdown",
   "source": [
    "Problem Statement\n",
    "Given an array of sorted numbers, remove all duplicates from it. You should not use any extra space; after removing the duplicates in-place return the new length of the array.\n",
    "\n",
    "Example 1:\n",
    "\n",
    "Input: [2, 3, 3, 3, 6, 9, 9]\n",
    "Output: 4\n",
    "Explanation: The first four elements after removing the duplicates will be [2, 3, 6, 9].\n",
    "\n",
    "Example 2:\n",
    "\n",
    "Input: [2, 2, 2, 11]\n",
    "Output: 2\n",
    "Explanation: The first two elements after removing the duplicates will be [2, 11]."
   ],
   "metadata": {
    "collapsed": false
   }
  },
  {
   "cell_type": "code",
   "execution_count": null,
   "outputs": [],
   "source": [
    "def remove_duplicates(arr):\n",
    "  # TODO: Write your code here\n",
    "  i, result = 1, 1\n",
    "  while i < len(arr):\n",
    "    if arr[i] != arr[i-1]:\n",
    "      result += 1\n",
    "    i+=1\n",
    "  return result"
   ],
   "metadata": {
    "collapsed": false
   }
  },
  {
   "cell_type": "markdown",
   "source": [
    "Problem Statement\n",
    "Given a sorted array, create a new array containing squares of all the number of the input array in the sorted order.\n",
    "\n",
    "Example 1:\n",
    "\n",
    "Input: [-2, -1, 0, 2, 3]\n",
    "Output: [0, 1, 4, 4, 9]\n",
    "\n",
    "Example 2:\n",
    "\n",
    "Input: [-3, -1, 0, 1, 2]\n",
    "Output: [0 1 1 4 9]"
   ],
   "metadata": {
    "collapsed": false
   }
  },
  {
   "cell_type": "code",
   "execution_count": null,
   "outputs": [],
   "source": [
    "def make_squares(arr):\n",
    "  squares = [0] * len(arr)\n",
    "  # TODO: Write your code here\n",
    "  i , j = 0, len(arr)-1\n",
    "  k = len(arr)-1\n",
    "  while i <= j:\n",
    "    if arr[i]**2 >= arr[j]**2:\n",
    "      squares[k] = arr[i]**2\n",
    "      i += 1\n",
    "      k -= 1\n",
    "    else:\n",
    "      squares[k] = arr[j]**2\n",
    "      j -= 1\n",
    "      k -= 1\n",
    "\n",
    "  return squares"
   ],
   "metadata": {
    "collapsed": false
   }
  },
  {
   "cell_type": "markdown",
   "source": [
    "Problem Statement\n",
    "Given an array containing 0s, 1s and 2s, sort the array in-place. You should treat numbers of the array as objects,\n",
    "hence, we can’t count 0s, 1s, and 2s to recreate the array.\n",
    "\n",
    "The flag of the Netherlands consists of three colors: red, white and blue;\n",
    "and since our input array also consists of three different numbers that is why it is called Dutch National Flag problem.\n",
    "\n",
    "Example 1:\n",
    "\n",
    "Input: [1, 0, 2, 1, 0]\n",
    "Output: [0 0 1 1 2]\n",
    "\n",
    "Example 2:\n",
    "\n",
    "Input: [2, 2, 0, 1, 2, 0]\n",
    "Output: [0 0 1 2 2 2 ]"
   ],
   "metadata": {
    "collapsed": false
   }
  },
  {
   "cell_type": "code",
   "execution_count": null,
   "outputs": [],
   "source": [
    "def dutch_flag_sort(arr):\n",
    "  # TODO: Write your code here\n",
    "  left, i = 0, 0\n",
    "  right = len(arr)-1\n",
    "\n",
    "  while i <= right:\n",
    "    if arr[i] == 0:\n",
    "      arr[i], arr[left] = arr[left], arr[i]\n",
    "      left += 1\n",
    "      i += 1\n",
    "    elif arr[i] == 2:\n",
    "      arr[i], arr[right] = arr[right], arr[i]\n",
    "      right -= 1\n",
    "    else:\n",
    "      i += 1\n",
    "\n",
    "  return"
   ],
   "metadata": {
    "collapsed": false
   }
  },
  {
   "cell_type": "markdown",
   "source": [
    "Problem Statement\n",
    "Given an array with positive numbers and a target number,\n",
    "find all of its contiguous subarrays whose product is less than the target number.\n",
    "\n",
    "Example 1:\n",
    "\n",
    "Input: [2, 5, 3, 10], target=30\n",
    "Output: [2], [5], [2, 5], [3], [5, 3], [10]\n",
    "Explanation: There are six contiguous subarrays whose product is less than the target.\n",
    "Example 2:\n",
    "\n",
    "Input: [8, 2, 6, 5], target=50\n",
    "Output: [8], [2], [8, 2], [6], [2, 6], [5], [6, 5]\n",
    "Explanation: There are seven contiguous subarrays whose product is less than the target."
   ],
   "metadata": {
    "collapsed": false
   }
  },
  {
   "cell_type": "code",
   "execution_count": null,
   "outputs": [],
   "source": [
    "def find_subarrays(arr, target):\n",
    "  result = []\n",
    "  product = 1\n",
    "  win_start=0\n",
    "\n",
    "  for win_end in range(len(arr)):\n",
    "\n",
    "    product *= arr[win_end]\n",
    "    print(product)\n",
    "\n",
    "    while product >= target and win_start < len(arr):\n",
    "      product /= arr[win_start]\n",
    "      win_start += 1\n",
    "\n",
    "    if product < target:\n",
    "      temp_i=[]\n",
    "      for i in range(win_end, win_start-1,-1):\n",
    "        temp_i.append(arr[i])\n",
    "        temp=temp_i.copy()\n",
    "        result.append(temp)\n",
    "\n",
    "  return result"
   ],
   "metadata": {
    "collapsed": false
   }
  },
  {
   "cell_type": "markdown",
   "source": [
    "Triplet Sum Close to Target (medium)\n",
    "\n",
    "Problem Statement\n",
    "Given an array of unsorted numbers and a target number, find a triplet in the array whose sum is as close to the target number as possible, return the sum of the triplet.\n",
    "If there are more than one such triplet, return the sum of the triplet with the smallest sum.\n",
    "\n",
    "Example 1:\n",
    "\n",
    "Input: [-2, 0, 1, 2], target=2\n",
    "Output: 1\n",
    "Explanation: The triplet [-2, 1, 2] has the closest sum to the target.\n",
    "\n",
    "Example 2:\n",
    "\n",
    "Input: [-3, -1, 1, 2], target=1\n",
    "Output: 0\n",
    "Explanation: The triplet [-3, 1, 2] has the closest sum to the target.\n",
    "\n",
    "Example 3:\n",
    "\n",
    "Input: [1, 0, 1, 1], target=100\n",
    "Output: 3\n",
    "Explanation: The triplet [1, 1, 1] has the closest sum to the target."
   ],
   "metadata": {
    "collapsed": false
   }
  },
  {
   "cell_type": "code",
   "execution_count": null,
   "outputs": [],
   "source": [
    "def triplet_sum_close_to_target(arr, target_sum):\n",
    "\n",
    "  # TODO: Write your code here\n",
    "  arr.sort()\n",
    "  min_sum, err_min = 0, math.inf\n",
    "\n",
    "  for i in range(len(arr)):\n",
    "    j, k = i+1, len(arr)-1\n",
    "    while j < k:\n",
    "      err = abs(arr[i]+arr[j]+arr[k]-target_sum)\n",
    "      if err < err_min:\n",
    "        err_min=err\n",
    "        min_sum = arr[i]+arr[j]+arr[k]\n",
    "      elif err == err_min:\n",
    "        min_sum=min(min_sum,arr[i]+arr[j]+arr[k])\n",
    "\n",
    "      if arr[i]+arr[j]+arr[k] < target_sum:\n",
    "        j += 1\n",
    "      elif arr[i]+arr[j]+arr[k] > target_sum:\n",
    "        k -= 1\n",
    "\n",
    "  return min_sum"
   ],
   "metadata": {
    "collapsed": false
   }
  },
  {
   "cell_type": "markdown",
   "source": [
    "Problem Statement\n",
    "Given an array of unsorted numbers, find all unique triplets in it that add up to zero.\n",
    "\n",
    "Example 1:\n",
    "\n",
    "Input: [-3, 0, 1, 2, -1, 1, -2]\n",
    "Output: [-3, 1, 2], [-2, 0, 2], [-2, 1, 1], [-1, 0, 1]\n",
    "Explanation: There are four unique triplets whose sum is equal to zero.\n",
    "\n",
    "Example 2:\n",
    "\n",
    "Input: [-5, 2, -1, -2, 3]\n",
    "Output: [[-5, 2, 3], [-2, -1, 3]]\n",
    "Explanation: There are two unique triplets whose sum is equal to zero."
   ],
   "metadata": {
    "collapsed": false
   }
  },
  {
   "cell_type": "code",
   "execution_count": null,
   "outputs": [],
   "source": [
    "def search_triplets(arr):\n",
    "  triplets = []\n",
    "  arr.sort()\n",
    "  # TODO: Write your code here\n",
    "  for i in range(len(arr)):\n",
    "    if i > 0 and arr[i] == arr[i-1]:\n",
    "      continue\n",
    "    search_pair(arr, -arr[i], i+1, triplets)\n",
    "\n",
    "  return triplets\n",
    "\n",
    "def search_pair(arr, target_sum, left, triplets):\n",
    "  right = len(arr)-1\n",
    "  while left < right:\n",
    "    if arr[left] + arr[right] == target_sum:\n",
    "      triplets.append([-target_sum, arr[left], arr[right]])\n",
    "      left += 1\n",
    "      right -= 1\n",
    "\n",
    "      while left < right and arr[left] == arr[left-1]:\n",
    "        left += 1\n",
    "      while left < right and arr[right] == arr[right+1]:\n",
    "        right -= 1\n",
    "\n",
    "    elif arr[left] + arr[right] > target_sum:\n",
    "      right -=1\n",
    "    else:\n",
    "      left += 1"
   ],
   "metadata": {
    "collapsed": false
   }
  },
  {
   "cell_type": "markdown",
   "source": [
    "Problem Statement\n",
    "Given an array arr of unsorted numbers and a target sum, count all triplets in it such that arr[i] + arr[j] + arr[k] < target where i, j, and k are three different indices. Write a function to return the count of such triplets.\n",
    "\n",
    "Example 1:\n",
    "\n",
    "Input: [-1, 0, 2, 3], target=3\n",
    "Output: 2\n",
    "Explanation: There are two triplets whose sum is less than the target: [-1, 0, 3], [-1, 0, 2]\n",
    "\n",
    "Example 2:\n",
    "\n",
    "Input: [-1, 4, 2, 1, 3], target=5\n",
    "Output: 4\n",
    "Explanation: There are four triplets whose sum is less than the target:\n",
    "   [-1, 1, 4], [-1, 1, 3], [-1, 1, 2], [-1, 2, 3]"
   ],
   "metadata": {
    "collapsed": false
   }
  },
  {
   "cell_type": "code",
   "execution_count": null,
   "outputs": [],
   "source": [
    "def triplet_with_smaller_sum(arr, target):\n",
    "  count = 0\n",
    "  arr.sort()\n",
    "\n",
    "  for i in range(len(arr)):\n",
    "    j, k = i+1, len(arr)-1\n",
    "    while j < k:\n",
    "      if arr[i] + arr[j] + arr[k] < target:\n",
    "        count += (k-j)\n",
    "        j += 1\n",
    "      else:\n",
    "        k -= 1\n",
    "\n",
    "  return count"
   ],
   "metadata": {
    "collapsed": false
   }
  },
  {
   "cell_type": "markdown",
   "source": [
    "Problem Challenge 1\n",
    "\n",
    "Quadruple Sum to Target (medium)\n",
    "Given an array of unsorted numbers and a target number, find all unique quadruplets in it, whose sum is equal to the target number.\n",
    "\n",
    "Example 1:\n",
    "\n",
    "Input: [4, 1, 2, -1, 1, -3], target=1\n",
    "Output: [-3, -1, 1, 4], [-3, 1, 1, 2]\n",
    "Explanation: Both the quadruplets add up to the target.\n",
    "\n",
    "Example 2:\n",
    "\n",
    "Input: [2, 0, -1, 1, -2, 2], target=2\n",
    "Output: [-2, 0, 2, 2], [-1, 0, 1, 2]\n",
    "Explanation: Both the quadruplets add up to the target."
   ],
   "metadata": {
    "collapsed": false
   }
  },
  {
   "cell_type": "code",
   "execution_count": null,
   "outputs": [],
   "source": [
    "def search_quadruplets(arr, target):\n",
    "  quadruplets = []\n",
    "  # TODO: Write your code here\n",
    "\n",
    "  arr.sort()\n",
    "\n",
    "  for i in range(len(arr)-3):\n",
    "    if i>0 and arr[i] == arr[i-1]:\n",
    "      continue\n",
    "    for j in range(i+1,len(arr)-2):\n",
    "      if j>i and arr[j] == arr[j-1]:\n",
    "        continue\n",
    "      search_pair(arr, i, j, target, quadruplets)\n",
    "\n",
    "  return quadruplets\n",
    "\n",
    "def search_pair(arr, i, j, target, quadruplets):\n",
    "  left = j+1\n",
    "  right = len(arr) - 1\n",
    "\n",
    "  sub_target=target - arr[i] - arr[j]\n",
    "\n",
    "  while left < right:\n",
    "    if arr[left] + arr[right] == sub_target:\n",
    "      quadruplets.append([arr[i],arr[j],arr[left],arr[right]])\n",
    "      left += 1\n",
    "      right -= 1\n",
    "\n",
    "      while left < right and arr[left] == arr[left-1]:\n",
    "        left += 1\n",
    "\n",
    "      while left < right and arr[right] == arr[right+1]:\n",
    "        right -=1\n",
    "    elif arr[left] + arr[right] < sub_target:\n",
    "      left += 1\n",
    "    else:\n",
    "      right -= 1"
   ],
   "metadata": {
    "collapsed": false
   }
  },
  {
   "cell_type": "markdown",
   "source": [
    "Problem Challenge 2\n",
    "\n",
    "Comparing Strings containing Backspaces (medium)\n",
    "\n",
    "Given two strings containing backspaces (identified by the character ‘#’), check if the two strings are equal.\n",
    "\n",
    "Example 1:\n",
    "\n",
    "Input: str1=\"xy#z\", str2=\"xzz#\"\n",
    "Output: true\n",
    "Explanation: After applying backspaces the strings become \"xz\" and \"xz\" respectively.\n",
    "\n",
    "Example 2:\n",
    "\n",
    "Input: str1=\"xy#z\", str2=\"xyz#\"\n",
    "Output: false\n",
    "Explanation: After applying backspaces the strings become \"xz\" and \"xy\" respectively.\n",
    "\n",
    "Example 3:\n",
    "\n",
    "Input: str1=\"xp#\", str2=\"xyz##\"\n",
    "Output: true\n",
    "Explanation: After applying backspaces the strings become \"x\" and \"x\" respectively.\n",
    "In \"xyz##\", the first '#' removes the character 'z' and the second '#' removes the character 'y'.\n",
    "\n",
    "Example 4:\n",
    "\n",
    "Input: str1=\"xywrrmp\", str2=\"xywrrmu#p\"\n",
    "Output: true\n",
    "Explanation: After applying backspaces the strings become \"xywrrmp\" and \"xywrrmp\" respectively."
   ],
   "metadata": {
    "collapsed": false
   }
  },
  {
   "cell_type": "code",
   "execution_count": null,
   "outputs": [],
   "source": [
    "def backspace_compare(str1, str2):\n",
    "  # TODO: Write your code here\n",
    "  if clean(str1) == clean(str2):\n",
    "    return True\n",
    "  return False\n",
    "\n",
    "def clean(str):\n",
    "  i= len(str)-1\n",
    "  while i >= 0:\n",
    "    count = 0\n",
    "\n",
    "    while i >= 0 and str[i] == '#':\n",
    "      count += 1\n",
    "      i -= 1\n",
    "\n",
    "    if count > 0 and i+count == len(str)-1:\n",
    "      str=str[:i-count+1]\n",
    "      i = i - count\n",
    "\n",
    "    elif count > 0 and i-count+1==0 :\n",
    "      str=str[i+count+1:]\n",
    "      i=-1\n",
    "\n",
    "    elif count>0 :\n",
    "      str=str[:i-count+1]+ str[i+count+1:]\n",
    "      i=i-count -1\n",
    "      print(str)\n",
    "    else:\n",
    "      i=i-1\n",
    "\n",
    "    print(str,count,i)\n",
    "  return str"
   ],
   "metadata": {
    "collapsed": false
   }
  },
  {
   "cell_type": "markdown",
   "source": [
    "Problem Challenge 3\n",
    "\n",
    "Minimum Window Sort (medium)\n",
    "\n",
    "Given an array, find the length of the smallest subarray in it which when sorted will sort the whole array.\n",
    "\n",
    "Example 1:\n",
    "\n",
    "Input: [1, 2, 5, 3, 7, 10, 9, 12]\n",
    "Output: 5\n",
    "Explanation: We need to sort only the subarray [5, 3, 7, 10, 9] to make the whole array sorted\n",
    "\n",
    "Example 2:\n",
    "\n",
    "Input: [1, 3, 2, 0, -1, 7, 10]\n",
    "Output: 5\n",
    "Explanation: We need to sort only the subarray [1, 3, 2, 0, -1] to make the whole array sorted\n",
    "\n",
    "Example 3:\n",
    "\n",
    "Input: [1, 2, 3]\n",
    "Output: 0\n",
    "Explanation: The array is already sorted\n",
    "\n",
    "Example 4:\n",
    "\n",
    "Input: [3, 2, 1]\n",
    "Output: 3\n",
    "Explanation: The whole array needs to be sorted."
   ],
   "metadata": {
    "collapsed": false
   }
  },
  {
   "cell_type": "code",
   "execution_count": null,
   "outputs": [],
   "source": [
    "import math\n",
    "def shortest_window_sort(arr):\n",
    "\n",
    "  left, right = 1, len(arr) -1\n",
    "  max_num, min_num = -math.inf, math.inf\n",
    "\n",
    "  while left < len(arr)-1  and arr[left] < arr[left+1]:\n",
    "    left += 1\n",
    "\n",
    "  while right > 0 and arr[right] > arr[right-1]:\n",
    "    right -= 1\n",
    "\n",
    "  for i in range(left, right+1):\n",
    "    max_num = max(max_num, arr[i])\n",
    "    min_num = min(min_num, arr[i])\n",
    "\n",
    "  for i in range(left,-1,-1):\n",
    "    if arr[i] >= min_num:\n",
    "      left = i\n",
    "\n",
    "  for i in range(right, len(arr)):\n",
    "    if arr[i] <= max_num:\n",
    "      right = i\n",
    "\n",
    "  if right == 0:\n",
    "    return 0\n",
    "\n",
    "  return right-left+1"
   ],
   "metadata": {
    "collapsed": false
   }
  }
 ],
 "metadata": {
  "kernelspec": {
   "display_name": "Python 3",
   "language": "python",
   "name": "python3"
  },
  "language_info": {
   "codemirror_mode": {
    "name": "ipython",
    "version": 2
   },
   "file_extension": ".py",
   "mimetype": "text/x-python",
   "name": "python",
   "nbconvert_exporter": "python",
   "pygments_lexer": "ipython2",
   "version": "2.7.6"
  }
 },
 "nbformat": 4,
 "nbformat_minor": 0
}
