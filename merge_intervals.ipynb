{
 "cells": [
  {
   "cell_type": "markdown",
   "source": [
    "Problem Statement\n",
    "Given a list of non-overlapping intervals sorted by their start time, insert a given interval at the correct position and merge all necessary intervals to produce a list that has only mutually exclusive intervals.\n",
    "\n",
    "Example 1:\n",
    "\n",
    "Input: Intervals=[[1,3], [5,7], [8,12]], New Interval=[4,6]\n",
    "Output: [[1,3], [4,7], [8,12]]\n",
    "Explanation: After insertion, since [4,6] overlaps with [5,7], we merged them into one [4,7].\n",
    "\n",
    "Example 2:\n",
    "\n",
    "Input: Intervals=[[1,3], [5,7], [8,12]], New Interval=[4,10]\n",
    "Output: [[1,3], [4,12]]\n",
    "Explanation: After insertion, since [4,10] overlaps with [5,7] & [8,12], we merged them into [4,12].\n",
    "\n",
    "Example 3:\n",
    "\n",
    "Input: Intervals=[[2,3],[5,7]], New Interval=[1,4]\n",
    "Output: [[1,4], [5,7]]\n",
    "Explanation: After insertion, since [1,4] overlaps with [2,3], we merged them into one [1,4]."
   ],
   "metadata": {
    "collapsed": false
   }
  },
  {
   "cell_type": "code",
   "execution_count": null,
   "outputs": [],
   "source": [
    "def insert(intervals, new_interval):\n",
    "  merged = []\n",
    "  index=0\n",
    "  for i in range(len(intervals)):\n",
    "\n",
    "    if intervals[i][1] < new_interval[0]:\n",
    "      merged.append(intervals[i])\n",
    "\n",
    "    if intervals[i][0] <= new_interval[1] and intervals[i][1] >= new_interval[0]:\n",
    "      new_interval[0]=min(new_interval[0],intervals[i][0])\n",
    "      new_interval[1]=max(new_interval[1],intervals[i][1])\n",
    "      index = i\n",
    "\n",
    "    if intervals[i][0] > new_interval[1]:\n",
    "      if i==index+1:\n",
    "        merged.append(new_interval)\n",
    "        new_interval=[-1,-1]\n",
    "      merged.append(intervals[i])\n",
    "  if new_interval != [-1,-1]:\n",
    "    merged.append(new_interval)\n",
    "  return merged"
   ],
   "metadata": {
    "collapsed": false
   }
  },
  {
   "cell_type": "markdown",
   "source": [
    "Problem Statement\n",
    "Given two lists of intervals, find the intersection of these two lists. Each list consists of disjoint intervals sorted on their start time.\n",
    "\n",
    "Example 1:\n",
    "\n",
    "Input: arr1=[[1, 3], [5, 6], [7, 9]], arr2=[[2, 3], [5, 7]]\n",
    "Output: [2, 3], [5, 6], [7, 7]\n",
    "Explanation: The output list contains the common intervals between the two lists.\n",
    "\n",
    "Example 2:\n",
    "\n",
    "Input: arr1=[[1, 3], [5, 7], [9, 12]], arr2=[[5, 10]]\n",
    "Output: [5, 7], [9, 10]\n",
    "Explanation: The output list contains the common intervals between the two lists."
   ],
   "metadata": {
    "collapsed": false
   }
  },
  {
   "cell_type": "code",
   "execution_count": null,
   "outputs": [],
   "source": [
    "def merge(intervals_a, intervals_b):\n",
    "  result = []\n",
    "\n",
    "  # TODO: Write your code here\n",
    "\n",
    "  i,j =0, 0\n",
    "  while i < len(intervals_a) and j < len(intervals_b):\n",
    "    if intervals_a[i][1] < intervals_b[j][0]:\n",
    "      i+=1\n",
    "    elif intervals_b[j][1] < intervals_a[i][0]:\n",
    "      j+=1\n",
    "    else:\n",
    "      start=max(intervals_a[i][0], intervals_b[j][0])\n",
    "      end=min(intervals_a[i][1],intervals_b[j][1])\n",
    "      result.append([start,end])\n",
    "      if intervals_a[i][1] == end:\n",
    "        i += 1\n",
    "      if intervals_b[j][1] == end:\n",
    "        j += 1\n",
    "\n",
    "  return result"
   ],
   "metadata": {
    "collapsed": false
   }
  },
  {
   "cell_type": "markdown",
   "source": [
    "Problem Statement\n",
    "Given an array of intervals representing ‘N’ appointments, find out if a person can attend all the appointments.\n",
    "\n",
    "Example 1:\n",
    "\n",
    "Appointments: [[1,4], [2,5], [7,9]]\n",
    "Output: false\n",
    "Explanation: Since [1,4] and [2,5] overlap, a person cannot attend both of these appointments.\n",
    "\n",
    "Example 2:\n",
    "\n",
    "Appointments: [[6,7], [2,4], [8,12]]\n",
    "Output: true\n",
    "Explanation: None of the appointments overlap, therefore a person can attend all of them.\n",
    "\n",
    "Example 3:\n",
    "\n",
    "Appointments: [[4,5], [2,3], [3,6]]\n",
    "Output: false\n",
    "Explanation: Since [4,5] and [3,6] overlap, a person cannot attend both of these appointments."
   ],
   "metadata": {
    "collapsed": false
   }
  },
  {
   "cell_type": "code",
   "execution_count": null,
   "outputs": [],
   "source": [
    "def can_attend_all_appointments(intervals):\n",
    "  intervals.sort(key=lambda x:x[0])\n",
    "\n",
    "  for i in range(1,len(intervals)):\n",
    "\n",
    "    if intervals[i][0] < intervals[i-1][1]:\n",
    "      return False\n",
    "\n",
    "  return True"
   ],
   "metadata": {
    "collapsed": false
   }
  },
  {
   "cell_type": "markdown",
   "source": [
    "Solution Review: Problem Challenge 1 - Minimum Meeting Rooms (hard)\n",
    "Given a list of intervals representing the start and end time of ‘N’ meetings,\n",
    "find the minimum number of rooms required to hold all the meetings.\n",
    "\n",
    "Example 1:\n",
    "\n",
    "Meetings: [[1,4], [2,5], [7,9]]\n",
    "Output: 2\n",
    "Explanation: Since [1,4] and [2,5] overlap, we need two rooms to hold these two meetings. [7,9] can\n",
    "occur in any of the two rooms later.\n",
    "\n",
    "Example 2:\n",
    "\n",
    "Meetings: [[6,7], [2,4], [8,12]]\n",
    "Output: 1\n",
    "Explanation: None of the meetings overlap, therefore we only need one room to hold all meetings.\n",
    "\n",
    "Example 3:\n",
    "\n",
    "Meetings: [[1,4], [2,3], [3,6]]\n",
    "Output:2\n",
    "Explanation: Since [1,4] overlaps with the other two meetings [2,3] and [3,6], we need two rooms to\n",
    "hold all the meetings.\n",
    "\n",
    "Example 4:\n",
    "\n",
    "Meetings: [[4,5], [2,3], [2,4], [3,5]]\n",
    "Output: 2\n",
    "Explanation: We will need one room for [2,3] and [3,5], and another room for [2,4] and [4,5].\n",
    "\n",
    "Here is a visual representation of Example 4:"
   ],
   "metadata": {
    "collapsed": false
   }
  },
  {
   "cell_type": "code",
   "execution_count": null,
   "outputs": [],
   "source": [
    "class Meeting:\n",
    "  def __init__(self, start, end):\n",
    "    self.start = start\n",
    "    self.end = end\n",
    "\n",
    "  def __lt__(self, other):\n",
    "    return self.end < other.end\n",
    "\n",
    "def min_meeting_rooms(meetings):\n",
    "  # TODO: Write your code here\n",
    "  meetings.sort(key=lambda x: x.start)\n",
    "  conflict=[]\n",
    "  min_rooms=0\n",
    "  for meeting in meetings:\n",
    "    while len(conflict) > 0 and meeting.start >= conflict[0].end:\n",
    "      heappop(conflict)\n",
    "    heappush(conflict, meeting)\n",
    "    min_rooms=max(len(conflict),min_rooms)\n",
    "  return min_rooms"
   ],
   "metadata": {
    "collapsed": false
   }
  },
  {
   "cell_type": "markdown",
   "source": [
    "Problem Challenge 2\n",
    "\n",
    "Maximum CPU Load (hard)\n",
    "\n",
    "We are given a list of Jobs. Each job has a Start time, an End time, and a CPU load when it is running.\n",
    "Our goal is to find the maximum CPU load at any time if all the jobs are running on the same machine.\n",
    "\n",
    "Example 1:\n",
    "\n",
    "Jobs: [[1,4,3], [2,5,4], [7,9,6]]\n",
    "Output: 7\n",
    "Explanation: Since [1,4,3] and [2,5,4] overlap, their maximum CPU load (3+4=7) will be when both the\n",
    "jobs are running at the same time i.e., during the time interval (2,4).\n",
    "\n",
    "Example 2:\n",
    "\n",
    "Jobs: [[6,7,10], [2,4,11], [8,12,15]]\n",
    "Output: 15\n",
    "Explanation: None of the jobs overlap, therefore we will take the maximum load of any job which is 15.\n",
    "\n",
    "Example 3:\n",
    "\n",
    "Jobs: [[1,4,2], [2,4,1], [3,6,5]]\n",
    "Output: 8\n",
    "Explanation: Maximum CPU load will be 8 as all jobs overlap during the time interval [3,4]."
   ],
   "metadata": {
    "collapsed": false
   }
  },
  {
   "cell_type": "code",
   "execution_count": null,
   "outputs": [],
   "source": [
    "from heapq import *\n",
    "\n",
    "class job:\n",
    "  def __init__(self, start, end, cpu_load):\n",
    "    self.start = start\n",
    "    self.end = end\n",
    "    self.cpu_load = cpu_load\n",
    "\n",
    "  def __lt__(self,other):\n",
    "    self.end < other.end\n",
    "\n",
    "def find_max_cpu_load(jobs):\n",
    "  # TODO: Write your code here\n",
    "  jobs.sort(key=lambda x: x.start)\n",
    "\n",
    "  sum_cpu_load,temp = 0, 0\n",
    "  conflict = []\n",
    "\n",
    "  for job in jobs:\n",
    "\n",
    "    while len(conflict) > 0 and job.start >= conflict[0].end:\n",
    "      temp -= conflict[0].cpu_load\n",
    "      heappop(conflict)\n",
    "    heappush(conflict,job)\n",
    "    temp += job.cpu_load\n",
    "    sum_cpu_load=max(sum_cpu_load, temp)\n",
    "\n",
    "  return sum_cpu_load"
   ],
   "metadata": {
    "collapsed": false
   }
  },
  {
   "cell_type": "markdown",
   "source": [
    "Problem Challenge 3\n",
    "\n",
    "Employee Free Time (hard)\n",
    "\n",
    "For ‘K’ employees, we are given a list of intervals representing the working hours of each employee.\n",
    "Our goal is to find out if there is a free interval that is common to all employees.\n",
    "You can assume that each list of employee working hours is sorted on the start time.\n",
    "\n",
    "Example 1:\n",
    "\n",
    "Input: Employee Working Hours=[[[1,3], [5,6]], [[2,3], [6,8]]]\n",
    "Output: [3,5]\n",
    "Explanation: Both the employess are free between [3,5].\n",
    "\n",
    "Example 2:\n",
    "\n",
    "Input: Employee Working Hours=[[[1,3], [9,12]], [[2,4]], [[6,8]]]\n",
    "Output: [4,6], [8,9]\n",
    "Explanation: All employess are free between [4,6] and [8,9].\n",
    "\n",
    "Example 3:\n",
    "\n",
    "Input: Employee Working Hours=[[[1,3]], [[2,4]], [[3,5], [7,9]]]\n",
    "Output: [5,7]\n",
    "Explanation: All employess are free between [5,7]."
   ],
   "metadata": {
    "collapsed": false
   }
  },
  {
   "cell_type": "code",
   "execution_count": null,
   "outputs": [],
   "source": [
    "from __future__ import print_function\n",
    "\n",
    "class Interval:\n",
    "    def __init__(self, start, end):\n",
    "        self.start = start\n",
    "        self.end = end\n",
    "\n",
    "    def print_interval(self):\n",
    "        print(\"[\" + str(self.start) + \", \" + str(self.end) + \"]\", end='')\n",
    "\n",
    "\n",
    "def find_employee_free_time(schedule):\n",
    "    result = []\n",
    "    # TODO: Write your code here\n",
    "    temp = []\n",
    "\n",
    "    for i in schedule:\n",
    "        for j in i:\n",
    "            temp.append(j)\n",
    "    temp.sort(key=lambda x: x.start)\n",
    "    for i in range(1,len(temp)):\n",
    "        if temp[i].start > temp[i-1].end:\n",
    "            result.append(Interval(temp[i-1].end,temp[i].start))\n",
    "    return result"
   ],
   "metadata": {
    "collapsed": false
   }
  }
 ],
 "metadata": {
  "kernelspec": {
   "display_name": "Python 3",
   "language": "python",
   "name": "python3"
  },
  "language_info": {
   "codemirror_mode": {
    "name": "ipython",
    "version": 2
   },
   "file_extension": ".py",
   "mimetype": "text/x-python",
   "name": "python",
   "nbconvert_exporter": "python",
   "pygments_lexer": "ipython2",
   "version": "2.7.6"
  }
 },
 "nbformat": 4,
 "nbformat_minor": 0
}
