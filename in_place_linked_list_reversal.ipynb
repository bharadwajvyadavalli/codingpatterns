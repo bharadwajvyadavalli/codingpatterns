{
 "cells": [
  {
   "cell_type": "markdown",
   "source": [
    "Problem Statement\n",
    "Given the head of a Singly LinkedList, reverse the LinkedList.\n",
    " Write a function to return the new head of the reversed LinkedList."
   ],
   "metadata": {
    "collapsed": false
   }
  },
  {
   "cell_type": "code",
   "execution_count": null,
   "outputs": [],
   "source": [
    "from __future__ import print_function\n",
    "\n",
    "\n",
    "class Node:\n",
    "  def __init__(self, value, next=None):\n",
    "    self.value = value\n",
    "    self.next = next\n",
    "\n",
    "  def print_list(self):\n",
    "    temp = self\n",
    "    while temp is not None:\n",
    "      print(temp.value, end=\" \")\n",
    "      temp = temp.next\n",
    "    print()\n",
    "\n",
    "\n",
    "def reverse(head):\n",
    "  former, latter = None, head\n",
    "  while latter:\n",
    "    temp = latter\n",
    "    latter = latter.next\n",
    "    temp.next = former\n",
    "    former = temp\n",
    "  return temp"
   ],
   "metadata": {
    "collapsed": false
   }
  },
  {
   "cell_type": "markdown",
   "source": [
    "Problem Statement\n",
    "Given the head of a LinkedList and two positions ‘p’ and ‘q’, reverse the LinkedList from position ‘p’ to ‘q’.\n"
   ],
   "metadata": {
    "collapsed": false
   }
  },
  {
   "cell_type": "code",
   "execution_count": null,
   "outputs": [],
   "source": [
    "from __future__ import print_function\n",
    "\n",
    "\n",
    "class Node:\n",
    "  def __init__(self, value, next=None):\n",
    "    self.value = value\n",
    "    self.next = next\n",
    "\n",
    "  def print_list(self):\n",
    "    temp = self\n",
    "    while temp is not None:\n",
    "      print(temp.value, end=\" \")\n",
    "      temp = temp.next\n",
    "    print()\n",
    "\n",
    "\n",
    "def reverse_sub_list(head, p, q):\n",
    "  before_slow, fast = head, head\n",
    "\n",
    "  while p-2 > 0:\n",
    "    before_slow = before_slow.next\n",
    "    p -= 1\n",
    "  while q-1> 0:\n",
    "    fast = fast.next\n",
    "    q -= 1\n",
    "\n",
    "  after_fast = fast.next\n",
    "  former = after_fast\n",
    "  latter = before_slow.next\n",
    "  before_slow.next = fast\n",
    "\n",
    "  while latter!=after_fast:\n",
    "    temp=latter\n",
    "    latter=latter.next\n",
    "    temp.next=former\n",
    "    former=temp\n",
    "\n",
    "  return head"
   ],
   "metadata": {
    "collapsed": false
   }
  },
  {
   "cell_type": "markdown",
   "source": [
    "Problem Statement\n",
    "Given the head of a LinkedList and a number ‘k’, reverse every ‘k’ sized sub-list starting from the head.\n",
    "\n",
    "If, in the end, you are left with a sub-list with less than ‘k’ elements, reverse it too.\n"
   ],
   "metadata": {
    "collapsed": false
   }
  },
  {
   "cell_type": "code",
   "execution_count": null,
   "outputs": [],
   "source": [
    "from __future__ import print_function\n",
    "\n",
    "\n",
    "class Node:\n",
    "  def __init__(self, value, next=None):\n",
    "    self.value = value\n",
    "    self.next = next\n",
    "\n",
    "  def print_list(self):\n",
    "    temp = self\n",
    "    while temp is not None:\n",
    "      print(temp.value, end=\" \")\n",
    "      temp = temp.next\n",
    "    print()\n",
    "\n",
    "\n",
    "def reverse_every_k_elements(head, k):\n",
    "\n",
    "  former, latter, last_last_node = None, head, head\n",
    "  i=0\n",
    "  while i < k and latter is not None:\n",
    "    temp = latter\n",
    "    latter = latter.next\n",
    "    temp.next = former\n",
    "    former = temp\n",
    "    i += 1\n",
    "\n",
    "  head = temp\n",
    "\n",
    "  while latter is not None:\n",
    "    former, latter, begin = None, latter, latter\n",
    "    i=0\n",
    "    while i<k and latter is not None:\n",
    "      temp = latter\n",
    "      latter = latter.next\n",
    "      temp.next = former\n",
    "      former = temp\n",
    "      i += 1\n",
    "\n",
    "    last_last_node.next=temp\n",
    "    last_last_node=begin\n",
    "\n",
    "  return head"
   ],
   "metadata": {
    "collapsed": false
   }
  },
  {
   "cell_type": "markdown",
   "source": [
    "Problem Challenge 1\n",
    "\n",
    "Reverse alternating K-element Sub-list (medium)\n",
    "\n",
    "Given the head of a LinkedList and a number ‘k’, reverse every alternating ‘k’ sized sub-list starting from the head.\n",
    "\n",
    "If, in the end, you are left with a sub-list with less than ‘k’ elements, reverse it too."
   ],
   "metadata": {
    "collapsed": false
   }
  },
  {
   "cell_type": "code",
   "execution_count": null,
   "outputs": [],
   "source": [
    "from __future__ import print_function\n",
    "\n",
    "\n",
    "class Node:\n",
    "  def __init__(self, value, next=None):\n",
    "    self.value = value\n",
    "    self.next = next\n",
    "\n",
    "  def print_list(self):\n",
    "    temp = self\n",
    "    while temp is not None:\n",
    "      print(temp.value, end=\" \")\n",
    "      temp = temp.next\n",
    "    print()\n",
    "\n",
    "\n",
    "def reverse_alternate_k_elements(head, k):\n",
    "  if k <= 1 or head is None:\n",
    "    return head\n",
    "\n",
    "  current, previous = head, None\n",
    "  while True:\n",
    "    last_node_of_previous_part = previous\n",
    "    last_node_of_sub_list = current\n",
    "\n",
    "    i = 0\n",
    "    while current is not None and i < k:\n",
    "      temp = current\n",
    "      current = current.next\n",
    "      temp.next = previous\n",
    "      previous = temp\n",
    "      i += 1\n",
    "\n",
    "    # connect with the previous part\n",
    "    if last_node_of_previous_part is not None:\n",
    "      last_node_of_previous_part.next = previous\n",
    "    else:\n",
    "      head = previous\n",
    "\n",
    "    last_node_of_sub_list.next = current\n",
    "\n",
    "    if current is None:\n",
    "      break\n",
    "\n",
    "    i = 0\n",
    "    while current is not None and i < k:\n",
    "      previous = current\n",
    "      current = current.next\n",
    "      i += 1\n",
    "\n",
    "    if current is None:\n",
    "      break\n",
    "\n",
    "  return head"
   ],
   "metadata": {
    "collapsed": false
   }
  },
  {
   "cell_type": "markdown",
   "source": [
    "Problem Challenge 2\n",
    "\n",
    "Rotate a LinkedList (medium)\n",
    "\n",
    "Given the head of a Singly LinkedList and a number ‘k’, rotate the LinkedList to the right by ‘k’ nodes."
   ],
   "metadata": {
    "collapsed": false
   }
  },
  {
   "cell_type": "code",
   "execution_count": null,
   "outputs": [],
   "source": [
    "from __future__ import print_function\n",
    "\n",
    "\n",
    "class Node:\n",
    "  def __init__(self, value, next=None):\n",
    "    self.value = value\n",
    "    self.next = next\n",
    "\n",
    "  def print_list(self):\n",
    "    temp = self\n",
    "    while temp is not None:\n",
    "      print(temp.value, end=\" \")\n",
    "      temp = temp.next\n",
    "    print()\n",
    "\n",
    "\n",
    "def rotate(head, rotations):\n",
    "  last = head\n",
    "  leng = 1\n",
    "  while last.next is not None:\n",
    "    last = last.next\n",
    "    leng += 1\n",
    "\n",
    "  index = rotations%leng\n",
    "  i = 0\n",
    "  before_begin, begin = None, head\n",
    "  while i < index:\n",
    "    before_begin = begin\n",
    "    begin = begin.next\n",
    "    i += 1\n",
    "\n",
    "  last.next = head\n",
    "  before_begin.next = None\n",
    "\n",
    "  return begin"
   ],
   "metadata": {
    "collapsed": false
   }
  }
 ],
 "metadata": {
  "kernelspec": {
   "display_name": "Python 3",
   "language": "python",
   "name": "python3"
  },
  "language_info": {
   "codemirror_mode": {
    "name": "ipython",
    "version": 2
   },
   "file_extension": ".py",
   "mimetype": "text/x-python",
   "name": "python",
   "nbconvert_exporter": "python",
   "pygments_lexer": "ipython2",
   "version": "2.7.6"
  }
 },
 "nbformat": 4,
 "nbformat_minor": 0
}
