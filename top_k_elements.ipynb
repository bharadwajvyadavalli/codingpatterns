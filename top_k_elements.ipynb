{
 "cells": [
  {
   "cell_type": "markdown",
   "source": [
    "Problem Statement\n",
    "Given an array of points in the a 2D2D plane, find ‘K’ closest points to the origin.\n",
    "\n",
    "Example 1:\n",
    "\n",
    "Input: points = [[1,2],[1,3]], K = 1\n",
    "Output: [[1,2]]\n",
    "Explanation: The Euclidean distance between (1, 2) and the origin is sqrt(5).\n",
    "The Euclidean distance between (1, 3) and the origin is sqrt(10).\n",
    "Since sqrt(5) < sqrt(10), therefore (1, 2) is closer to the origin.\n",
    "Example 2:\n",
    "\n",
    "Input: point = [[1, 3], [3, 4], [2, -1]], K = 2\n",
    "Output: [[1, 3], [2, -1]]"
   ],
   "metadata": {
    "collapsed": false
   }
  },
  {
   "cell_type": "code",
   "execution_count": null,
   "outputs": [],
   "source": [
    "import math\n",
    "from heapq import *\n",
    "\n",
    "class Point:\n",
    "\n",
    "  def __init__(self, x, y):\n",
    "    self.x = x\n",
    "    self.y = y\n",
    "\n",
    "  def print_point(self):\n",
    "    print(\"[\" + str(self.x) + \", \" + str(self.y) + \"] \", end='')\n",
    "    print(self.x **2+self.y **2 )\n",
    "  def __lt__(self, other):\n",
    "\n",
    "        return (self.x **2+self.y **2 ) > (other.x **2+other.y **2)\n",
    "\n",
    "def find_closest_points(points, k):\n",
    "  result = []\n",
    "  for point in points:\n",
    "    if len(result) <k:\n",
    "      heappush(result, point)\n",
    "    else:\n",
    "      if (point.x **2+point.y **2 ) < (result[0].x **2+result[0].y **2):\n",
    "        heappop(result)\n",
    "        heappush(result, point)\n",
    "\n",
    "  return result"
   ],
   "metadata": {
    "collapsed": false
   }
  },
  {
   "cell_type": "markdown",
   "source": [
    "Problem Statement\n",
    "Given ‘N’ ropes with different lengths, we need to connect these ropes into one big rope with minimum cost.\n",
    "The cost of connecting two ropes is equal to the sum of their lengths.\n",
    "\n",
    "Example 1:\n",
    "\n",
    "Input: [1, 3, 11, 5]\n",
    "Output: 33\n",
    "Explanation: First connect 1+3(=4), then 4+5(=9), and then 9+11(=20). So the total cost is 33 (4+9+20)\n",
    "Example 2:\n",
    "\n",
    "Input: [3, 4, 5, 6]\n",
    "Output: 36\n",
    "Explanation: First connect 3+4(=7), then 5+6(=11), 7+11(=18). Total cost is 36 (7+11+18)\n",
    "Example 3:\n",
    "\n",
    "Input: [1, 3, 11, 5, 2]\n",
    "Output: 42\n",
    "Explanation: First connect 1+2(=3), then 3+3(=6), 6+5(=11), 11+11(=22). Total cost is 42 (3+6+11+22)"
   ],
   "metadata": {
    "collapsed": false
   }
  },
  {
   "cell_type": "code",
   "execution_count": null,
   "outputs": [],
   "source": [
    "def minimum_cost_to_connect_ropes(ropeLengths):\n",
    "  result = []\n",
    "  for i in ropeLengths:\n",
    "    heappush(result,i)\n",
    "\n",
    "  length = 0\n",
    "  while len(result)>1:\n",
    "    temp = heappop(result) + heappop(result)\n",
    "    length += temp\n",
    "    heappush(result,temp)\n",
    "  return length\n"
   ],
   "metadata": {
    "collapsed": false
   }
  },
  {
   "cell_type": "markdown",
   "source": [
    "Problem Statement\n",
    "Given an unsorted array of numbers, find the ‘K’ largest numbers in it.\n",
    "\n",
    "Note: For a detailed discussion about different approaches to solve this problem, take a look at Kth Smallest Number.\n",
    "\n",
    "Example 1:\n",
    "\n",
    "Input: [3, 1, 5, 12, 2, 11], K = 3\n",
    "Output: [5, 12, 11]\n",
    "Example 2:\n",
    "\n",
    "Input: [5, 12, 11, -1, 12], K = 3\n",
    "Output: [12, 11, 12]"
   ],
   "metadata": {
    "collapsed": false
   }
  },
  {
   "cell_type": "code",
   "execution_count": null,
   "outputs": [],
   "source": [
    "from heapq import *\n",
    "\n",
    "def find_k_largest_numbers(nums, k):\n",
    "  result = []\n",
    "  # TODO: Write your code here\n",
    "\n",
    "  for num in nums:\n",
    "    if len(result) < k:\n",
    "      heappush(result, num)\n",
    "    else:\n",
    "      if num > result[0]:\n",
    "        heappop(result)\n",
    "        heappush(result, num)\n",
    "\n",
    "  return result"
   ],
   "metadata": {
    "collapsed": false
   }
  },
  {
   "cell_type": "markdown",
   "source": [
    "Problem Statement\n",
    "Given an unsorted array of numbers, find Kth smallest number in it.\n",
    "\n",
    "Please note that it is the Kth smallest number in the sorted order, not the Kth distinct element.\n",
    "\n",
    "Note: For a detailed discussion about different approaches to solve this problem, take a look at Kth Smallest Number.\n",
    "\n",
    "Example 1:\n",
    "\n",
    "Input: [1, 5, 12, 2, 11, 5], K = 3\n",
    "Output: 5\n",
    "Explanation: The 3rd smallest number is '5', as the first two smaller numbers are [1, 2].\n",
    "Example 2:\n",
    "\n",
    "Input: [1, 5, 12, 2, 11, 5], K = 4\n",
    "Output: 5\n",
    "Explanation: The 4th smallest number is '5', as the first three small numbers are [1, 2, 5].\n",
    "Example 3:\n",
    "\n",
    "Input: [5, 12, 11, -1, 12], K = 3\n",
    "Output: 11\n",
    "Explanation: The 3rd smallest number is '11', as the first two small numbers are [5, -1]."
   ],
   "metadata": {
    "collapsed": false
   }
  },
  {
   "cell_type": "code",
   "execution_count": null,
   "outputs": [],
   "source": [
    "def find_Kth_smallest_number(nums, k):\n",
    "  # TODO: Write your code here\n",
    "  result = []\n",
    "  for num in nums:\n",
    "      heappush(result,num)\n",
    "  return result[k-1]"
   ],
   "metadata": {
    "collapsed": false
   }
  },
  {
   "cell_type": "markdown",
   "source": [
    "Problem Statement\n",
    "Given a sorted number array and two integers ‘K’ and ‘X’, find ‘K’ closest numbers to ‘X’ in the array.\n",
    "Return the numbers in the sorted order. ‘X’ is not necessarily present in the array.\n",
    "\n",
    "Example 1:\n",
    "\n",
    "Input: [5, 6, 7, 8, 9], K = 3, X = 7\n",
    "Output: [6, 7, 8]\n",
    "Example 2:\n",
    "\n",
    "Input: [2, 4, 5, 6, 9], K = 3, X = 6\n",
    "Output: [4, 5, 6]\n",
    "Example 3:\n",
    "\n",
    "Input: [2, 4, 5, 6, 9], K = 3, X = 10\n",
    "Output: [5, 6, 9]"
   ],
   "metadata": {
    "collapsed": false
   }
  },
  {
   "cell_type": "code",
   "execution_count": null,
   "outputs": [],
   "source": [
    "def find_closest_elements(arr, K, X):\n",
    "  result = []\n",
    "\n",
    "  temp1, temp2 = [], []\n",
    "  for i in arr:\n",
    "    heappush(temp1,(abs(X-i),i))\n",
    "\n",
    "  i = K\n",
    "  while i>0:\n",
    "    heappush(temp2,heappop(temp1)[1])\n",
    "    i -= 1\n",
    "\n",
    "  while temp2:\n",
    "    result.append(heappop(temp2))\n",
    "  return result"
   ],
   "metadata": {
    "collapsed": false
   }
  },
  {
   "cell_type": "markdown",
   "source": [
    "Problem Statement\n",
    "Given an array of numbers and a number ‘K’, we need to remove ‘K’ numbers from the array such that we are left with maximum distinct numbers.\n",
    "\n",
    "Example 1:\n",
    "\n",
    "Input: [7, 3, 5, 8, 5, 3, 3], and K=2\n",
    "Output: 3\n",
    "Explanation: We can remove two occurrences of 3 to be left with 3 distinct numbers [7, 3, 8], we have\n",
    "to skip 5 because it is not distinct and occurred twice.\n",
    "Another solution could be to remove one instance of '5' and '3' each to be left with three\n",
    "distinct numbers [7, 5, 8], in this case, we have to skip 3 because it occurred twice.\n",
    "\n",
    "Example 2:\n",
    "\n",
    "Input: [3, 5, 12, 11, 12], and K=3\n",
    "Output: 2\n",
    "Explanation: We can remove one occurrence of 12, after which all numbers will become distinct. Then\n",
    "we can delete any two numbers which will leave us 2 distinct numbers in the result.\n",
    "\n",
    "Example 3:\n",
    "\n",
    "Input: [1, 2, 3, 3, 3, 3, 4, 4, 5, 5, 5], and K=2\n",
    "Output: 3\n",
    "Explanation: We can remove one occurrence of '4' to get three distinct numbers."
   ],
   "metadata": {
    "collapsed": false
   }
  },
  {
   "cell_type": "code",
   "execution_count": null,
   "outputs": [],
   "source": [
    "def find_maximum_distinct_elements(nums, k):\n",
    "  if len(nums) <= k:\n",
    "    return 0\n",
    "  mapping = {}\n",
    "  for num in nums:\n",
    "    mapping[num] = mapping.get(num,0) + 1\n",
    "\n",
    "  count = 0\n",
    "  heap = []\n",
    "  for num, freq in mapping.items():\n",
    "    if freq == 1:\n",
    "      count += 1\n",
    "    else:\n",
    "      heappush(heap,(freq,num))\n",
    "\n",
    "  while k>0 and heap:\n",
    "    freq, num = heappop(heap)\n",
    "    if freq-1 == 1:\n",
    "      count +=1\n",
    "    else:\n",
    "      heappush(heap,(freq-1,num))\n",
    "    k-=1\n",
    "  count -= k\n",
    "\n",
    "  return count"
   ],
   "metadata": {
    "collapsed": false
   }
  },
  {
   "cell_type": "markdown",
   "source": [
    "Problem Statement\n",
    "Given an array, find the sum of all numbers between the K1’th and K2’th smallest elements of that array.\n",
    "\n",
    "Example 1:\n",
    "\n",
    "Input: [1, 3, 12, 5, 15, 11], and K1=3, K2=6\n",
    "Output: 23\n",
    "Explanation: The 3rd smallest number is 5 and 6th smallest number 15. The sum of numbers coming\n",
    "between 5 and 15 is 23 (11+12).\n",
    "\n",
    "Example 2:\n",
    "\n",
    "Input: [3, 5, 8, 7], and K1=1, K2=4\n",
    "Output: 12\n",
    "Explanation: The sum of the numbers between the 1st smallest number (3) and the 4th smallest\n",
    "number (8) is 12 (5+7)."
   ],
   "metadata": {
    "collapsed": false
   }
  },
  {
   "cell_type": "code",
   "execution_count": null,
   "outputs": [],
   "source": [
    "def find_sum_of_elements(nums, k1, k2):\n",
    "  # TODO: Write your code here\n",
    "  temp = []\n",
    "  for num in nums:\n",
    "    heappush(temp, num)\n",
    "\n",
    "  k, result = 0, 0\n",
    "  while temp:\n",
    "    k +=1\n",
    "    num = heappop(temp)\n",
    "    if k >k1 and k <k2:\n",
    "      result += num\n",
    "\n",
    "  return result"
   ],
   "metadata": {
    "collapsed": false
   }
  },
  {
   "cell_type": "markdown",
   "source": [
    "Problem Statement\n",
    "Given an unsorted array of numbers, find the top ‘K’ frequently occurring numbers in it.\n",
    "\n",
    "Example 1:\n",
    "\n",
    "Input: [1, 3, 5, 12, 11, 12, 11], K = 2\n",
    "Output: [12, 11]\n",
    "Explanation: Both '11' and '12' apeared twice.\n",
    "Example 2:\n",
    "\n",
    "Input: [5, 12, 11, 3, 11], K = 2\n",
    "Output: [11, 5] or [11, 12] or [11, 3]\n",
    "Explanation: Only '11' appeared twice, all other numbers appeared once."
   ],
   "metadata": {
    "collapsed": false
   }
  },
  {
   "cell_type": "code",
   "execution_count": null,
   "outputs": [],
   "source": [
    "def find_k_frequent_numbers(nums, k):\n",
    "  topNumbers = []\n",
    "  result = []\n",
    "  # TODO: Write your code here\n",
    "  mapping = {}\n",
    "  for num in nums:\n",
    "    if num not in mapping:\n",
    "      mapping[num] = 1\n",
    "    else:\n",
    "      mapping[num] += 1\n",
    "\n",
    "  for num, freq in mapping.items():\n",
    "    if len(result)<k:\n",
    "      heappush(result,(freq, num))\n",
    "    else:\n",
    "      if freq > result[0][0]:\n",
    "        heappop(result)\n",
    "        heappush(result,(freq, num))\n",
    "\n",
    "  for i in range(len(result)-1,-1,-1):\n",
    "    topNumbers.append(result[i][1])\n",
    "  return topNumbers"
   ],
   "metadata": {
    "collapsed": false
   }
  },
  {
   "cell_type": "markdown",
   "source": [
    "Problem Statement\n",
    "Given a string, sort it based on the decreasing frequency of its characters.\n",
    "\n",
    "Example 1:\n",
    "\n",
    "Input: \"Programming\"\n",
    "Output: \"rrggmmPiano\"\n",
    "Explanation: 'r', 'g', and 'm' appeared twice, so they need to appear before any other character.\n",
    "Example 2:\n",
    "\n",
    "Input: \"abcbab\"\n",
    "Output: \"bbbaac\"\n",
    "Explanation: 'b' appeared three times, 'a' appeared twice, and 'c' appeared only once."
   ],
   "metadata": {
    "collapsed": false
   }
  },
  {
   "cell_type": "code",
   "execution_count": null,
   "outputs": [],
   "source": [
    "def sort_character_by_frequency(str):\n",
    "  # TODO: Write your code here\n",
    "  mapping= {}\n",
    "  for i in str:\n",
    "    mapping[i] = mapping.get(i,0) + 1\n",
    "\n",
    "  temp =[]\n",
    "  for i, freq in mapping.items():\n",
    "    heappush(temp,(-freq,i))\n",
    "\n",
    "  result=\"\"\n",
    "  while temp:\n",
    "    freq, i = heappop(temp)\n",
    "    result += i*(-freq)\n",
    "  return result"
   ],
   "metadata": {
    "collapsed": false
   }
  },
  {
   "cell_type": "markdown",
   "source": [
    "Problem Statement\n",
    "Design a class to efficiently find the Kth largest element in a stream of numbers.\n",
    "\n",
    "The class should have the following two things:\n",
    "\n",
    "The constructor of the class should accept an integer array containing initial numbers from the stream and an integer ‘K’.\n",
    "The class should expose a function add(int num) which will store the given number and return the Kth largest number.\n",
    "Example 1:\n",
    "\n",
    "Input: [3, 1, 5, 12, 2, 11], K = 4\n",
    "1. Calling add(6) should return '5'.\n",
    "2. Calling add(13) should return '6'.\n",
    "2. Calling add(4) should still return '6'."
   ],
   "metadata": {
    "collapsed": false
   }
  },
  {
   "cell_type": "code",
   "execution_count": null,
   "outputs": [],
   "source": [
    "class KthLargestNumberInStream:\n",
    "  def __init__(self, nums, k):\n",
    "    self.k = k\n",
    "    self.result = []\n",
    "\n",
    "    for num in nums:\n",
    "      heappush(self.result,num)\n",
    "      if len(self.result) > self.k:\n",
    "        heappop(self.result)\n",
    "\n",
    "  def add(self, num):\n",
    "    # TODO: Write your code here\n",
    "    heappush(self.result,num)\n",
    "    if len(self.result) > self.k:\n",
    "      heappop(self.result)\n",
    "    return self.result[0]"
   ],
   "metadata": {
    "collapsed": false
   }
  },
  {
   "cell_type": "markdown",
   "source": [
    "Problem Challenge 1\n",
    "Rearrange String K Distance Apart (hard)\n",
    "Given a string and a number ‘K’, find if the string can be rearranged such that the same characters are at least ‘K’ distance apart from each other.\n",
    "\n",
    "Example 1:\n",
    "\n",
    "Input: \"mmpp\", K=2\n",
    "Output: \"mpmp\" or \"pmpm\"\n",
    "Explanation: All same characters are 2 distance apart.\n",
    "\n",
    "Example 2:\n",
    "\n",
    "Input: \"Programming\", K=3\n",
    "Output: \"rgmPrgmiano\" or \"gmringmrPoa\" or \"gmrPagimnor\" and a few more\n",
    "Explanation: All same characters are 3 distance apart.\n",
    "\n",
    "Example 3:\n",
    "\n",
    "Input: \"aab\", K=2\n",
    "Output: \"aba\"\n",
    "Explanation: All same characters are 2 distance apart.\n",
    "\n",
    "Example 4:\n",
    "\n",
    "Input: \"aappa\", K=3\n",
    "Output: \"\"\n",
    "Explanation: We cannot find an arrangement of the string where any two 'a' are 3 distance apart."
   ],
   "metadata": {
    "collapsed": false
   }
  },
  {
   "cell_type": "code",
   "execution_count": null,
   "outputs": [],
   "source": [
    "def reorganize_string(str, k):\n",
    "  # TODO: Write your code here\n",
    "  mapping = {}\n",
    "\n",
    "  for i in str:\n",
    "    mapping[i] = mapping.get(i,0) +1\n",
    "\n",
    "  heap = []\n",
    "  for i, freq in mapping.items():\n",
    "    heappush(heap,(-freq,i))\n",
    "\n",
    "  result =''\n",
    "  queue = deque()\n",
    "\n",
    "  while heap:\n",
    "    freq, i  = heappop(heap)\n",
    "    result += i\n",
    "    queue.append((freq+1,i))\n",
    "\n",
    "    if len(queue) >= k:\n",
    "      freq, i = queue.popleft()\n",
    "      if -freq > 0:\n",
    "        heappush(heap,(freq,i))\n",
    "\n",
    "  return result if len(result) == len(str) else ''"
   ],
   "metadata": {
    "collapsed": false
   }
  },
  {
   "cell_type": "markdown",
   "source": [
    "Problem Challenge 2\n",
    "Scheduling Tasks (hard)\n",
    "\n",
    "You are given a list of tasks that need to be run, in any order, on a server. Each task will take one CPU interval to execute but once a task has finished, it has a cooling period during which it can’t be run again. If the cooling period for all tasks is ‘K’ intervals, find the minimum number of CPU intervals that the server needs to finish all tasks.\n",
    "\n",
    "If at any time the server can’t execute any task then it must stay idle.\n",
    "\n",
    "Example 1:\n",
    "\n",
    "Input: [a, a, a, b, c, c], K=2\n",
    "Output: 7\n",
    "Explanation: a -> c -> b -> a -> c -> idle -> a\n",
    "\n",
    "Example 2:\n",
    "\n",
    "Input: [a, b, a], K=3\n",
    "Output: 5\n",
    "Explanation: a -> b -> idle -> idle -> a"
   ],
   "metadata": {
    "collapsed": false
   }
  },
  {
   "cell_type": "code",
   "execution_count": null,
   "outputs": [],
   "source": [
    "def schedule_tasks(tasks, k):\n",
    "  intervalCount = 0\n",
    "  # TODO: Write your code here\n",
    "  mapping = {}\n",
    "  for i in tasks:\n",
    "    mapping[i] = mapping.get(i,0) + 1\n",
    "\n",
    "  heap = []\n",
    "  for i, freq in mapping.items():\n",
    "    heappush(heap,(-freq,i))\n",
    "\n",
    "  queue = deque()\n",
    "  char = ''\n",
    "  while heap:\n",
    "      freq, i = heappop(heap)\n",
    "\n",
    "      intervalCount += 1\n",
    "      if i == char:\n",
    "        print(k-len_queue)\n",
    "        intervalCount += (k-len_queue)\n",
    "      queue.append((freq,i))\n",
    "\n",
    "\n",
    "\n",
    "      if len(queue) > k:\n",
    "        freq, i = queue.popleft()\n",
    "        if -freq > 1:\n",
    "          char = i\n",
    "          heappush(heap,(freq+1,i))\n",
    "\n",
    "      if heap == [] and queue != []:\n",
    "        freq, i = queue.popleft()\n",
    "        if -freq > 1:\n",
    "          char = i\n",
    "          heappush(heap,(freq+1,i))\n",
    "\n",
    "      len_queue = len(queue)\n",
    "\n",
    "  return intervalCount"
   ],
   "metadata": {
    "collapsed": false
   }
  },
  {
   "cell_type": "markdown",
   "source": [
    "Problem Challenge 3\n",
    "\n",
    "Frequency Stack (hard)\n",
    "Design a class that simulates a Stack data structure, implementing the following two operations:\n",
    "\n",
    "push(int num): Pushes the number ‘num’ on the stack.\n",
    "pop(): Returns the most frequent number in the stack. If there is a tie, return the number which was pushed later.\n",
    "Example:\n",
    "\n",
    "After following push operations: push(1), push(2), push(3), push(2), push(1), push(2), push(5)\n",
    "\n",
    "1. pop() should return 2, as it is the most frequent number\n",
    "2. Next pop() should return 1\n",
    "3. Next pop() should return 2"
   ],
   "metadata": {
    "collapsed": false
   }
  },
  {
   "cell_type": "code",
   "execution_count": null,
   "outputs": [],
   "source": [
    "class FrequencyStack:\n",
    "  def __init__(self):\n",
    "    self.heap = []\n",
    "    self.mapping= {}\n",
    "\n",
    "  def push(self, num):\n",
    "    # TODO: Write your code here\n",
    "    self.mapping[num] = self.mapping.get(num, 0) + 1\n",
    "    if num not in self.heap:\n",
    "      heappush(self.heap,(-self.mapping[num],num))\n",
    "    else:\n",
    "      index = self.heap.index(num)\n",
    "      if index == len(self.heap) -1:\n",
    "        self.heap = self.heap[:index]\n",
    "      else:\n",
    "        self.heap = self.heap[0:index] + self.heap[index+1:]\n",
    "      heappush(self.heap,(-mapping[num],num))\n",
    "\n",
    "  def pop(self):\n",
    "    freq, i = heappop(self.heap)\n",
    "    if -freq > 1:\n",
    "      heappush(self.heap,(-freq+1, i))\n",
    "    return i"
   ],
   "metadata": {
    "collapsed": false
   }
  },
  {
   "cell_type": "markdown",
   "source": [
    "Problem Statement\n",
    "Given a string, find if its letters can be rearranged in such a way that no two same characters ome next to each other.\n",
    "\n",
    "Example 1:\n",
    "\n",
    "Input: \"aappp\"\n",
    "Output: \"papap\"\n",
    "Explanation: In \"papap\", none of the repeating characters come next to each other.\n",
    "\n",
    "Example 2:\n",
    "\n",
    "Input: \"Programming\"\n",
    "Output: \"rgmrgmPiano\" or \"gmringmrPoa\" or \"gmrPagimnor\", etc.\n",
    "Explanation: None of the repeating characters come next to each other.\n",
    "\n",
    "Example 3:\n",
    "\n",
    "Input: \"aapa\"\n",
    "Output: \"\"\n",
    "Explanation: In all arrangements of \"aapa\", atleast two 'a' will come together e.g., \"apaa\", \"paaa\"."
   ],
   "metadata": {
    "collapsed": false
   }
  },
  {
   "cell_type": "code",
   "execution_count": null,
   "outputs": [],
   "source": [
    "def rearrange_string(str):\n",
    "  mapping = {}\n",
    "  for i in str:\n",
    "    mapping[i] = mapping.get(i,0) +1\n",
    "\n",
    "  heap=[]\n",
    "  for i, freq in mapping.items():\n",
    "    heappush(heap,(-freq,i))\n",
    "\n",
    "  result =''\n",
    "  while heap:\n",
    "    most_freq, most_i = heappop(heap)\n",
    "    result += most_i\n",
    "    if -most_freq > 1:\n",
    "      heappush(heap,(most_freq+1,most_i))\n",
    "    if heap:\n",
    "      sec_freq, sec_i =heappop(heap)\n",
    "      if sec_i == most_i:\n",
    "        return ''\n",
    "      else:\n",
    "        heappush(heap,(sec_freq,sec_i))\n",
    "  return result"
   ],
   "metadata": {
    "collapsed": false
   }
  }
 ],
 "metadata": {
  "kernelspec": {
   "display_name": "Python 3",
   "language": "python",
   "name": "python3"
  },
  "language_info": {
   "codemirror_mode": {
    "name": "ipython",
    "version": 2
   },
   "file_extension": ".py",
   "mimetype": "text/x-python",
   "name": "python",
   "nbconvert_exporter": "python",
   "pygments_lexer": "ipython2",
   "version": "2.7.6"
  }
 },
 "nbformat": 4,
 "nbformat_minor": 0
}
