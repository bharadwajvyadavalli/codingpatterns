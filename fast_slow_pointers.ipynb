{
 "cells": [
  {
   "cell_type": "markdown",
   "source": [
    "Problem Statement\n",
    "Given the head of a Singly LinkedList, write a function to determine if the LinkedList has a cycle in it or not.\n"
   ],
   "metadata": {
    "collapsed": false
   }
  },
  {
   "cell_type": "code",
   "execution_count": null,
   "outputs": [],
   "source": [
    "class Node:\n",
    "  def __init__(self, value, next=None):\n",
    "    self.value = value\n",
    "    self.next = next\n",
    "\n",
    "\n",
    "def has_cycle(head):\n",
    "  # TODO: Write your code here\n",
    "  slow, fast = head, head\n",
    "  while fast is not None and fast.next is not None:\n",
    "    fast=fast.next.next\n",
    "    slow=slow.next\n",
    "    if slow == fast:\n",
    "      return True\n",
    "\n",
    "  return False"
   ],
   "metadata": {
    "collapsed": false
   }
  },
  {
   "cell_type": "markdown",
   "source": [
    "Problem Statement\n",
    "Given the head of a Singly LinkedList, write a method to return the middle node of the LinkedList.\n",
    "\n",
    "If the total number of nodes in the LinkedList is even, return the second middle node.\n",
    "\n",
    "Example 1:\n",
    "\n",
    "Input: 1 -> 2 -> 3 -> 4 -> 5 -> null\n",
    "Output: 3\n",
    "\n",
    "Example 2:\n",
    "\n",
    "Input: 1 -> 2 -> 3 -> 4 -> 5 -> 6 -> null\n",
    "Output: 4\n",
    "\n",
    "Example 3:\n",
    "\n",
    "Input: 1 -> 2 -> 3 -> 4 -> 5 -> 6 -> 7 -> null\n",
    "Output: 4"
   ],
   "metadata": {
    "collapsed": false
   }
  },
  {
   "cell_type": "code",
   "execution_count": null,
   "outputs": [],
   "source": [
    "class Node:\n",
    "    def __init__(self, value, next=None):\n",
    "        self.value = value\n",
    "        self.next = next\n",
    "\n",
    "\n",
    "def find_middle_of_linked_list(head):\n",
    "    slow, fast = head, head\n",
    "    while fast is not None and fast.next is not None:\n",
    "        fast = fast.next.next\n",
    "        slow = slow.next\n",
    "    return slow"
   ],
   "metadata": {
    "collapsed": false
   }
  },
  {
   "cell_type": "markdown",
   "source": [
    "Problem Statement\n",
    "Given the head of a Singly LinkedList that contains a cycle, write a function to find the starting node of the cycle.\n"
   ],
   "metadata": {
    "collapsed": false
   }
  },
  {
   "cell_type": "code",
   "execution_count": null,
   "outputs": [],
   "source": [
    "from __future__ import print_function\n",
    "\n",
    "\n",
    "class Node:\n",
    "  def __init__(self, value, next=None):\n",
    "    self.value = value\n",
    "    self.next = next\n",
    "\n",
    "  def print_list(self):\n",
    "    temp = self\n",
    "    while temp is not None:\n",
    "      print(temp.value, end='')\n",
    "      temp = temp.next\n",
    "    print()\n",
    "\n",
    "\n",
    "def find_cycle_start(head):\n",
    "  # TODO: Write your code here\n",
    "  slow, fast = head, head\n",
    "  while fast is not None and fast.next is not None:\n",
    "    fast = fast.next.next\n",
    "    slow = slow.next\n",
    "    if slow == fast:\n",
    "      leng = length(slow)\n",
    "      break\n",
    "  return search_start(head, leng)\n",
    "\n",
    "def length(node):\n",
    "  current = node\n",
    "  length = 0\n",
    "  while current is not None:\n",
    "    current = current.next\n",
    "    length += 1\n",
    "    if current == node:\n",
    "      return length\n",
    "  return 0\n",
    "\n",
    "def search_start(head, length):\n",
    "  slow, fast = head, head\n",
    "  for i in range(length):\n",
    "    fast=fast.next\n",
    "\n",
    "  while slow != fast:\n",
    "    fast = fast.next\n",
    "    slow = slow.next\n",
    "\n",
    "  return slow"
   ],
   "metadata": {
    "collapsed": false
   }
  },
  {
   "cell_type": "markdown",
   "source": [
    "Problem Statement\n",
    "Any number will be called a happy number if,\n",
    "after repeatedly replacing it with a number equal to the sum of the square of all of its digits,\n",
    "leads us to number ‘1’. All other (not-happy) numbers will never reach ‘1’.\n",
    "Instead, they will be stuck in a cycle of numbers which does not include ‘1’.\n"
   ],
   "metadata": {
    "collapsed": false
   }
  },
  {
   "cell_type": "code",
   "execution_count": null,
   "outputs": [],
   "source": [
    "def find_happy_number(num):\n",
    "  # TODO: Write your code here\n",
    "  fast, slow = num, num\n",
    "  while True:\n",
    "    fast = square(square(fast))\n",
    "    slow = square(slow)\n",
    "\n",
    "    if fast == slow:\n",
    "      break\n",
    "\n",
    "  return slow == 1\n",
    "\n",
    "def square(num):\n",
    "  square_num = 0\n",
    "  while num  > 0:\n",
    "    square_num += (num % 10) ** 2\n",
    "    num = num // 10\n",
    "  return square_num"
   ],
   "metadata": {
    "collapsed": false
   }
  },
  {
   "cell_type": "markdown",
   "source": [
    "Problem Challenge 1\n",
    "Palindrome LinkedList (medium)\n",
    "\n",
    "Given the head of a Singly LinkedList, write a method to check if the LinkedList is a palindrome or not.\n",
    "\n",
    "Your algorithm should use constant space and the input LinkedList should be in the original form once the algorithm is finished. The algorithm should have O(N)O(N) time complexity where ‘N’ is the number of nodes in the LinkedList.\n",
    "\n",
    "Example 1:\n",
    "\n",
    "Input: 2 -> 4 -> 6 -> 4 -> 2 -> null\n",
    "Output: true\n",
    "\n",
    "Example 2:\n",
    "\n",
    "Input: 2 -> 4 -> 6 -> 4 -> 2 -> 2 -> null\n",
    "Output: false"
   ],
   "metadata": {
    "collapsed": false
   }
  },
  {
   "cell_type": "code",
   "execution_count": null,
   "outputs": [],
   "source": [
    "class Node:\n",
    "  def __init__(self, value, next=None):\n",
    "    self.value = value\n",
    "    self.next = next\n",
    "\n",
    "\n",
    "def is_palindromic_linked_list(head):\n",
    "  # TODO: Write your code here\n",
    "  slow, fast = head, head\n",
    "  while fast is not None and fast.next is not None:\n",
    "    slow=slow.next\n",
    "    fast=fast.next.next\n",
    "\n",
    "  end=reverse(slow)\n",
    "  copy_end=end\n",
    "\n",
    "  while head is not None and end is not None:\n",
    "\n",
    "    if head.value != end.value:\n",
    "\n",
    "      return False\n",
    "    head = head.next\n",
    "    end = end.next\n",
    "\n",
    "  reverse(copy_end)\n",
    "\n",
    "  return True\n",
    "\n",
    "\n",
    "def reverse(head):\n",
    "  former, latter = None, head\n",
    "  temp = None\n",
    "  while latter:\n",
    "     temp = latter\n",
    "     latter = latter.next\n",
    "     temp.next = former\n",
    "     former = temp\n",
    "\n",
    "  return temp"
   ],
   "metadata": {
    "collapsed": false
   }
  },
  {
   "cell_type": "markdown",
   "source": [
    "Problem Challenge 2\n",
    "\n",
    "Rearrange a LinkedList (medium)\n",
    "\n",
    "Given the head of a Singly LinkedList, write a method to modify the LinkedList such that the nodes from the second half of the LinkedList are inserted alternately to the nodes from the first half in reverse order. So if the LinkedList has nodes 1 -> 2 -> 3 -> 4 -> 5 -> 6 -> null, your method should return 1 -> 6 -> 2 -> 5 -> 3 -> 4 -> null.\n",
    "\n",
    "Your algorithm should not use any extra space and the input LinkedList should be modified in-place.\n",
    "\n",
    "Example 1:\n",
    "\n",
    "Input: 2 -> 4 -> 6 -> 8 -> 10 -> 12 -> null\n",
    "Output: 2 -> 12 -> 4 -> 10 -> 6 -> 8 -> null\n",
    "\n",
    "Example 2:\n",
    "\n",
    "Input: 2 -> 4 -> 6 -> 8 -> 10 -> null\n",
    "Output: 2 -> 10 -> 4 -> 8 -> 6 -> null"
   ],
   "metadata": {
    "collapsed": false
   }
  },
  {
   "cell_type": "code",
   "execution_count": null,
   "outputs": [],
   "source": [
    "from __future__ import print_function\n",
    "\n",
    "\n",
    "class Node:\n",
    "  def __init__(self, value, next=None):\n",
    "    self.value = value\n",
    "    self.next = next\n",
    "\n",
    "  def print_list(self):\n",
    "    temp = self\n",
    "    while temp is not None:\n",
    "      print(str(temp.value) + \" \", end='')\n",
    "      temp = temp.next\n",
    "    print()\n",
    "\n",
    "\n",
    "def reorder(head):\n",
    "  # TODO: Write your code here\n",
    "  slow, fast =head, head\n",
    "  while fast is not None and fast.next is not None:\n",
    "    slow = slow.next\n",
    "    fast = fast.next.next\n",
    "\n",
    "  end = reverse(slow)\n",
    "\n",
    "  head_temp=head\n",
    "\n",
    "  while end:\n",
    "\n",
    "    temp=end\n",
    "    end=end.next\n",
    "    temp.next=head_temp.next\n",
    "    head_temp.next=temp\n",
    "\n",
    "    head_temp=head_temp.next.next\n",
    "  head_temp.next=None\n",
    "\n",
    "  return head\n",
    "\n",
    "\n",
    "def reverse(head):\n",
    "  former, latter=None, head\n",
    "\n",
    "  while latter:\n",
    "    temp=latter\n",
    "    latter=latter.next\n",
    "    temp.next=former\n",
    "    former=temp\n",
    "\n",
    "  return temp"
   ],
   "metadata": {
    "collapsed": false
   }
  },
  {
   "cell_type": "markdown",
   "source": [
    "Problem Challenge 3\n",
    "\n",
    "Cycle in a Circular Array (hard)\n",
    "\n",
    "We are given an array containing positive and negative numbers. Suppose the array contains a number ‘M’ at a particular index.\n",
    "Now, if ‘M’ is positive we will move forward ‘M’ indices and if ‘M’ is negative move backwards ‘M’ indices. You should assume that the array is circular which means two things:\n",
    "\n",
    "If, while moving forward, we reach the end of the array, we will jump to the first element to continue the movement.\n",
    "If, while moving backward, we reach the beginning of the array, we will jump to the last element to continue the movement.\n",
    "Write a method to determine if the array has a cycle. The cycle should have more than one element and should follow one direction which means the cycle should not contain both forward and backward movements.\n",
    "\n",
    "Example 1:\n",
    "\n",
    "Input: [1, 2, -1, 2, 2]\n",
    "Output: true\n",
    "Explanation: The array has a cycle among indices: 0 -> 1 -> 3 -> 0\n",
    "\n",
    "Example 2:\n",
    "\n",
    "Input: [2, 2, -1, 2]\n",
    "Output: true\n",
    "Explanation: The array has a cycle among indices: 1 -> 3 -> 1\n",
    "\n",
    "Example 3:\n",
    "\n",
    "Input: [2, 1, -1, -2]\n",
    "Output: false\n",
    "Explanation: The array does not have any cycle."
   ],
   "metadata": {
    "collapsed": false
   }
  },
  {
   "cell_type": "code",
   "execution_count": null,
   "outputs": [],
   "source": [
    "def circular_array_loop_exists(arr):\n",
    "  for i in range(len(arr)):\n",
    "    is_forward = arr[i] >= 0  # if we are moving forward or not\n",
    "    slow, fast = i, i\n",
    "\n",
    "    # if slow or fast becomes '-1' this means we can't find cycle for this number\n",
    "    while True:\n",
    "      # move one step for slow pointer\n",
    "      slow = find_next_index(arr, is_forward, slow)\n",
    "      # move one step for fast pointer\n",
    "      fast = find_next_index(arr, is_forward, fast)\n",
    "      if (fast != -1):\n",
    "        # move another step for fast pointer\n",
    "        fast = find_next_index(arr, is_forward, fast)\n",
    "      if slow == -1 or fast == -1 or slow == fast:\n",
    "        break\n",
    "\n",
    "    if slow != -1 and slow == fast:\n",
    "      return True\n",
    "\n",
    "  return False\n",
    "\n",
    "\n",
    "def find_next_index(arr, is_forward, current_index):\n",
    "  direction = arr[current_index] >= 0\n",
    "\n",
    "  if is_forward != direction:\n",
    "    return -1  # change in direction, return -1\n",
    "\n",
    "  next_index = (current_index + arr[current_index]) % len(arr)\n",
    "\n",
    "  # one element cycle, return -1\n",
    "  if next_index == current_index:\n",
    "    next_index = -1\n",
    "\n",
    "  return next_index"
   ],
   "metadata": {
    "collapsed": false
   }
  }
 ],
 "metadata": {
  "kernelspec": {
   "display_name": "Python 3",
   "language": "python",
   "name": "python3"
  },
  "language_info": {
   "codemirror_mode": {
    "name": "ipython",
    "version": 2
   },
   "file_extension": ".py",
   "mimetype": "text/x-python",
   "name": "python",
   "nbconvert_exporter": "python",
   "pygments_lexer": "ipython2",
   "version": "2.7.6"
  }
 },
 "nbformat": 4,
 "nbformat_minor": 0
}
