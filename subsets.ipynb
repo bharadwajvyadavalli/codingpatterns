{
 "cells": [
  {
   "cell_type": "markdown",
   "source": [
    "Problem Statement\n",
    "Given a set with distinct elements, find all of its distinct subsets.\n",
    "\n",
    "Example 1:\n",
    "\n",
    "Input: [1, 3]\n",
    "Output: [], [1], [3], [1,3]\n",
    "Example 2:\n",
    "\n",
    "Input: [1, 5, 3]\n",
    "Output: [], [1], [5], [3], [1,5], [1,3], [5,3], [1,5,3]"
   ],
   "metadata": {
    "collapsed": false
   }
  },
  {
   "cell_type": "code",
   "execution_count": null,
   "outputs": [],
   "source": [
    "def find_subsets(nums):\n",
    "  subsets = []\n",
    "  subsets.append([])\n",
    "\n",
    "  for currentNumber in nums:\n",
    "    for i in range(len(subsets)):\n",
    "      j = subsets[i].copy()\n",
    "      j.append(currentNumber)\n",
    "      subsets.append(j)\n",
    "\n",
    "  return subsets"
   ],
   "metadata": {
    "collapsed": false
   }
  },
  {
   "cell_type": "markdown",
   "source": [
    "Problem Statement\n",
    "Given a set of numbers that might contain duplicates, find all of its distinct subsets.\n",
    "\n",
    "Example 1:\n",
    "\n",
    "Input: [1, 3, 3]\n",
    "Output: [], [1], [3], [1,3], [3,3], [1,3,3]\n",
    "\n",
    "Example 2:\n",
    "\n",
    "Input: [1, 5, 3, 3]\n",
    "Output: [], [1], [5], [3], [1,5], [1,3], [5,3], [1,5,3], [3,3], [1,3,3], [3,3,5], [1,5,3,3]"
   ],
   "metadata": {
    "collapsed": false
   }
  },
  {
   "cell_type": "code",
   "execution_count": null,
   "outputs": [],
   "source": [
    "def find_subsets(nums):\n",
    "  subsets = []\n",
    "  # TODO: Write your code here\n",
    "  subsets.append([])\n",
    "\n",
    "  start, end = 0, 0\n",
    "  for i in range(len(nums)):\n",
    "    start = 0\n",
    "    if i>0 and nums[i] == nums[i-1]:\n",
    "      start = end\n",
    "    end = len(subsets)\n",
    "\n",
    "    for j in range(start, end):\n",
    "      set = subsets[j].copy()\n",
    "      set.append(nums[i])\n",
    "      subsets.append(set)\n",
    "\n",
    "  return subsets"
   ],
   "metadata": {
    "collapsed": false
   }
  },
  {
   "cell_type": "markdown",
   "source": [
    "Problem Statement\n",
    "Given a set of distinct numbers, find all of its permutations.\n",
    "\n",
    "Permutation is defined as the re-arranging of the elements of the set. For example, {1, 2, 3} has the following six permutations:\n",
    "\n",
    "{1, 2, 3}\n",
    "{1, 3, 2}\n",
    "{2, 1, 3}\n",
    "{2, 3, 1}\n",
    "{3, 1, 2}\n",
    "{3, 2, 1}\n",
    "If a set has ‘n’ distinct elements it will have n!n! permutations.\n",
    "\n",
    "Example 1:\n",
    "\n",
    "Input: [1,3,5]\n",
    "Output: [1,3,5], [1,5,3], [3,1,5], [3,5,1], [5,1,3], [5,3,1]"
   ],
   "metadata": {
    "collapsed": false
   }
  },
  {
   "cell_type": "code",
   "execution_count": null,
   "outputs": [],
   "source": [
    "from collections import deque\n",
    "\n",
    "def find_permutations(nums):\n",
    "  result = []\n",
    "  currentPermutation = deque()\n",
    "  currentPermutation.append([])\n",
    "\n",
    "  for num in nums:\n",
    "    for i in range(len(currentPermutation)):\n",
    "      previousPermutation = currentPermutation.popleft()\n",
    "      for j in range(len(previousPermutation)+1):\n",
    "        newPermutation = previousPermutation.copy()\n",
    "        newPermutation.insert(j, num)\n",
    "\n",
    "        if len(newPermutation) == len(nums):\n",
    "          result.append(newPermutation)\n",
    "        else:\n",
    "          currentPermutation.append(newPermutation)\n",
    "\n",
    "\n",
    "\n",
    "  return result"
   ],
   "metadata": {
    "collapsed": false
   }
  },
  {
   "cell_type": "markdown",
   "source": [
    "Problem Statement\n",
    "Given a string, find all of its permutations preserving the character sequence but changing case.\n",
    "\n",
    "Example 1:\n",
    "\n",
    "Input: \"ad52\"\n",
    "Output: \"ad52\", \"Ad52\", \"aD52\", \"AD52\"\n",
    "\n",
    "Example 2:\n",
    "\n",
    "Input: \"ab7c\"\n",
    "Output: \"ab7c\", \"Ab7c\", \"aB7c\", \"AB7c\", \"ab7C\", \"Ab7C\", \"aB7C\", \"AB7C\""
   ],
   "metadata": {
    "collapsed": false
   }
  },
  {
   "cell_type": "code",
   "execution_count": null,
   "outputs": [],
   "source": [
    "def find_letter_case_string_permutations(str):\n",
    "\n",
    "  permutations = []\n",
    "  permutations.append(str)\n",
    "\n",
    "  for i in range(len(str)):\n",
    "    if str[i].isalpha():\n",
    "      for j in range(len(permutations)):\n",
    "        newPermutation = list(permutations[j])\n",
    "        newPermutation[i] = newPermutation[i].swapcase()\n",
    "        permutations.append(''.join(newPermutation))\n",
    "\n",
    "  return permutations"
   ],
   "metadata": {
    "collapsed": false
   }
  },
  {
   "cell_type": "markdown",
   "source": [
    "Problem Statement\n",
    "For a given number ‘N’, write a function to generate all combination of ‘N’ pairs of balanced parentheses.\n",
    "\n",
    "Example 1:\n",
    "\n",
    "Input: N=2\n",
    "Output: (()), ()()\n",
    "\n",
    "Example 2:\n",
    "\n",
    "Input: N=3\n",
    "Output: ((())), (()()), (())(), ()(()), ()()()"
   ],
   "metadata": {
    "collapsed": false
   }
  },
  {
   "cell_type": "code",
   "execution_count": null,
   "outputs": [],
   "source": [
    "class ParenthesesString:\n",
    "  def __init__(self, str, openCount, closeCount):\n",
    "    self.str = str\n",
    "    self.openCount = openCount\n",
    "    self.closeCount = closeCount\n",
    "\n",
    "def generate_valid_parentheses(num):\n",
    "  result = []\n",
    "  # TODO: Write your code here\n",
    "  queue = deque()\n",
    "  queue.append(ParenthesesString('',0,0))\n",
    "\n",
    "  while queue:\n",
    "    ps = queue.popleft()\n",
    "\n",
    "    if ps.openCount == num and ps.closeCount == num:\n",
    "      result.append(ps.str)\n",
    "    else:\n",
    "      if ps.openCount > ps.closeCount:\n",
    "        queue.append(ParenthesesString(ps.str+')',ps.openCount,ps.closeCount+1))\n",
    "      if ps.openCount < num:\n",
    "        queue.append(ParenthesesString(ps.str+'(',ps.openCount+1,ps.closeCount))\n",
    "  return result"
   ],
   "metadata": {
    "collapsed": false
   }
  },
  {
   "cell_type": "markdown",
   "source": [
    "Problem Challenge 1\n",
    "\n",
    "Evaluate Expression (hard)\n",
    "\n",
    "Given an expression containing digits and operations (+, -, *),\n",
    "find all possible ways in which the expression can be evaluated by grouping the numbers and operators using parentheses.\n",
    "\n",
    "Example 1:\n",
    "\n",
    "Input: \"1+2*3\"\n",
    "Output: 7, 9\n",
    "Explanation: 1+(2*3) => 7 and (1+2)*3 => 9\n",
    "\n",
    "Example 2:\n",
    "\n",
    "Input: \"2*3-4-5\"\n",
    "Output: 8, -12, 7, -7, -3\n",
    "Explanation: 2*(3-(4-5)) => 8, 2*(3-4-5) => -12, 2*3-(4-5) => 7, 2*(3-4)-5 => -7, (2*3)-4-5 => -3"
   ],
   "metadata": {
    "collapsed": false
   }
  },
  {
   "cell_type": "code",
   "execution_count": null,
   "outputs": [],
   "source": [
    "def diff_ways_to_evaluate_expression(input):\n",
    "  result = []\n",
    "\n",
    "  if '+' not in input and '-' not in input and '*' not in input:\n",
    "    result.append(input)\n",
    "  else:\n",
    "    for i in range(len(input)):\n",
    "      if not input[i].isdigit():\n",
    "        left = diff_ways_to_evaluate_expression(input[0:i])\n",
    "        right = diff_ways_to_evaluate_expression(input[i+1:])\n",
    "\n",
    "        for j in left:\n",
    "          for k in right:\n",
    "            if input[i] == '+':\n",
    "              result.append(int(j)+int(k))\n",
    "            if input[i] == '*':\n",
    "              result.append(int(j)*int(k))\n",
    "            if input[i] == '-':\n",
    "              result.append(int(j)-int(k))\n",
    "  return result"
   ],
   "metadata": {
    "collapsed": false
   }
  },
  {
   "cell_type": "markdown",
   "source": [
    "Problem Challenge 2\n",
    "\n",
    "Structurally Unique Binary Search Trees (hard)\n",
    "\n",
    "Given a number ‘n’, write a function to return all structurally unique Binary Search Trees (BST) that can store values 1 to ‘n’?\n",
    "\n",
    "Example 1:\n",
    "\n",
    "Input: 2\n",
    "Output: List containing root nodes of all structurally unique BSTs.\n",
    "Explanation: Here are the 2 structurally unique BSTs storing all numbers from 1 to 2:\n",
    "\n",
    "Example 2:\n",
    "\n",
    "Input: 3\n",
    "Output: List containing root nodes of all structurally unique BSTs.\n",
    "Explanation: Here are the 5 structurally unique BSTs storing all numbers from 1 to 3:"
   ],
   "metadata": {
    "collapsed": false
   }
  },
  {
   "cell_type": "code",
   "execution_count": null,
   "outputs": [],
   "source": [
    "class TreeNode:\n",
    "  def __init__(self, val):\n",
    "    self.val = val\n",
    "    self.left = None\n",
    "    self.right = None\n",
    "\n",
    "def find_unique_trees(n):\n",
    "\n",
    "  # TODO: Write your code here\n",
    "  if n < 1:\n",
    "    return []\n",
    "  return find_unique_trees_recursive(1, n)\n",
    "\n",
    "def find_unique_trees_recursive(start, end):\n",
    "  result = []\n",
    "  if start > end:\n",
    "    return [None]\n",
    "  for i in range(start, end +1):\n",
    "    left = find_unique_trees_recursive(start, i-1)\n",
    "    right = find_unique_trees_recursive(i+1, end)\n",
    "\n",
    "    for j in left:\n",
    "      for k in right:\n",
    "        root = TreeNode(i)\n",
    "        root.left = j\n",
    "        root.right = k\n",
    "        result.append(root)\n",
    "\n",
    "  return result"
   ],
   "metadata": {
    "collapsed": false
   }
  },
  {
   "cell_type": "markdown",
   "source": [
    "Problem Challenge 3\n",
    "\n",
    "Count of Structurally Unique Binary Search Trees (hard)\n",
    "\n",
    "Given a number ‘n’, write a function to return the count of structurally unique Binary Search Trees (BST) that can store values 1 to ‘n’.\n",
    "\n",
    "Example 1:\n",
    "\n",
    "Input: 2\n",
    "Output: 2\n",
    "Explanation: As we saw in the previous problem, there are 2 unique BSTs storing numbers from 1-2.\n",
    "\n",
    "Example 2:\n",
    "\n",
    "Input: 3\n",
    "Output: 5\n",
    "Explanation: There will be 5 unique BSTs that can store numbers from 1 to 5."
   ],
   "metadata": {
    "collapsed": false
   }
  },
  {
   "cell_type": "code",
   "execution_count": null,
   "outputs": [],
   "source": [
    "class TreeNode:\n",
    "  def __init__(self, val):\n",
    "    self.val = val\n",
    "    self.left = None\n",
    "    self.right = None\n",
    "\n",
    "\n",
    "def count_trees(n):\n",
    "  if n < 0:\n",
    "    return -1\n",
    "  if n <=1 :\n",
    "    return 1\n",
    "\n",
    "  count = 0\n",
    "  for i  in range(1,n+1):\n",
    "    left = count_trees(i-1)\n",
    "    right = count_trees(n-i)\n",
    "    count += left * right\n",
    "  return count"
   ],
   "metadata": {
    "collapsed": false
   }
  },
  {
   "cell_type": "markdown",
   "source": [
    "Problem Statement\n",
    "Given a word, write a function to generate all of its unique generalized abbreviations.\n",
    "\n",
    "Generalized abbreviation of a word can be generated by replacing each substring of the word by the count of characters in the substring. Take the example of “ab” which has four substrings: “”, “a”, “b”, and “ab”. After replacing these substrings in the actual word by the count of characters we get all the generalized abbreviations: “ab”, “1b”, “a1”, and “2”.\n",
    "\n",
    "Example 1:\n",
    "\n",
    "Input: \"BAT\"\n",
    "Output: \"BAT\", \"BA1\", \"B1T\", \"B2\", \"1AT\", \"1A1\", \"2T\", \"3\"\n",
    "\n",
    "Example 2:\n",
    "\n",
    "Input: \"code\"\n",
    "Output: \"code\", \"cod1\", \"co1e\", \"co2\", \"c1de\", \"c1d1\", \"c2e\", \"c3\", \"1ode\", \"1od1\", \"1o1e\", \"1o2\",\n",
    "\"2de\", \"2d1\", \"3e\", \"4\""
   ],
   "metadata": {
    "collapsed": false
   }
  },
  {
   "cell_type": "code",
   "execution_count": null,
   "outputs": [],
   "source": [
    "def generate_generalized_abbreviation(word):\n",
    "  result = []\n",
    "  generate_abbreviation_recursive(word, list(), 0, 0, result)\n",
    "  return result\n",
    "\n",
    "def generate_abbreviation_recursive(word, abWord, start, count, result):\n",
    "  if start == len(word):\n",
    "    if count != 0:\n",
    "      abWord.append(str(count))\n",
    "    result.append(''.join(abWord))\n",
    "  else:\n",
    "    generate_abbreviation_recursive(word, list(abWord), start+1, count+1, result)\n",
    "\n",
    "    newword = list(abWord)\n",
    "    if count != 0:\n",
    "      newword.append(str(count))\n",
    "    newword.append(word[start])\n",
    "    generate_abbreviation_recursive(word, newword, start+1, 0, result)"
   ],
   "metadata": {
    "collapsed": false
   }
  }
 ],
 "metadata": {
  "kernelspec": {
   "display_name": "Python 3",
   "language": "python",
   "name": "python3"
  },
  "language_info": {
   "codemirror_mode": {
    "name": "ipython",
    "version": 2
   },
   "file_extension": ".py",
   "mimetype": "text/x-python",
   "name": "python",
   "nbconvert_exporter": "python",
   "pygments_lexer": "ipython2",
   "version": "2.7.6"
  }
 },
 "nbformat": 4,
 "nbformat_minor": 0
}
