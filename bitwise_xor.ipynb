{
 "cells": [
  {
   "cell_type": "markdown",
   "source": [
    "Problem Statement\n",
    "In a non-empty array of integers, every number appears twice except for one, find that single number.\n",
    "\n",
    "Example 1:\n",
    "\n",
    "Input: 1, 4, 2, 1, 3, 2, 3\n",
    "Output: 4\n",
    "Example 2:\n",
    "\n",
    "Input: 7, 9, 7\n",
    "Output: 9"
   ],
   "metadata": {
    "collapsed": false
   }
  },
  {
   "cell_type": "code",
   "execution_count": null,
   "outputs": [],
   "source": [
    "def find_single_number(arr):\n",
    "  s=0\n",
    "\n",
    "  for i in arr:\n",
    "    s=s^i\n",
    "  return s"
   ],
   "metadata": {
    "collapsed": false
   }
  },
  {
   "cell_type": "markdown",
   "source": [
    "Problem Statement\n",
    "Every non-negative integer N has a binary representation, for example, 8 can be represented as “1000” in binary and 7 as “0111” in binary.\n",
    "\n",
    "The complement of a binary representation is the number in binary that we get when we change every 1 to a 0 and every 0 to a 1. For example, the binary complement of “1010” is “0101”.\n",
    "\n",
    "For a given positive number N in base-10, return the complement of its binary representation as a base-10 integer.\n",
    "\n",
    "Example 1:\n",
    "\n",
    "Input: 8\n",
    "Output: 7\n",
    "Explanation: 8 is 1000 in binary, its complement is 0111 in binary, which is 7 in base-10.\n",
    "Example 2:\n",
    "\n",
    "Input: 10\n",
    "Output: 5\n",
    "Explanation: 10 is 1010 in binary, its complement is 0101 in binary, which is 5 in base-10."
   ],
   "metadata": {
    "collapsed": false
   }
  },
  {
   "cell_type": "code",
   "execution_count": null,
   "outputs": [],
   "source": [
    "def calculate_bitwise_complement(n):\n",
    "  count, num = 0, n\n",
    "  while num>0:\n",
    "    num = num>>1\n",
    "    count += 1\n",
    "  s = 2 ** count -1\n",
    "\n",
    "  return n^s"
   ],
   "metadata": {
    "collapsed": false
   }
  },
  {
   "cell_type": "markdown",
   "source": [
    "Problem Statement\n",
    "In a non-empty array of numbers, every number appears exactly twice except two numbers that appear only once. Find the two numbers that appear only once.\n",
    "\n",
    "Example 1:\n",
    "\n",
    "Input: [1, 4, 2, 1, 3, 5, 6, 2, 3, 5]\n",
    "Output: [4, 6]\n",
    "Example 2:\n",
    "\n",
    "Input: [2, 1, 3, 2]\n",
    "Output: [1, 3]"
   ],
   "metadata": {
    "collapsed": false
   }
  },
  {
   "cell_type": "code",
   "execution_count": null,
   "outputs": [],
   "source": [
    "def find_single_numbers(nums):\n",
    "  # TODO: Write your code here\n",
    "  sum = 0\n",
    "  for num in nums:\n",
    "    sum ^= num\n",
    "\n",
    "  diff = 1\n",
    "  while (diff & sum == 0):\n",
    "    diff = diff << 1\n",
    "\n",
    "  num1, num2 = 0, 0\n",
    "\n",
    "  for num in nums:\n",
    "    if num & diff ==0:\n",
    "      num1 ^= num\n",
    "    else:\n",
    "      num2 ^= num\n",
    "\n",
    "\n",
    "  return [num1, num2]"
   ],
   "metadata": {
    "collapsed": false
   }
  },
  {
   "cell_type": "markdown",
   "source": [
    "Problem Challenge 1\n",
    "\n",
    "Given a binary matrix representing an image, we want to flip the image horizontally, then invert it.\n",
    "\n",
    "To flip an image horizontally means that each row of the image is reversed. For example, flipping [0, 1, 1] horizontally results in [1, 1, 0].\n",
    "\n",
    "To invert an image means that each 0 is replaced by 1, and each 1 is replaced by 0. For example, inverting [1, 1, 0] results in [0, 0, 1].\n",
    "\n",
    "Example 1:\n",
    "\n",
    "Input: [\n",
    "  [1,0,1],\n",
    "  [1,1,1],\n",
    "  [0,1,1]\n",
    "]\n",
    "Output: [\n",
    "  [0,1,0],\n",
    "  [0,0,0],\n",
    "  [0,0,1]\n",
    "]\n",
    "Explanation: First reverse each row: [[1,0,1],[1,1,1],[1,1,0]]. Then, invert the image: [[0,1,0],[0,0,0],[0,0,1]]\n",
    "\n",
    "Example 2:\n",
    "\n",
    "Input: [\n",
    "  [1,1,0,0],\n",
    "  [1,0,0,1],\n",
    "  [0,1,1,1],\n",
    "  [1,0,1,0]\n",
    "]\n",
    "Output: [\n",
    "  [1,1,0,0],\n",
    "  [0,1,1,0],\n",
    "  [0,0,0,1],\n",
    "  [1,0,1,0]\n",
    "]\n",
    "Explanation: First reverse each row: [[0,0,1,1],[1,0,0,1],[1,1,1,0],[0,1,0,1]]. Then invert the image: [[1,1,0,0],[0,1,1,0],[0,0,0,1],[1,0,1,0]]\n"
   ],
   "metadata": {
    "collapsed": false
   }
  },
  {
   "cell_type": "code",
   "execution_count": null,
   "outputs": [],
   "source": [
    "def flip_and_invert_image(matrix):\n",
    "  for i in range(len(matrix)):\n",
    "    start, end = 0, len(matrix[i])-1\n",
    "    while start <= end:\n",
    "      temp = matrix[i][end]^1\n",
    "      matrix[i][end] = matrix[i][start]^1\n",
    "      matrix[i][start] = temp\n",
    "      end -=1\n",
    "      start +=1\n",
    "\n",
    "  return matrix"
   ],
   "metadata": {
    "collapsed": false
   }
  }
 ],
 "metadata": {
  "kernelspec": {
   "display_name": "Python 3",
   "language": "python",
   "name": "python3"
  },
  "language_info": {
   "codemirror_mode": {
    "name": "ipython",
    "version": 2
   },
   "file_extension": ".py",
   "mimetype": "text/x-python",
   "name": "python",
   "nbconvert_exporter": "python",
   "pygments_lexer": "ipython2",
   "version": "2.7.6"
  }
 },
 "nbformat": 4,
 "nbformat_minor": 0
}
