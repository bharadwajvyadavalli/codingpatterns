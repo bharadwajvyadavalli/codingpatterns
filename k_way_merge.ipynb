{
 "cells": [
  {
   "cell_type": "markdown",
   "source": [
    "Problem Statement\n",
    "Given ‘M’ sorted arrays, find the K’th smallest number among all the arrays.\n",
    "\n",
    "Example 1:\n",
    "\n",
    "Input: L1=[2, 6, 8], L2=[3, 6, 7], L3=[1, 3, 4], K=5\n",
    "Output: 4\n",
    "Explanation: The 5th smallest number among all the arrays is 4, this can be verified from the merged\n",
    "list of all the arrays: [1, 2, 3, 3, 4, 6, 6, 7, 8]\n",
    "\n",
    "Example 2:\n",
    "\n",
    "Input: L1=[5, 8, 9], L2=[1, 7], K=3\n",
    "Output: 7\n",
    "Explanation: The 3rd smallest number among all the arrays is 7."
   ],
   "metadata": {
    "collapsed": false
   }
  },
  {
   "cell_type": "code",
   "execution_count": null,
   "outputs": [],
   "source": [
    "from heapq import *\n",
    "\n",
    "def find_Kth_smallest(lists, k):\n",
    "  number = -1\n",
    "  result = []\n",
    "  for i in range(len(lists)):\n",
    "    heappush(result,(lists[i][0], 0, lists[i]))\n",
    "\n",
    "  count = 0\n",
    "  while result:\n",
    "    number, i, cur_list = heappop(result)\n",
    "    count += 1\n",
    "    if count == k:\n",
    "      return number\n",
    "\n",
    "    if i+1 < len(cur_list):\n",
    "      heappush(result, (cur_list[i+1],i+1,cur_list))"
   ],
   "metadata": {
    "collapsed": false
   }
  },
  {
   "cell_type": "markdown",
   "source": [
    "Problem Statement\n",
    "Given an array of ‘K’ sorted LinkedLists, merge them into one sorted list.\n",
    "\n",
    "Example 1:\n",
    "\n",
    "Input: L1=[2, 6, 8], L2=[3, 6, 7], L3=[1, 3, 4]\n",
    "Output: [1, 2, 3, 3, 4, 6, 6, 7, 8]\n",
    "Example 2:\n",
    "\n",
    "Input: L1=[5, 8, 9], L2=[1, 7]\n",
    "Output: [1, 5, 7, 8, 9]"
   ],
   "metadata": {
    "collapsed": false
   }
  },
  {
   "cell_type": "code",
   "execution_count": null,
   "outputs": [],
   "source": [
    "from __future__ import print_function\n",
    "from heapq import *\n",
    "\n",
    "\n",
    "class ListNode:\n",
    "  def __init__(self, value):\n",
    "    self.value = value\n",
    "    self.next = None\n",
    "\n",
    "  def __lt__(self, other):\n",
    "    return self.value < other.value\n",
    "\n",
    "\n",
    "def merge_lists(lists):\n",
    "  # TODO: Write your code here\n",
    "  heap = []\n",
    "  for root in lists:\n",
    "    if root is not None:\n",
    "      heappush(heap,root)\n",
    "\n",
    "  head, tail = None, None\n",
    "  while heap:\n",
    "    node = heappop(heap)\n",
    "    if head is None:\n",
    "      head, tail = node, node\n",
    "    else:\n",
    "      tail.next = node\n",
    "      tail = tail.next\n",
    "    if node.next is not None:\n",
    "      heappush(heap,node.next)\n",
    "  return head"
   ],
   "metadata": {
    "collapsed": false
   }
  },
  {
   "cell_type": "markdown",
   "source": [
    "Problem Statement\n",
    "Given an N * NN∗N matrix where each row and column is sorted in ascending order, find the Kth smallest element in the matrix.\n",
    "\n",
    "Example 1:\n",
    "\n",
    "Input: Matrix=[\n",
    "    [2, 6, 8],\n",
    "    [3, 7, 10],\n",
    "    [5, 8, 11]\n",
    "  ],\n",
    "  K=5\n",
    "Output: 7\n",
    "Explanation: The 5th smallest number in the matrix is 7."
   ],
   "metadata": {
    "collapsed": false
   }
  },
  {
   "cell_type": "code",
   "execution_count": null,
   "outputs": [],
   "source": [
    "def find_Kth_smallest(matrix, k):\n",
    "  number = -1\n",
    "  result = []\n",
    "  for i in range(len(matrix)):\n",
    "    heappush(result,(matrix[i][0], 0, matrix[i]))\n",
    "\n",
    "  count = 0\n",
    "  while result:\n",
    "    number, i, cur_list = heappop(result)\n",
    "    count += 1\n",
    "    if count == k:\n",
    "      return number\n",
    "\n",
    "    if i+1 < len(cur_list):\n",
    "      heappush(result, (cur_list[i+1],i+1,cur_list))"
   ],
   "metadata": {
    "collapsed": false
   }
  },
  {
   "cell_type": "markdown",
   "source": [
    "Problem Challenge 1\n",
    "K Pairs with Largest Sums (Hard)\n",
    "Given two sorted arrays in descending order, find ‘K’ pairs with the largest sum where each pair consists of numbers from both the arrays.\n",
    "\n",
    "Example 1:\n",
    "\n",
    "Input: L1=[9, 8, 2], L2=[6, 3, 1], K=3\n",
    "Output: [9, 3], [9, 6], [8, 6]\n",
    "Explanation: These 3 pairs have the largest sum. No other pair has a sum larger than any of these.\n",
    "\n",
    "Example 2:\n",
    "\n",
    "Input: L1=[5, 2, 1], L2=[2, -1], K=3\n",
    "Output: [5, 2], [5, -1], [2, 2]"
   ],
   "metadata": {
    "collapsed": false
   }
  },
  {
   "cell_type": "code",
   "execution_count": null,
   "outputs": [],
   "source": [
    "def find_k_largest_pairs(nums1, nums2, k):\n",
    "  result = []\n",
    "  heap = []\n",
    "\n",
    "  for i in range(min(k, len(nums1))):\n",
    "    for j in range(min(k, len(nums2))):\n",
    "      if len(heap) < k:\n",
    "        heappush(heap,(nums1[i]+nums2[j],[nums1[i],nums2[j]]))\n",
    "      else:\n",
    "        if nums1[i]+nums2[j] > heap[0][0]:\n",
    "          heappop(heap)\n",
    "          heappush(heap,(nums1[i]+nums2[j],[nums1[i], nums2[j]]))\n",
    "\n",
    "  while heap:\n",
    "    _, ans = heappop(heap)\n",
    "    result.append(ans)\n",
    "\n",
    "  return result"
   ],
   "metadata": {
    "collapsed": false
   }
  },
  {
   "cell_type": "markdown",
   "source": [
    "Problem Statement\n",
    "Given ‘M’ sorted arrays, find the smallest range that includes at least one number from each of the ‘M’ lists.\n",
    "\n",
    "Example 1:\n",
    "\n",
    "Input: L1=[1, 5, 8], L2=[4, 12], L3=[7, 8, 10]\n",
    "Output: [4, 7]\n",
    "Explanation: The range [4, 7] includes 5 from L1, 4 from L2 and 7 from L3.\n",
    "Example 2:\n",
    "\n",
    "Input: L1=[1, 9], L2=[4, 12], L3=[7, 10, 16]\n",
    "Output: [9, 12]\n",
    "Explanation: The range [9, 12] includes 9 from L1, 12 from L2 and 10 from L3."
   ],
   "metadata": {
    "collapsed": false
   }
  },
  {
   "cell_type": "code",
   "execution_count": null,
   "outputs": [],
   "source": [
    "def find_smallest_range(lists):\n",
    "  # TODO: Write your code here\n",
    "  heap = []\n",
    "  start, end = -math.inf, math.inf\n",
    "  current_max = -math.inf\n",
    "  for i in lists:\n",
    "    heappush(heap,(i[0],0,i))\n",
    "    current_max = max(i[0], current_max)\n",
    "\n",
    "  while len(heap) == len(lists):\n",
    "    number, i, current_list = heappop(heap)\n",
    "\n",
    "    if current_max - number < end - start:\n",
    "      start = number\n",
    "      end = current_max\n",
    "\n",
    "    if i+1 < len(current_list):\n",
    "      heappush(heap,(current_list[i+1],i+1,current_list))\n",
    "      current_max = max(current_max,current_list[i+1])\n",
    "\n",
    "  return [start, end]"
   ],
   "metadata": {
    "collapsed": false
   }
  }
 ],
 "metadata": {
  "kernelspec": {
   "display_name": "Python 3",
   "language": "python",
   "name": "python3"
  },
  "language_info": {
   "codemirror_mode": {
    "name": "ipython",
    "version": 2
   },
   "file_extension": ".py",
   "mimetype": "text/x-python",
   "name": "python",
   "nbconvert_exporter": "python",
   "pygments_lexer": "ipython2",
   "version": "2.7.6"
  }
 },
 "nbformat": 4,
 "nbformat_minor": 0
}
