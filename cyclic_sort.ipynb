{
 "cells": [
  {
   "cell_type": "markdown",
   "source": [],
   "metadata": {
    "collapsed": false
   }
  },
  {
   "cell_type": "markdown",
   "source": [
    "Problem Statement\n",
    "We are given an array containing ‘n’ objects. Each object, when created, was assigned a unique number from 1 to ‘n’ based on their creation sequence.\n",
    "This means that the object with sequence number ‘3’ was created just before the object with sequence number ‘4’.\n",
    "\n",
    "Write a function to sort the objects in-place on their creation sequence number in O(n) and without any extra space.\n",
    "For simplicity, let’s assume we are passed an integer array containing only the sequence numbers, though each number is actually an object.\n",
    "\n",
    "Example 1:\n",
    "\n",
    "Input: [3, 1, 5, 4, 2]\n",
    "Output: [1, 2, 3, 4, 5]\n",
    "\n",
    "Example 2:\n",
    "\n",
    "Input: [2, 6, 4, 3, 1, 5]\n",
    "Output: [1, 2, 3, 4, 5, 6]\n",
    "\n",
    "Example 3:\n",
    "\n",
    "Input: [1, 5, 6, 4, 3, 2]\n",
    "Output: [1, 2, 3, 4, 5, 6]"
   ],
   "metadata": {
    "collapsed": false
   }
  },
  {
   "cell_type": "code",
   "execution_count": null,
   "outputs": [],
   "source": [
    "def cyclic_sort(nums):\n",
    "  i=0\n",
    "  while i < len(nums):\n",
    "    j=nums[i]-1\n",
    "    if i != j:\n",
    "      nums[i], nums[j] = nums[j], nums[i]\n",
    "    else:\n",
    "      i += 1\n",
    "  return nums"
   ],
   "metadata": {
    "collapsed": false
   }
  },
  {
   "cell_type": "markdown",
   "source": [
    "Problem Statement\n",
    "We are given an unsorted array containing ‘n’ numbers taken from the range 1 to ‘n’.\n",
    "The array has some duplicates, find all the duplicate numbers without using any extra space.\n",
    "\n",
    "Example 1:\n",
    "\n",
    "Input: [3, 4, 4, 5, 5]\n",
    "Output: [4, 5]\n",
    "\n",
    "Example 2:\n",
    "\n",
    "Input: [5, 4, 7, 2, 3, 5, 3]\n",
    "Output: [3, 5]"
   ],
   "metadata": {
    "collapsed": false
   }
  },
  {
   "cell_type": "code",
   "execution_count": null,
   "outputs": [],
   "source": [
    "def find_all_duplicates(nums):\n",
    "  duplicateNumbers = []\n",
    "  for i in range(len(nums)):\n",
    "    j=abs(nums[i])-1\n",
    "    if nums[j] > 0:\n",
    "      nums[j]=-nums[j]\n",
    "    else:\n",
    "      duplicateNumbers.append(j+1)\n",
    "  return duplicateNumbers"
   ],
   "metadata": {
    "collapsed": false
   }
  },
  {
   "cell_type": "markdown",
   "source": [
    "Problem Statement\n",
    "We are given an unsorted array containing numbers taken from the range 1 to ‘n’.\n",
    "The array can have duplicates, which means some numbers will be missing. Find all those missing numbers.\n",
    "\n",
    "Example 1:\n",
    "\n",
    "Input: [2, 3, 1, 8, 2, 3, 5, 1]\n",
    "Output: 4, 6, 7\n",
    "Explanation: The array should have all numbers from 1 to 8, due to duplicates 4, 6, and 7 are missing.\n",
    "\n",
    "Example 2:\n",
    "\n",
    "Input: [2, 4, 1, 2]\n",
    "Output: 3\n",
    "\n",
    "Example 3:\n",
    "\n",
    "Input: [2, 3, 2, 1]\n",
    "Output: 4"
   ],
   "metadata": {
    "collapsed": false
   }
  },
  {
   "cell_type": "code",
   "execution_count": null,
   "outputs": [],
   "source": [
    "def find_missing_numbers(nums):\n",
    "  missingNumbers = []\n",
    "  for i in range(len(nums)):\n",
    "    j=abs(nums[i])-1\n",
    "    if nums[j] > 0:\n",
    "      nums[j]=-nums[j]\n",
    "  for i in range(len(nums)):\n",
    "    if nums[i] > 0:\n",
    "      missingNumbers.append(i+1)\n",
    "  return missingNumbers"
   ],
   "metadata": {
    "collapsed": false
   }
  },
  {
   "cell_type": "markdown",
   "source": [
    "Problem Statement\n",
    "We are given an unsorted array containing ‘n+1’ numbers taken from the range 1 to ‘n’.\n",
    "The array has only one duplicate but it can be repeated multiple times.\n",
    "Find that duplicate number without using any extra space. You are, however, allowed to modify the input array.\n",
    "\n",
    "Example 1:\n",
    "\n",
    "Input: [1, 4, 4, 3, 2]\n",
    "Output: 4\n",
    "\n",
    "Example 2:\n",
    "\n",
    "Input: [2, 1, 3, 3, 5, 4]\n",
    "Output: 3\n",
    "\n",
    "Example 3:\n",
    "\n",
    "Input: [2, 4, 1, 4, 4]\n",
    "Output: 4"
   ],
   "metadata": {
    "collapsed": false
   }
  },
  {
   "cell_type": "code",
   "execution_count": null,
   "outputs": [],
   "source": [
    "def find_duplicate(nums):\n",
    "  slow, fast = nums[0], nums[nums[0]]\n",
    "  while slow != fast:\n",
    "    slow = nums[slow]\n",
    "    fast = nums[nums[fast]]\n",
    "  slow = 0\n",
    "  while slow != fast:\n",
    "    slow = nums[slow]\n",
    "    fast = nums[fast]\n",
    "  return slow"
   ],
   "metadata": {
    "collapsed": false
   }
  },
  {
   "cell_type": "code",
   "execution_count": null,
   "outputs": [],
   "source": [],
   "metadata": {
    "collapsed": false
   }
  },
  {
   "cell_type": "markdown",
   "source": [
    "Problem Statement\n",
    "We are given an array containing ‘n’ distinct numbers taken from the range 0 to ‘n’.\n",
    "Since the array has only ‘n’ numbers out of the total ‘n+1’ numbers, find the missing number.\n",
    "\n",
    "Example 1:\n",
    "\n",
    "Input: [4, 0, 3, 1]\n",
    "Output: 2\n",
    "\n",
    "Example 2:\n",
    "\n",
    "Input: [8, 3, 5, 2, 4, 6, 0, 1]\n",
    "Output: 7"
   ],
   "metadata": {
    "collapsed": false
   }
  },
  {
   "cell_type": "code",
   "execution_count": null,
   "outputs": [],
   "source": [
    "def find_missing_number(nums):\n",
    "  i, n = 0, len(nums)\n",
    "  while i < n:\n",
    "    j = nums[i]\n",
    "    if nums[i] < n and nums[i] != nums[j]:\n",
    "      nums[i], nums[j] = nums[j], nums[i]  # swap\n",
    "    else:\n",
    "      i += 1\n",
    "\n",
    "  # find the first number missing from its index, that will be our required number\n",
    "  for i in range(n):\n",
    "    if nums[i] != i:\n",
    "      return i\n",
    "\n",
    "  return n"
   ],
   "metadata": {
    "collapsed": false
   }
  },
  {
   "cell_type": "markdown",
   "source": [
    "Problem Challenge 1\n",
    "\n",
    "Find the Corrupt Pair (easy)\n",
    "\n",
    "We are given an unsorted array containing ‘n’ numbers taken from the range 1 to ‘n’. The array originally contained all the numbers from 1 to ‘n’, but due to a data error, one of the numbers got duplicated which also resulted in one number going missing. Find both these numbers.\n",
    "\n",
    "Example 1:\n",
    "\n",
    "Input: [3, 1, 2, 5, 2]\n",
    "Output: [2, 4]\n",
    "Explanation: '2' is duplicated and '4' is missing.\n",
    "\n",
    "Example 2:\n",
    "\n",
    "Input: [3, 1, 2, 3, 6, 4]\n",
    "Output: [3, 5]\n",
    "Explanation: '3' is duplicated and '5' is missing."
   ],
   "metadata": {
    "collapsed": false
   }
  },
  {
   "cell_type": "code",
   "execution_count": null,
   "outputs": [],
   "source": [
    "def find_corrupt_numbers(nums):\n",
    "  # TODO: Write your code here\n",
    "  duplicate, missing = 0, 0\n",
    "  i=0\n",
    "\n",
    "  while i < len(nums):\n",
    "    j=nums[i]-1\n",
    "    if i != j:\n",
    "      if nums[i] != nums[j]:\n",
    "        nums[i], nums[j] = nums[j], nums[i]\n",
    "      else:\n",
    "        duplicate=nums[i]\n",
    "        i += 1\n",
    "    else:\n",
    "      i += 1\n",
    "\n",
    "  for i in range(len(nums)):\n",
    "    if nums[i]-1 != i:\n",
    "      missing= i+1\n",
    "  return [duplicate, missing]\n"
   ],
   "metadata": {
    "collapsed": false
   }
  },
  {
   "cell_type": "markdown",
   "source": [
    "Problem Challenge 2\n",
    "Find the Smallest Missing Positive Number (medium)\n",
    "\n",
    "Given an unsorted array containing numbers, find the smallest missing positive number in it.\n",
    "\n",
    "Example 1:\n",
    "\n",
    "Input: [-3, 1, 5, 4, 2]\n",
    "Output: 3\n",
    "Explanation: The smallest missing positive number is '3'\n",
    "\n",
    "Example 2:\n",
    "\n",
    "Input: [3, -2, 0, 1, 2]\n",
    "Output: 4\n",
    "\n",
    "Example 3:\n",
    "\n",
    "Input: [3, 2, 5, 1]\n",
    "Output: 4"
   ],
   "metadata": {
    "collapsed": false
   }
  },
  {
   "cell_type": "code",
   "execution_count": null,
   "outputs": [],
   "source": [
    "def find_first_missing_positive(nums):\n",
    "  # TODO: Write your code here\n",
    "  i=0\n",
    "  while i < len(nums):\n",
    "    j=nums[i]-1\n",
    "    if j >= 0 and j < len(nums):\n",
    "      if nums[i] != nums[j]:\n",
    "        nums[i], nums[j] = nums[j], nums[i]\n",
    "      else:\n",
    "        i+=1\n",
    "    else:\n",
    "      i+=1\n",
    "\n",
    "  for i in range(len(nums)):\n",
    "    if nums[i]-1 != i:\n",
    "      return i+1"
   ],
   "metadata": {
    "collapsed": false
   }
  },
  {
   "cell_type": "markdown",
   "source": [
    "Problem Challenge 3\n",
    "\n",
    "Find the First K Missing Positive Numbers (hard)\n",
    "\n",
    "Given an unsorted array containing numbers and a number ‘k’, find the first ‘k’ missing positive numbers in the array.\n",
    "\n",
    "Example 1:\n",
    "\n",
    "Input: [3, -1, 4, 5, 5], k=3\n",
    "Output: [1, 2, 6]\n",
    "Explanation: The smallest missing positive numbers are 1, 2 and 6.\n",
    "\n",
    "Example 2:\n",
    "\n",
    "Input: [2, 3, 4], k=3\n",
    "Output: [1, 5, 6]\n",
    "Explanation: The smallest missing positive numbers are 1, 5 and 6.\n",
    "\n",
    "Example 3:\n",
    "\n",
    "Input: [-2, -3, 4], k=2\n",
    "Output: [1, 2]\n",
    "Explanation: The smallest missing positive numbers are 1 and 2."
   ],
   "metadata": {
    "collapsed": false
   }
  },
  {
   "cell_type": "code",
   "execution_count": null,
   "outputs": [],
   "source": [
    "def find_first_k_missing_positive(nums, k):\n",
    "  missingNumbers = []\n",
    "  # TODO: Write your code here\n",
    "  i=0\n",
    "  while i < len(nums):\n",
    "    j=nums[i]-1\n",
    "    if j >= 0 and j<len(nums) and nums[i] != nums[j]:\n",
    "      nums[i], nums[j]=nums[j], nums[i]\n",
    "    else:\n",
    "      i += 1\n",
    "\n",
    "  i=0\n",
    "  while i < len(nums) :\n",
    "    if nums[i]-1 != i:\n",
    "      missingNumbers.append(i+1)\n",
    "    i+=1\n",
    "\n",
    "  i=1\n",
    "  if k <= len(missingNumbers):\n",
    "    missingNumbers = missingNumbers[:k]\n",
    "  else:\n",
    "    while len(missingNumbers) < k:\n",
    "      if max(missingNumbers)+1 < max(nums) and max(missingNumbers)+1 not in nums:\n",
    "        missingNumbers.append(max(missingNumbers)+1)\n",
    "      else:\n",
    "        missingNumbers.append(max(nums)+i)\n",
    "        i += 1\n",
    "\n",
    "  return missingNumbers"
   ],
   "metadata": {
    "collapsed": false
   }
  }
 ],
 "metadata": {
  "kernelspec": {
   "display_name": "Python 3",
   "language": "python",
   "name": "python3"
  },
  "language_info": {
   "codemirror_mode": {
    "name": "ipython",
    "version": 2
   },
   "file_extension": ".py",
   "mimetype": "text/x-python",
   "name": "python",
   "nbconvert_exporter": "python",
   "pygments_lexer": "ipython2",
   "version": "2.7.6"
  }
 },
 "nbformat": 4,
 "nbformat_minor": 0
}
