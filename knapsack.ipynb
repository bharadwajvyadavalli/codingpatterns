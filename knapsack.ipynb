{
 "cells": [
  {
   "cell_type": "markdown",
   "source": [
    "Introduction\n",
    "Given the weights and profits of ‘N’ items, we are asked to put these items in a knapsack which has a capacity ‘C’.\n",
    "The goal is to get the maximum profit out of the items in the knapsack.\n",
    "Each item can only be selected once, as we don’t have multiple quantities of any item.\n",
    "\n",
    "Let’s take the example of Merry, who wants to carry some fruits in the knapsack to get maximum profit.\n",
    "    Here are the weights and profits of the fruits:\n",
    "\n",
    "Items: { Apple, Orange, Banana, Melon }\n",
    "Weights: { 2, 3, 1, 4 }\n",
    "Profits: { 4, 5, 3, 7 }\n",
    "Knapsack capacity: 5\n",
    "\n",
    "Let’s try to put various combinations of fruits in the knapsack, such that their total weight is not more than 5:\n",
    "\n",
    "Apple + Orange (total weight 5) => 9 profit\n",
    "Apple + Banana (total weight 3) => 7 profit\n",
    "Orange + Banana (total weight 4) => 8 profit\n",
    "Banana + Melon (total weight 5) => 10 profit\n",
    "\n",
    "This shows that Banana + Melon is the best combination as it gives us the maximum profit and the total weight does not exceed the capacity.\n"
   ],
   "metadata": {
    "collapsed": false
   }
  },
  {
   "cell_type": "code",
   "execution_count": null,
   "outputs": [],
   "source": [
    "def solve_knapsack(profits, weights, capacity):\n",
    "  # basic checks\n",
    "  n = len(profits)\n",
    "  if capacity <= 0 or n == 0 or len(weights) != n:\n",
    "    return 0\n",
    "\n",
    "  dp = [[0 for x in range(capacity+1)] for y in range(n)]\n",
    "\n",
    "  # populate the capacity = 0 columns, with '0' capacity we have '0' profit\n",
    "  for i in range(0, n):\n",
    "    dp[i][0] = 0\n",
    "\n",
    "  # if we have only one weight, we will take it if it is not more than the capacity\n",
    "  for c in range(0, capacity+1):\n",
    "    if weights[0] <= c:\n",
    "      dp[0][c] = profits[0]\n",
    "\n",
    "  # process all sub-arrays for all the capacities\n",
    "  for i in range(1, n):\n",
    "    for c in range(1, capacity+1):\n",
    "      profit1, profit2 = 0, 0\n",
    "      # include the item, if it is not more than the capacity\n",
    "      if weights[i] <= c:\n",
    "        profit1 = profits[i] + dp[i - 1][c - weights[i]]\n",
    "      # exclude the item\n",
    "      profit2 = dp[i - 1][c]\n",
    "      # take maximum\n",
    "      dp[i][c] = max(profit1, profit2)\n",
    "\n",
    "  # maximum profit will be at the bottom-right corner.\n",
    "  return dp[n - 1][capacity]"
   ],
   "metadata": {
    "collapsed": false
   }
  },
  {
   "cell_type": "markdown",
   "source": [
    "Problem Statement\n",
    "Given a set of positive numbers, find if we can partition it into two subsets such that the sum of elements in both subsets is equal.\n",
    "\n",
    "Example 1:\n",
    "\n",
    "Input: {1, 2, 3, 4}\n",
    "Output: True\n",
    "Explanation: The given set can be partitioned into two subsets with equal sum: {1, 4} & {2, 3}\n",
    "\n",
    "Example 2:\n",
    "\n",
    "Input: {1, 1, 3, 4, 7}\n",
    "Output: True\n",
    "Explanation: The given set can be partitioned into two subsets with equal sum: {1, 3, 4} & {1, 7}"
   ],
   "metadata": {
    "collapsed": false
   }
  },
  {
   "cell_type": "code",
   "execution_count": null,
   "outputs": [],
   "source": [
    "def can_partition(num):\n",
    "  # TODO: Write your code here\n",
    "  s = sum(num)\n",
    "  if s %2 == 1:\n",
    "    return False\n",
    "  dp = [[False for x in range(int(s/2) + 1)] for y in range(len(num))]\n",
    "\n",
    "  for i in range(len(num)):\n",
    "    dp[i][0] = True\n",
    "\n",
    "  for i in range(0, int(s/2) + 1):\n",
    "    if num[0] == i:\n",
    "      dp[0][i] = True\n",
    "\n",
    "  for i in range(1, len(num)):\n",
    "    for n in range(1, int(s/2) + 1):\n",
    "      if num[i] <= n:\n",
    "        w1 = dp[i-1][n-num[i]]\n",
    "      w2 = dp[i-1][n]\n",
    "      dp[i][n] = w2 or w1\n",
    "\n",
    "  return dp[len(num)-1][int(s/2)]"
   ],
   "metadata": {
    "collapsed": false
   }
  },
  {
   "cell_type": "markdown",
   "source": [
    "Problem Statement\n",
    "Given a set of positive numbers, partition the set into two subsets with minimum difference between their subset sums.\n",
    "\n",
    "Example 1:\n",
    "Input: {1, 2, 3, 9}\n",
    "Output: 3\n",
    "Explanation: We can partition the given set into two subsets where minimum absolute difference\n",
    "between the sum of numbers is '3'. Following are the two subsets: {1, 2, 3} & {9}.\n",
    "\n",
    "Example 2:\n",
    "Input: {1, 2, 7, 1, 5}\n",
    "Output: 0\n",
    "Explanation: We can partition the given set into two subsets where minimum absolute difference\n",
    "between the sum of number is '0'. Following are the two subsets: {1, 2, 5} & {7, 1}.\n",
    "\n",
    "Example 3:\n",
    "Input: {1, 3, 100, 4}\n",
    "Output: 92\n",
    "Explanation: We can partition the given set into two subsets where minimum absolute difference\n",
    "between the sum of numbers is '92'. Here are the two subsets: {1, 3, 4} & {100}."
   ],
   "metadata": {
    "collapsed": false
   }
  },
  {
   "cell_type": "code",
   "execution_count": null,
   "outputs": [],
   "source": [
    "def can_partition(num):\n",
    "  s = sum(num)\n",
    "  n = len(num)\n",
    "  dp = [[False for x in range(int(s/2)+1)] for y in range(n)]\n",
    "\n",
    "  # populate the s=0 columns, as we can always form '0' sum with an empty set\n",
    "  for i in range(0, n):\n",
    "    dp[i][0] = True\n",
    "\n",
    "  # with only one number, we can form a subset only when the required sum is equal to that number\n",
    "  for j in range(0, int(s/2)+1):\n",
    "    dp[0][j] = num[0] == j\n",
    "\n",
    "  # process all subsets for all sums\n",
    "  for i in range(1, n):\n",
    "    for j in range(1, int(s/2)+1):\n",
    "      # if we can get the sum 's' without the number at index 'i'\n",
    "      if dp[i - 1][j]:\n",
    "        dp[i][j] = dp[i - 1][j]\n",
    "      elif j >= num[i]:\n",
    "        # else include the number and see if we can find a subset to get the remaining sum\n",
    "        dp[i][j] = dp[i - 1][j - num[i]]\n",
    "\n",
    "  sum1 = 0\n",
    "  # find the largest index in the last row which is true\n",
    "  for i in range(int(s/2), -1, -1):\n",
    "    if dp[n - 1][i]:\n",
    "      sum1 = i\n",
    "      break\n",
    "\n",
    "  sum2 = s - sum1\n",
    "  return abs(sum2 - sum1)"
   ],
   "metadata": {
    "collapsed": false
   }
  },
  {
   "cell_type": "markdown",
   "source": [
    "Problem Statement\n",
    "Given a set of positive numbers, determine if a subset exists whose sum is equal to a given number ‘S’.\n",
    "\n",
    "Example 1:\n",
    "Input: {1, 2, 3, 7}, S=6\n",
    "Output: True\n",
    "The given set has a subset whose sum is '6': {1, 2, 3}\n",
    "\n",
    "Example 2:\n",
    "Input: {1, 2, 7, 1, 5}, S=10\n",
    "Output: True\n",
    "The given set has a subset whose sum is '10': {1, 2, 7}\n",
    "\n",
    "Example 3:\n",
    "Input: {1, 3, 4, 8}, S=6\n",
    "Output: False\n",
    "The given set does not have any subset whose sum is equal to '6'."
   ],
   "metadata": {
    "collapsed": false
   }
  },
  {
   "cell_type": "code",
   "execution_count": null,
   "outputs": [],
   "source": [
    "def can_partition(num, sum):\n",
    "    n = len(num)\n",
    "    dp = [False for x in range(sum+1)]\n",
    "\n",
    "    # handle sum=0, as we can always have '0' sum with an empty set\n",
    "    dp[0] = True\n",
    "\n",
    "    # with only one number, we can have a subset only when the required sum is equal to its value\n",
    "    for s in range(1, sum+1):\n",
    "        dp[s] = num[0] == s\n",
    "\n",
    "    # process all subsets for all sums\n",
    "    for i in range(1, n):\n",
    "        for s in range(sum, -1, -1):\n",
    "            # if dp[s]==true, this means we can get the sum 's' without num[i], hence we can move on to\n",
    "            # the next number else we can include num[i] and see if we can find a subset to get the\n",
    "            # remaining sum\n",
    "            if not dp[s] and s >= num[i]:\n",
    "                dp[s] = dp[s - num[i]]\n",
    "\n",
    "    return dp[sum]"
   ],
   "metadata": {
    "collapsed": false
   }
  },
  {
   "cell_type": "markdown",
   "source": [
    "Problem Challenge 1\n",
    "Count of Subset Sum (hard)\n",
    "\n",
    "Given a set of positive numbers, find the total number of subsets whose sum is equal to a given number ‘S’.\n",
    "\n",
    "Example 1: #\n",
    "Input: {1, 1, 2, 3}, S=4\n",
    "Output: 3\n",
    "The given set has '3' subsets whose sum is '4': {1, 1, 2}, {1, 3}, {1, 3}\n",
    "Note that we have two similar sets {1, 3}, because we have two '1' in our input.\n",
    "Example 2: #\n",
    "Input: {1, 2, 7, 1, 5}, S=9\n",
    "Output: 3\n",
    "The given set has '3' subsets whose sum is '9': {2, 7}, {1, 7, 1}, {1, 2, 1, 5}"
   ],
   "metadata": {
    "collapsed": false
   }
  },
  {
   "cell_type": "code",
   "execution_count": null,
   "outputs": [],
   "source": [
    "def count_subsets(num, sum):\n",
    "  #TODO: Write - Your - Code\n",
    "  dp = [[0 for i in range(sum+1)]  for j in range(len(num))]\n",
    "\n",
    "  for i in range(len(num)):\n",
    "    dp[i][0] = 1\n",
    "\n",
    "  for i in range(sum+1):\n",
    "    if i == num[0]:\n",
    "      dp[0][i] = 1\n",
    "\n",
    "  for i in range(1,len(num)):\n",
    "    for j in range(1,sum+1):\n",
    "      dp[i][j] += dp[i-1][j]\n",
    "      if num[i] <= j:\n",
    "        dp[i][j] += dp[i-1][j-num[i]]\n",
    "\n",
    "  return dp[len(num)-1][sum]"
   ],
   "metadata": {
    "collapsed": false
   }
  },
  {
   "cell_type": "markdown",
   "source": [
    "Problem Challenge 2\n",
    "Target Sum (hard)\n",
    "You are given a set of positive numbers and a target sum ‘S’. Each number should be assigned either a ‘+’ or ‘-’ sign.\n",
    "We need to find the total ways to assign symbols to make the sum of the numbers equal to the target ‘S’.\n",
    "\n",
    "Example 1:\n",
    "Input: {1, 1, 2, 3}, S=1\n",
    "Output: 3\n",
    "Explanation: The given set has '3' ways to make a sum of '1': {+1-1-2+3} & {-1+1-2+3} & {+1+1+2-3}\n",
    "\n",
    "Example 2:\n",
    "Input: {1, 2, 7, 1}, S=9\n",
    "Output: 2\n",
    "Explanation: The given set has '2' ways to make a sum of '9': {+1+2+7-1} & {-1+2+7+1}"
   ],
   "metadata": {
    "collapsed": false
   }
  },
  {
   "cell_type": "code",
   "execution_count": null,
   "outputs": [],
   "source": [
    "def count_subsets(num, s):\n",
    "  n = len(num)\n",
    "  dp = [[0 for x in range(s+1)] for y in range(n)]\n",
    "\n",
    "  # populate the sum = 0 columns, as we will always have an empty set for zero sum\n",
    "  for i in range(0, n):\n",
    "    dp[i][0] = 1\n",
    "\n",
    "  # with only one number, we can form a subset only when the required sum is\n",
    "  # equal to the number\n",
    "  for s in range(1, s+1):\n",
    "    dp[0][s] = 1 if num[0] == s else 0\n",
    "\n",
    "  # process all subsets for all sums\n",
    "  for i in range(1, n):\n",
    "    for s in range(1, s+1):\n",
    "      dp[i][s] = dp[i - 1][s]\n",
    "      if s >= num[i]:\n",
    "        dp[i][s] += dp[i - 1][s - num[i]]\n",
    "\n",
    "  # the bottom-right corner will have our answer.\n",
    "  return dp[n - 1][s]"
   ],
   "metadata": {
    "collapsed": false
   }
  },
  {
   "cell_type": "code",
   "execution_count": null,
   "outputs": [],
   "source": [
    "def count_squares(matrix):\n",
    "    # if the matrix is empty, return 0\n",
    "    if len(matrix) == 0 or len(matrix[0]) == 0:\n",
    "        return 0\n",
    "\n",
    "    # create lookup table to store number of squares\n",
    "    lookup_table = [[0 for x in range(len(matrix[0]))] for x in range(len(matrix))]\n",
    "    result = 0\n",
    "\n",
    "    # copy first row and column of input matrix to lookup table\n",
    "    for i in range(len(matrix)):\n",
    "        lookup_table[i][0] = matrix[i][0]\n",
    "    for i in range(len(matrix[0])):\n",
    "        lookup_table[0][i] = matrix[0][i]\n",
    "\n",
    "    # iterate over the matrix and store the count od squares in lookup_table\n",
    "    for i in range(1, len(matrix)):\n",
    "        for j in range(1, len(matrix[0])):\n",
    "            # If matrix[i][j] is equal to 0\n",
    "            if (matrix[i][j] == 0):\n",
    "                continue\n",
    "\n",
    "            # there is at least one square submatrix at this location, hence the + 1\n",
    "            # in addition, find the minimum number of square submatrices\n",
    "            # whose bottom-right corner is one of the neighbours of this location.\n",
    "            lookup_table[i][j] = 1 + min(lookup_table[i - 1][j], lookup_table[i][j - 1], lookup_table[i - 1][j - 1])\n",
    "\n",
    "    # sum up the values in the lookup_table to get the count of square submatrices\n",
    "    for i in range(0, len(lookup_table)):\n",
    "        for j in range(0, len(lookup_table[0])):\n",
    "            result += lookup_table[i][j]\n",
    "\n",
    "    return result"
   ],
   "metadata": {
    "collapsed": false
   }
  },
  {
   "cell_type": "code",
   "execution_count": null,
   "outputs": [],
   "source": [
    "def min_refuel_stops(target, start_fuel, stations):\n",
    "    n = len(stations)\n",
    "    # creating an array to store the maximum distances\n",
    "    dp = [[0] * (n + 1) for _ in range(n + 1)]\n",
    "    i = 0\n",
    "    # fill up the first column of the table with the start fuel.\n",
    "    while (i <= n):\n",
    "        dp[i][0] = start_fuel\n",
    "        i += 1\n",
    "    i = 1\n",
    "    # iterating over all the stations from i = 1 to n\n",
    "    while (i <= n):\n",
    "        j = 1\n",
    "        # checking fueling stops from j = 1 to j = i\n",
    "        while (j <= i):\n",
    "            # refuel at current station\n",
    "            if (dp[i - 1][j - 1] >= stations[i - 1][0]):\n",
    "                dp[i][j] = max(dp[i - 1][j], dp[i - 1][j - 1] + stations[i - 1][1])\n",
    "            # not refuel at current station\n",
    "            else:\n",
    "                dp[i][j] = dp[i - 1][j]\n",
    "            j += 1\n",
    "        i += 1\n",
    "    i = 0\n",
    "    # After visiting all the stations, find minimum `j`\n",
    "    while (i <= n):\n",
    "        if (dp[n][i] >= target):\n",
    "            return i\n",
    "        i += 1\n",
    "    return -1"
   ],
   "metadata": {
    "collapsed": false
   }
  },
  {
   "cell_type": "code",
   "execution_count": null,
   "outputs": [],
   "source": [
    "def minimum_subarray_sum_difference(nums):\n",
    "    # Calculating the sum of the original array\n",
    "    sum_array = sum(nums)\n",
    "\n",
    "    # Calculating the number of rows and columns in the 2-D array\n",
    "    rows = len(nums)\n",
    "    cols = (sum_array // 2) + 1\n",
    "\n",
    "    # Initializing the 2-D array\n",
    "    dp = [[-1 for x in range(cols)] for y in range(rows)]\n",
    "\n",
    "    # The first column will be initialized to all 1s, since a sum s = 0\n",
    "    # will always be true if no elements are added to the subset\n",
    "    for i in range(rows):\n",
    "        dp[i][0] = 1\n",
    "\n",
    "    # For the first row, each entry will be 1 if the sum s is equal to the\n",
    "    # first element, and 0 otherwise\n",
    "    for s in range(1, cols):\n",
    "        dp[0][s] = nums[0] == s\n",
    "\n",
    "    # Iterating and filling the dp array\n",
    "    for i in range(1, rows):\n",
    "        for s in range(1, cols):\n",
    "            # Check if sum s can be obtained without nums[i] in the subarray\n",
    "            if dp[i - 1][s]:\n",
    "                dp[i][s] = dp[i - 1][s]\n",
    "\n",
    "            # Check if sum s can be obtained with nums[i] in the subarray\n",
    "            elif s >= nums[i]:\n",
    "                dp[i][s] = dp[i - 1][s - nums[i]]\n",
    "\n",
    "            # If neither of the above two conditions is true, sum s can not be\n",
    "            # obtained with nums[i] included in the subarray\n",
    "            else:\n",
    "                dp[i][s] = 0\n",
    "\n",
    "    # Find the largest index in the last row which is 1 and return the absolute\n",
    "    # difference between the two sums\n",
    "    for s in range(cols - 1, -1, -1):\n",
    "        if dp[rows - 1][s] == 1:\n",
    "            sum1 = s\n",
    "            sum2 = sum_array - sum1\n",
    "            return abs(sum2 - sum1)"
   ],
   "metadata": {
    "collapsed": false
   }
  }
 ],
 "metadata": {
  "kernelspec": {
   "display_name": "Python 3",
   "language": "python",
   "name": "python3"
  },
  "language_info": {
   "codemirror_mode": {
    "name": "ipython",
    "version": 2
   },
   "file_extension": ".py",
   "mimetype": "text/x-python",
   "name": "python",
   "nbconvert_exporter": "python",
   "pygments_lexer": "ipython2",
   "version": "2.7.6"
  }
 },
 "nbformat": 4,
 "nbformat_minor": 0
}
