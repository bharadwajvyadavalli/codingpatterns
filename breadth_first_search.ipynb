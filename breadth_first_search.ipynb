{
 "cells": [
  {
   "cell_type": "markdown",
   "source": [
    "Problem Statement\n",
    "Given a binary tree, populate an array to represent its level-by-level traversal.\n",
    "You should populate the values of all nodes of each level from left to right in separate sub-arrays."
   ],
   "metadata": {
    "collapsed": false
   }
  },
  {
   "cell_type": "code",
   "execution_count": null,
   "outputs": [],
   "source": [
    "class TreeNode:\n",
    "  def __init__(self, val):\n",
    "    self.val = val\n",
    "    self.left, self.right = None, None\n",
    "\n",
    "\n",
    "def traverse(root):\n",
    "  result = []\n",
    "  # TODO: Write your code here\n",
    "  if not root:\n",
    "    return result\n",
    "  stack = [root]\n",
    "  value=[[root.val]]\n",
    "  while stack:\n",
    "    current=[]\n",
    "    current_val=[]\n",
    "    for i in stack:\n",
    "      current_val.append(i.val)\n",
    "      if i.left:\n",
    "        current.append(i.left)\n",
    "      if i.right:\n",
    "        current.append(i.right)\n",
    "    result.append(current_val)\n",
    "    stack = current\n",
    "  return result\n"
   ],
   "metadata": {
    "collapsed": false
   }
  },
  {
   "cell_type": "markdown",
   "source": [
    "Problem Statement\n",
    "Given a binary tree, populate an array to represent the averages of all of its levels."
   ],
   "metadata": {
    "collapsed": false
   }
  },
  {
   "cell_type": "code",
   "execution_count": null,
   "outputs": [],
   "source": [
    "from collections import deque\n",
    "\n",
    "class TreeNode:\n",
    "  def __init__(self, val):\n",
    "    self.val = val\n",
    "    self.left, self.right = None, None\n",
    "\n",
    "\n",
    "def find_level_averages(root):\n",
    "  result = []\n",
    "  # TODO: Write your code here\n",
    "  if not root:\n",
    "    return result\n",
    "  queue = deque()\n",
    "  queue.append(root)\n",
    "\n",
    "  while queue:\n",
    "    value = 0\n",
    "    n = len(queue)\n",
    "    for i in range(n):\n",
    "      current = queue.popleft()\n",
    "      value += current.val\n",
    "\n",
    "      if current.left:\n",
    "        queue.append(current.left)\n",
    "      if current.right:\n",
    "        queue.append(current.right)\n",
    "    result.append(value/n)\n",
    "\n",
    "  return result"
   ],
   "metadata": {
    "collapsed": false
   }
  },
  {
   "cell_type": "markdown",
   "source": [
    "Problem Statement\n",
    "Given a binary tree and a node, find the level order successor of the given node in the tree.\n",
    "The level order successor is the node that appears right after the given node in the level order traversal."
   ],
   "metadata": {
    "collapsed": false
   }
  },
  {
   "cell_type": "code",
   "execution_count": null,
   "outputs": [],
   "source": [
    "from collections import deque\n",
    "\n",
    "\n",
    "class TreeNode:\n",
    "  def __init__(self, val):\n",
    "    self.val = val\n",
    "    self.left, self.right = None, None\n",
    "\n",
    "\n",
    "def find_successor(root, key):\n",
    "  # TODO: Write your code here\n",
    "  if not root:\n",
    "    return None\n",
    "\n",
    "  queue = deque()\n",
    "  queue.append(root)\n",
    "\n",
    "  flag = False\n",
    "  while queue:\n",
    "\n",
    "\n",
    "    for i in range(len(queue)):\n",
    "      current = queue.popleft()\n",
    "      if flag:\n",
    "        return current\n",
    "\n",
    "      if current.val == key:\n",
    "        flag = True\n",
    "\n",
    "      if current.left:\n",
    "        queue.append(current.left)\n",
    "      if current.right:\n",
    "        queue.append(current.right)\n",
    "  return None"
   ],
   "metadata": {
    "collapsed": false
   }
  },
  {
   "cell_type": "markdown",
   "source": [
    "Problem Statement\n",
    "Find the minimum depth of a binary tree.\n",
    "The minimum depth is the number of nodes along the shortest path from the root node to the nearest leaf node."
   ],
   "metadata": {
    "collapsed": false
   }
  },
  {
   "cell_type": "code",
   "execution_count": null,
   "outputs": [],
   "source": [
    "from collections import deque\n",
    "class TreeNode:\n",
    "  def __init__(self, val):\n",
    "    self.val = val\n",
    "    self.left, self.right = None, None\n",
    "\n",
    "\n",
    "def find_minimum_depth(root):\n",
    "  # TODO: Write your code here\n",
    "  if not root:\n",
    "    return 0\n",
    "\n",
    "  queue = deque()\n",
    "  queue.append(root)\n",
    "\n",
    "  depth=0\n",
    "\n",
    "  while queue:\n",
    "    depth += 1\n",
    "\n",
    "    for i in range(len(queue)):\n",
    "      current = queue.popleft()\n",
    "\n",
    "      if current.left is None and current.right is None:\n",
    "        return depth\n",
    "      if current.left:\n",
    "        queue.append(current.left)\n",
    "      if current.right:\n",
    "        queue.append(current.right)"
   ],
   "metadata": {
    "collapsed": false
   }
  },
  {
   "cell_type": "markdown",
   "source": [
    "Problem Challenge 2\n",
    "\n",
    "Right View of a Binary Tree (easy)\n",
    "\n",
    "Given a binary tree, return an array containing nodes in its right view.\n",
    "The right view of a binary tree is the set of nodes visible when the tree is seen from the right side."
   ],
   "metadata": {
    "collapsed": false
   }
  },
  {
   "cell_type": "code",
   "execution_count": null,
   "outputs": [],
   "source": [
    "class TreeNode:\n",
    "  def __init__(self, val):\n",
    "    self.val = val\n",
    "    self.left, self.right = None, None\n",
    "\n",
    "\n",
    "def tree_right_view(root):\n",
    "  result = []\n",
    "  # TODO: Write your code here\n",
    "  if not root:\n",
    "    return result\n",
    "\n",
    "  queue = deque()\n",
    "  queue.append(root)\n",
    "\n",
    "  while queue:\n",
    "    for i in range(len(queue)):\n",
    "\n",
    "      current = queue.popleft()\n",
    "\n",
    "      if current.left:\n",
    "        queue.append(current.left)\n",
    "      if current.right:\n",
    "        queue.append(current.right)\n",
    "\n",
    "    result.append(current)\n",
    "\n",
    "  return result"
   ],
   "metadata": {
    "collapsed": false
   }
  },
  {
   "cell_type": "markdown",
   "source": [
    "Problem Statement\n",
    "Given a binary tree, populate an array to represent its level-by-level traversal in reverse order, i.e., the lowest level comes first.\n",
    "You should populate the values of all nodes in each level from left to right in separate sub-arrays."
   ],
   "metadata": {
    "collapsed": false
   }
  },
  {
   "cell_type": "code",
   "execution_count": null,
   "outputs": [],
   "source": [
    "from collections import deque\n",
    "\n",
    "class TreeNode:\n",
    "  def __init__(self, val):\n",
    "    self.val = val\n",
    "    self.left, self.right = None, None\n",
    "\n",
    "def traverse(root):\n",
    "  result = deque()\n",
    "  # TODO: Write your code here\n",
    "  if not root:\n",
    "    return result\n",
    "\n",
    "  queue = deque()\n",
    "  queue.append(root)\n",
    "\n",
    "  while queue:\n",
    "    current = []\n",
    "    for i in range(len(queue)):\n",
    "      current_node = queue.popleft()\n",
    "      current.append(current_node.val)\n",
    "      if current_node.left:\n",
    "        queue.append(current_node.left)\n",
    "      if current_node.right:\n",
    "        queue.append(current_node.right)\n",
    "\n",
    "    result.appendleft(current)\n",
    "  return result"
   ],
   "metadata": {
    "collapsed": false
   }
  },
  {
   "cell_type": "markdown",
   "source": [
    "Problem Statement\n",
    "Given a binary tree, connect each node with its level order successor.\n",
    "The last node of each level should point to a null node."
   ],
   "metadata": {
    "collapsed": false
   }
  },
  {
   "cell_type": "code",
   "execution_count": null,
   "outputs": [],
   "source": [
    "from __future__ import print_function\n",
    "from collections import deque\n",
    "\n",
    "\n",
    "class TreeNode:\n",
    "  def __init__(self, val):\n",
    "    self.val = val\n",
    "    self.left, self.right, self.next = None, None, None\n",
    "\n",
    "  # level order traversal using 'next' pointer\n",
    "  def print_level_order(self):\n",
    "    nextLevelRoot = self\n",
    "    while nextLevelRoot:\n",
    "      current = nextLevelRoot\n",
    "      nextLevelRoot = None\n",
    "      while current:\n",
    "        print(str(current.val) + \" \", end='')\n",
    "        if not nextLevelRoot:\n",
    "          if current.left:\n",
    "            nextLevelRoot = current.left\n",
    "          elif current.right:\n",
    "            nextLevelRoot = current.right\n",
    "        current = current.next\n",
    "      print()\n",
    "\n",
    "\n",
    "def connect_level_order_siblings(root):\n",
    "  # TODO: Write your code here\n",
    "  if not root:\n",
    "    return None\n",
    "\n",
    "  queue = deque()\n",
    "  queue.append(root)\n",
    "\n",
    "  while queue:\n",
    "    n=len(queue)\n",
    "    previous = queue.popleft()\n",
    "    if previous.left:\n",
    "      queue.append(previous.left)\n",
    "    if previous.right:\n",
    "      queue.append(previous.right)\n",
    "\n",
    "    for i in range(1,n):\n",
    "      current = queue.popleft()\n",
    "      previous.next = current\n",
    "\n",
    "      if current.left:\n",
    "        queue.append(current.left)\n",
    "      if current.right:\n",
    "        queue.append(current.right)\n",
    "\n",
    "      previous = current\n",
    "    previous.next = None"
   ],
   "metadata": {
    "collapsed": false
   }
  },
  {
   "cell_type": "markdown",
   "source": [
    "Problem Challenge 1\n",
    "\n",
    "Connect All Level Order Siblings (medium)\n",
    "Given a binary tree, connect each node with its level order successor.\n",
    "The last node of each level should point to the first node of the next level."
   ],
   "metadata": {
    "collapsed": false
   }
  },
  {
   "cell_type": "code",
   "execution_count": null,
   "outputs": [],
   "source": [
    "from __future__ import print_function\n",
    "from collections import deque\n",
    "\n",
    "\n",
    "class TreeNode:\n",
    "  def __init__(self, val):\n",
    "    self.val = val\n",
    "    self.left, self.right, self.next = None, None, None\n",
    "\n",
    "  # tree traversal using 'next' pointer\n",
    "  def print_tree(self):\n",
    "    print(\"Traversal using 'next' pointer: \", end='')\n",
    "    current = self\n",
    "    while current:\n",
    "      print(str(current.val) + \" \", end='')\n",
    "      current = current.next\n",
    "\n",
    "\n",
    "def connect_all_siblings(root):\n",
    "  # TODO: Write your code here\n",
    "  if not root:\n",
    "    return None\n",
    "\n",
    "  queue = deque()\n",
    "  queue.append(root)\n",
    "\n",
    "  previous = None\n",
    "  while queue:\n",
    "    for i in range(len(queue)):\n",
    "      current = queue.popleft()\n",
    "\n",
    "      if previous is None:\n",
    "        previous = current\n",
    "      previous.next = current\n",
    "\n",
    "      if current.left:\n",
    "        queue.append(current.left)\n",
    "      if current.right:\n",
    "        queue.append(current.right)\n",
    "      previous = current"
   ],
   "metadata": {
    "collapsed": false
   }
  },
  {
   "cell_type": "markdown",
   "source": [
    "Problem Statement\n",
    "Given a binary tree, populate an array to represent its zigzag level order traversal.\n",
    "You should populate the values of all nodes of the first level from left to right,\n",
    "then right to left for the next level and keep alternating in the same manner for the following levels."
   ],
   "metadata": {
    "collapsed": false
   }
  },
  {
   "cell_type": "code",
   "execution_count": null,
   "outputs": [],
   "source": [
    "from collections import deque\n",
    "\n",
    "class TreeNode:\n",
    "  def __init__(self, val):\n",
    "    self.val = val\n",
    "    self.left, self.right = None, None\n",
    "\n",
    "def traverse(root):\n",
    "  result = []\n",
    "  # TODO: Write your code here\n",
    "  if not root:\n",
    "    return result\n",
    "\n",
    "  queue = deque()\n",
    "  queue.append(root)\n",
    "\n",
    "  flag = False\n",
    "  while queue:\n",
    "    current = []\n",
    "\n",
    "    if flag:\n",
    "      temp = deque()\n",
    "      for i in range(len(queue)):\n",
    "        current_node=queue.popleft()\n",
    "        current.append(current_node.val)\n",
    "\n",
    "        if current_node.right:\n",
    "          temp.appendleft(current_node.right)\n",
    "        if current_node.left:\n",
    "          temp.appendleft(current_node.left)\n",
    "\n",
    "      queue.extend(temp)\n",
    "      flag = False\n",
    "\n",
    "    else:\n",
    "      for i in range(len(queue)):\n",
    "        current_node=queue.popleft()\n",
    "        current.append(current_node.val)\n",
    "\n",
    "        if current_node.right:\n",
    "          queue.append(current_node.right)\n",
    "        if current_node.left:\n",
    "          queue.append(current_node.left)\n",
    "      flag = True\n",
    "\n",
    "    result.append(current)\n",
    "\n",
    "\n",
    "\n",
    "  return result"
   ],
   "metadata": {
    "collapsed": false
   }
  }
 ],
 "metadata": {
  "kernelspec": {
   "display_name": "Python 3",
   "language": "python",
   "name": "python3"
  },
  "language_info": {
   "codemirror_mode": {
    "name": "ipython",
    "version": 2
   },
   "file_extension": ".py",
   "mimetype": "text/x-python",
   "name": "python",
   "nbconvert_exporter": "python",
   "pygments_lexer": "ipython2",
   "version": "2.7.6"
  }
 },
 "nbformat": 4,
 "nbformat_minor": 0
}
