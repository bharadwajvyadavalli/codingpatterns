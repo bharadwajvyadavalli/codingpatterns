{
 "cells": [
  {
   "cell_type": "markdown",
   "source": [
    "Problem Statement\n",
    "Given a binary tree and a number ‘S’,\n",
    "find if the tree has a path from root-to-leaf such that the sum of all the node values of that path equals ‘S’."
   ],
   "metadata": {
    "collapsed": false
   }
  },
  {
   "cell_type": "code",
   "execution_count": null,
   "outputs": [],
   "source": [
    "class TreeNode:\n",
    "  def __init__(self, val, left=None, right=None):\n",
    "    self.val = val\n",
    "    self.left = left\n",
    "    self.right = right\n",
    "\n",
    "\n",
    "def has_path(root, sum):\n",
    "  # TODO: Write your code here\n",
    "  if not root:\n",
    "    return False\n",
    "\n",
    "  if root.val == sum and root.left is None and root.right is None:\n",
    "    return True\n",
    "\n",
    "  return has_path(root.left, sum - root.val) or has_path(root.right, sum - root.val)"
   ],
   "metadata": {
    "collapsed": false
   }
  },
  {
   "cell_type": "markdown",
   "source": [
    "Problem Statement\n",
    "Given a binary tree and a number ‘S’,\n",
    "find all paths from root-to-leaf such that the sum of all the node values of each path equals ‘S’."
   ],
   "metadata": {
    "collapsed": false
   }
  },
  {
   "cell_type": "code",
   "execution_count": null,
   "outputs": [],
   "source": [
    "class TreeNode:\n",
    "  def __init__(self, val, left=None, right=None):\n",
    "    self.val = val\n",
    "    self.left = left\n",
    "    self.right = right\n",
    "\n",
    "\n",
    "def find_paths(root, sum):\n",
    "  allPaths = []\n",
    "  find_current_paths(root, sum,[], allPaths)\n",
    "  return allPaths\n",
    "\n",
    "def find_current_paths(currentNode, sum, currentPath, allPaths):\n",
    "  if not currentNode:\n",
    "    return\n",
    "\n",
    "  currentPath.append(currentNode.val)\n",
    "\n",
    "\n",
    "  if currentNode.val == sum and currentNode.left is None and currentNode.right is None:\n",
    "    allPaths.append(list(currentPath))\n",
    "  else:\n",
    "    find_current_paths(currentNode.left, sum - currentNode.val, currentPath, allPaths)\n",
    "    find_current_paths(currentNode.right, sum - currentNode.val, currentPath, allPaths)\n",
    "\n",
    "  del currentPath[-1]"
   ],
   "metadata": {
    "collapsed": false
   }
  },
  {
   "cell_type": "markdown",
   "source": [
    "Problem Statement\n",
    "Given a binary tree and a number ‘S’,\n",
    "find all paths in the tree such that the sum of all the node values of each path equals ‘S’.\n",
    "Please note that the paths can start or end at any node but all paths must follow direction from parent to child (top to bottom).\n"
   ],
   "metadata": {
    "collapsed": false
   }
  },
  {
   "cell_type": "code",
   "execution_count": null,
   "outputs": [],
   "source": [
    "class TreeNode:\n",
    "  def __init__(self, val, left=None, right=None):\n",
    "    self.val = val\n",
    "    self.left = left\n",
    "    self.right = right\n",
    "\n",
    "\n",
    "def count_paths(root, S):\n",
    "  # TODO: Write your code here\n",
    "  return find_current_count(root,S,0)\n",
    "\n",
    "def find_current_count(currentNode, S, count):\n",
    "  if not currentNode:\n",
    "    return 0\n",
    "\n",
    "  if currentNode.val == S:\n",
    "    count += 1\n",
    "\n",
    "  return count + find_current_count(currentNode.left, S, count) + find_current_count(currentNode.right, S, count) + find_current_count(currentNode.left, S - currentNode.val, count) + find_current_count(currentNode.right, S - currentNode.val, count)\n"
   ],
   "metadata": {
    "collapsed": false
   }
  },
  {
   "cell_type": "markdown",
   "source": [
    "Problem Statement\n",
    "Given a binary tree and a number sequence, find if the sequence is present as a root-to-leaf path in the given tree.\n"
   ],
   "metadata": {
    "collapsed": false
   }
  },
  {
   "cell_type": "code",
   "execution_count": null,
   "outputs": [],
   "source": [
    "class TreeNode:\n",
    "  def __init__(self, val, left=None, right=None):\n",
    "    self.val = val\n",
    "    self.left = left\n",
    "    self.right = right\n",
    "\n",
    "def find_path(root, sequence):\n",
    "  # TODO: Write your code here\n",
    "\n",
    "  return find_current_path(root, sequence)\n",
    "\n",
    "def find_current_path(currentNode, sequence):\n",
    "\n",
    "  if not currentNode:\n",
    "    return False\n",
    "\n",
    "  if currentNode.val != sequence[0]:\n",
    "    return False\n",
    "  else:\n",
    "    if currentNode.left is None and currentNode.right is None:\n",
    "      return True\n",
    "    else:\n",
    "      del sequence[0]\n",
    "      return find_current_path(currentNode.left, sequence) or find_current_path(currentNode.right, sequence)"
   ],
   "metadata": {
    "collapsed": false
   }
  },
  {
   "cell_type": "markdown",
   "source": [
    "Tree Diameter (medium)\n",
    "\n",
    "Given a binary tree, find the length of its diameter.\n",
    "The diameter of a tree is the number of nodes on the longest path between any two leaf nodes.\n",
    "The diameter of a tree may or may not pass through the root.\n",
    "\n",
    "Note: You can always assume that there are at least two leaf nodes in the given tree."
   ],
   "metadata": {
    "collapsed": false
   }
  },
  {
   "cell_type": "code",
   "execution_count": null,
   "outputs": [],
   "source": [
    "class TreeNode:\n",
    "  def __init__(self, val, left=None, right=None):\n",
    "    self.val = val\n",
    "    self.left = left\n",
    "    self.right = right\n",
    "\n",
    "\n",
    "class TreeDiameter:\n",
    "\n",
    "  def __init__(self):\n",
    "    self.treeDiameter = 0\n",
    "\n",
    "  def find_diameter(self, root):\n",
    "    self.calculate_height(root)\n",
    "    return self.treeDiameter\n",
    "\n",
    "  def calculate_height(self, currentNode):\n",
    "    if currentNode is None:\n",
    "      return 0\n",
    "\n",
    "    leftTreeHeight = self.calculate_height(currentNode.left)\n",
    "    rightTreeHeight = self.calculate_height(currentNode.right)\n",
    "\n",
    "    # diameter at the current node will be equal to the height of left subtree +\n",
    "    # the height of right sub-trees + '1' for the current node\n",
    "    diameter = leftTreeHeight + rightTreeHeight + 1\n",
    "\n",
    "    # update the global tree diameter\n",
    "    self.treeDiameter = max(self.treeDiameter, diameter)\n",
    "\n",
    "    # height of the current node will be equal to the maximum of the hights of\n",
    "    # left or right subtrees plus '1' for the current node\n",
    "    return max(leftTreeHeight, rightTreeHeight) + 1\n"
   ],
   "metadata": {
    "collapsed": false
   }
  },
  {
   "cell_type": "markdown",
   "source": [
    "Problem Statement\n",
    "Given a binary tree where each node can only have a digit (0-9) value,\n",
    "each root-to-leaf path will represent a number. Find the total sum of all the numbers represented by all paths."
   ],
   "metadata": {
    "collapsed": false
   }
  },
  {
   "cell_type": "code",
   "execution_count": null,
   "outputs": [],
   "source": [
    "class TreeNode:\n",
    "  def __init__(self, val, left=None, right=None):\n",
    "    self.val = val\n",
    "    self.left = left\n",
    "    self.right = right\n",
    "\n",
    "\n",
    "def find_sum_of_path_numbers(root):\n",
    "  return find_root_to_leaf_path_numbers(root, 0)\n",
    "\n",
    "def find_root_to_leaf_path_numbers(currentNode, currentSum):\n",
    "  if not currentNode:\n",
    "    return 0\n",
    "\n",
    "  currentSum = currentSum*10 + currentNode.val\n",
    "\n",
    "  if currentNode.left is None and currentNode.right is None:\n",
    "    return currentSum\n",
    "  else:\n",
    "    return find_root_to_leaf_path_numbers(currentNode.left, currentSum) + find_root_to_leaf_path_numbers(currentNode.right, currentSum)\n",
    "\n",
    "\n"
   ],
   "metadata": {
    "collapsed": false
   }
  },
  {
   "cell_type": "markdown",
   "source": [
    "Problem Challenge 2\n",
    "\n",
    "Path with Maximum Sum (hard)\n",
    "\n",
    "Find the path with the maximum sum in a given binary tree. Write a function that returns the maximum sum.\n",
    "A path can be defined as a sequence of nodes between any two nodes and doesn’t necessarily pass through the root."
   ],
   "metadata": {
    "collapsed": false
   }
  },
  {
   "cell_type": "code",
   "execution_count": null,
   "outputs": [],
   "source": [
    "class TreeNode:\n",
    "  def __init__(self, val, left=None, right=None):\n",
    "    self.val = val\n",
    "    self.left = left\n",
    "    self.right = right\n",
    "\n",
    "\n",
    "class MaximumPathSum:\n",
    "  def find_maximum_path_sum(self, root):\n",
    "    # TODO: Write your code here\n",
    "    self.globalMaximum = -math.inf\n",
    "    self.find_maximum_path_sum_recursive(root)\n",
    "    return self.globalMaximum\n",
    "\n",
    "  def find_maximum_path_sum_recursive(self, currentNode):\n",
    "    if not currentNode:\n",
    "      return 0\n",
    "\n",
    "    maximumLeft = max(0, self.find_maximum_path_sum_recursive(currentNode.left))\n",
    "    maximumRight = max(0, self.find_maximum_path_sum_recursive(currentNode.right))\n",
    "\n",
    "    self.globalMaximum = max(self.globalMaximum, maximumLeft + currentNode.val + maximumRight)\n",
    "\n",
    "    return max(maximumLeft, maximumRight) + currentNode.val"
   ],
   "metadata": {
    "collapsed": false
   }
  }
 ],
 "metadata": {
  "kernelspec": {
   "display_name": "Python 3",
   "language": "python",
   "name": "python3"
  },
  "language_info": {
   "codemirror_mode": {
    "name": "ipython",
    "version": 2
   },
   "file_extension": ".py",
   "mimetype": "text/x-python",
   "name": "python",
   "nbconvert_exporter": "python",
   "pygments_lexer": "ipython2",
   "version": "2.7.6"
  }
 },
 "nbformat": 4,
 "nbformat_minor": 0
}
